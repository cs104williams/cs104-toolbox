{
 "cells": [
  {
   "cell_type": "code",
   "execution_count": 1,
   "id": "1da78904-5769-4e20-a5dc-ba5069fd27fb",
   "metadata": {},
   "outputs": [],
   "source": [
    "import cs104\n",
    "from datascience import *\n",
    "import numpy as np\n",
    "%matplotlib inline"
   ]
  },
  {
   "cell_type": "code",
   "execution_count": 2,
   "id": "25f8e328-5e19-444a-ba4d-52fed5f10db8",
   "metadata": {},
   "outputs": [],
   "source": [
    "finches = Table().read_table(\"finch_beaks_1975_dirty.csv\")"
   ]
  },
  {
   "cell_type": "code",
   "execution_count": 3,
   "id": "5cc925ef",
   "metadata": {},
   "outputs": [
    {
     "data": {
      "text/html": [
       "<table border=\"1\" class=\"dataframe\">\n",
       "    <thead>\n",
       "        <tr>\n",
       "            <th>band</th> <th>species</th> <th>Beak length, mm</th> <th>Beak depth, mm</th>\n",
       "        </tr>\n",
       "    </thead>\n",
       "    <tbody>\n",
       "        <tr>\n",
       "            <td>2   </td> <td>fortis </td> <td>9.4            </td> <td>8             </td>\n",
       "        </tr>\n",
       "        <tr>\n",
       "            <td>9   </td> <td>fortis </td> <td>9              </td> <td>nan           </td>\n",
       "        </tr>\n",
       "        <tr>\n",
       "            <td>12.5</td> <td>fortis </td> <td>9.5            </td> <td>7.5           </td>\n",
       "        </tr>\n",
       "        <tr>\n",
       "            <td>15  </td> <td>nan    </td> <td>missing        </td> <td>8             </td>\n",
       "        </tr>\n",
       "        <tr>\n",
       "            <td>305 </td> <td>fortis </td> <td>11.5           </td> <td>missing       </td>\n",
       "        </tr>\n",
       "        <tr>\n",
       "            <td>307 </td> <td>for    </td> <td>11.1           </td> <td>8.6           </td>\n",
       "        </tr>\n",
       "        <tr>\n",
       "            <td>308 </td> <td>fortis </td> <td>nan            </td> <td>8.4           </td>\n",
       "        </tr>\n",
       "        <tr>\n",
       "            <td>nan </td> <td>fortis </td> <td>11.5           </td> <td>9.8           </td>\n",
       "        </tr>\n",
       "        <tr>\n",
       "            <td>311 </td> <td>fortis </td> <td>10.8           </td> <td>9.2           </td>\n",
       "        </tr>\n",
       "        <tr>\n",
       "            <td>312 </td> <td>fortis </td> <td>11.3           </td> <td>9             </td>\n",
       "        </tr>\n",
       "    </tbody>\n",
       "</table>\n",
       "<p>... (78 rows omitted)</p>"
      ],
      "text/plain": [
       "band | species | Beak length, mm | Beak depth, mm\n",
       "2    | fortis  | 9.4             | 8\n",
       "9    | fortis  | 9               | nan\n",
       "12.5 | fortis  | 9.5             | 7.5\n",
       "15   | nan     | missing         | 8\n",
       "305  | fortis  | 11.5            | missing\n",
       "307  | for     | 11.1            | 8.6\n",
       "308  | fortis  | nan             | 8.4\n",
       "nan  | fortis  | 11.5            | 9.8\n",
       "311  | fortis  | 10.8            | 9.2\n",
       "312  | fortis  | 11.3            | 9\n",
       "... (78 rows omitted)"
      ]
     },
     "execution_count": 3,
     "metadata": {},
     "output_type": "execute_result"
    }
   ],
   "source": [
    "finches"
   ]
  },
  {
   "cell_type": "code",
   "execution_count": 4,
   "id": "0babecd8",
   "metadata": {},
   "outputs": [
    {
     "data": {
      "text/plain": [
       "(band | species | Beak length, mm | Beak depth, mm\n",
       " 2    | fortis  | 9.4             | 8\n",
       " 9    | fortis  | 9               | nan\n",
       " 12.5 | fortis  | 9.5             | 7.5\n",
       " 305  | fortis  | 11.5            | missing\n",
       " 307  | for     | 11.1            | 8.6\n",
       " 308  | fortis  | nan             | 8.4\n",
       " nan  | fortis  | 11.5            | 9.8\n",
       " 311  | fortis  | 10.8            | 9.2\n",
       " 312  | fortis  | 11.3            | 9\n",
       " 313  | fortis  | 11.5            | 9.5\n",
       " ... (77 rows omitted),\n",
       " band | species | Beak length, mm | Beak depth, mm\n",
       " 15   | nan     | missing         | 8)"
      ]
     },
     "execution_count": 4,
     "metadata": {},
     "output_type": "execute_result"
    }
   ],
   "source": [
    "cs104.with_clean_columns(finches, 'species', str)"
   ]
  },
  {
   "cell_type": "code",
   "execution_count": 5,
   "id": "f229bce9",
   "metadata": {},
   "outputs": [
    {
     "data": {
      "text/plain": [
       "(band | species | Beak length, mm | Beak depth, mm\n",
       " 2    | fortis  | 9.4             | 8\n",
       " 9    | fortis  | 9               | nan\n",
       " 12.5 | fortis  | 9.5             | 7.5\n",
       " 305  | fortis  | 11.5            | missing\n",
       " 307  | for     | 11.1            | 8.6\n",
       " nan  | fortis  | 11.5            | 9.8\n",
       " 311  | fortis  | 10.8            | 9.2\n",
       " 312  | fortis  | 11.3            | 9\n",
       " 313  | fortis  | 11.5            | 9.5\n",
       " 314  | fortis  | 11.5            | 8.9\n",
       " ... (73 rows omitted),\n",
       " band | species  | Beak length, mm | Beak depth, mm\n",
       " 308  | fortis   | nan             | 8.4\n",
       " 402  | fortis   | nan             | 8.8\n",
       " 724  | scandens | nan             | nan\n",
       " 15   | nan      | missing         | 8\n",
       " 326  | fortis   | missing         | 9.1)"
      ]
     },
     "execution_count": 5,
     "metadata": {},
     "output_type": "execute_result"
    }
   ],
   "source": [
    "cs104.with_clean_columns(finches, 'Beak length, mm', float)"
   ]
  },
  {
   "cell_type": "code",
   "execution_count": 6,
   "id": "3257c76d-a7c2-48fc-b734-25d4cb5824a0",
   "metadata": {},
   "outputs": [
    {
     "data": {
      "text/plain": [
       "(band | species | Beak length, mm | Beak depth, mm\n",
       " 2    | fortis  | 9.4             | 8\n",
       " 9    | fortis  | 9               | nan\n",
       " 12.5 | fortis  | 9.5             | 7.5\n",
       " 305  | fortis  | 11.5            | missing\n",
       " 307  | for     | 11.1            | 8.6\n",
       " nan  | fortis  | 11.5            | 9.8\n",
       " 311  | fortis  | 10.8            | 9.2\n",
       " 312  | fortis  | 11.3            | 9\n",
       " 313  | fortis  | 11.5            | 9.5\n",
       " 314  | fortis  | 11.5            | 8.9\n",
       " ... (73 rows omitted),\n",
       " band | species  | Beak length, mm | Beak depth, mm\n",
       " 308  | fortis   | nan             | 8.4\n",
       " 402  | fortis   | nan             | 8.8\n",
       " 724  | scandens | nan             | nan\n",
       " 15   | nan      | missing         | 8\n",
       " 326  | fortis   | missing         | 9.1)"
      ]
     },
     "execution_count": 6,
     "metadata": {},
     "output_type": "execute_result"
    }
   ],
   "source": [
    "cs104.with_clean_columns(finches, 'Beak length, mm', float, 'species', str)"
   ]
  },
  {
   "cell_type": "code",
   "execution_count": 7,
   "id": "82c92f54",
   "metadata": {},
   "outputs": [],
   "source": [
    "k,r = cs104.clean(finches, [ int, str, float, float ])"
   ]
  },
  {
   "cell_type": "code",
   "execution_count": 8,
   "id": "89f51b01",
   "metadata": {},
   "outputs": [
    {
     "data": {
      "text/html": [
       "<table border=\"1\" class=\"dataframe\">\n",
       "    <thead>\n",
       "        <tr>\n",
       "            <th>band</th> <th>species</th> <th>Beak length, mm</th> <th>Beak depth, mm</th>\n",
       "        </tr>\n",
       "    </thead>\n",
       "    <tbody>\n",
       "        <tr>\n",
       "            <td>2   </td> <td>fortis </td> <td>9.4            </td> <td>8             </td>\n",
       "        </tr>\n",
       "        <tr>\n",
       "            <td>307 </td> <td>for    </td> <td>11.1           </td> <td>8.6           </td>\n",
       "        </tr>\n",
       "        <tr>\n",
       "            <td>311 </td> <td>fortis </td> <td>10.8           </td> <td>9.2           </td>\n",
       "        </tr>\n",
       "        <tr>\n",
       "            <td>312 </td> <td>fortis </td> <td>11.3           </td> <td>9             </td>\n",
       "        </tr>\n",
       "        <tr>\n",
       "            <td>313 </td> <td>fortis </td> <td>11.5           </td> <td>9.5           </td>\n",
       "        </tr>\n",
       "        <tr>\n",
       "            <td>314 </td> <td>fortis </td> <td>11.5           </td> <td>8.9           </td>\n",
       "        </tr>\n",
       "        <tr>\n",
       "            <td>315 </td> <td>fortis </td> <td>9.7            </td> <td>8.8           </td>\n",
       "        </tr>\n",
       "        <tr>\n",
       "            <td>316 </td> <td>fortis </td> <td>10.9           </td> <td>9.85          </td>\n",
       "        </tr>\n",
       "        <tr>\n",
       "            <td>320 </td> <td>fortis </td> <td>10.1           </td> <td>8.9           </td>\n",
       "        </tr>\n",
       "        <tr>\n",
       "            <td>321 </td> <td>fortis </td> <td>10.6           </td> <td>8.5           </td>\n",
       "        </tr>\n",
       "    </tbody>\n",
       "</table>\n",
       "<p>... (64 rows omitted)</p>"
      ],
      "text/plain": [
       "band | species | Beak length, mm | Beak depth, mm\n",
       "2    | fortis  | 9.4             | 8\n",
       "307  | for     | 11.1            | 8.6\n",
       "311  | fortis  | 10.8            | 9.2\n",
       "312  | fortis  | 11.3            | 9\n",
       "313  | fortis  | 11.5            | 9.5\n",
       "314  | fortis  | 11.5            | 8.9\n",
       "315  | fortis  | 9.7             | 8.8\n",
       "316  | fortis  | 10.9            | 9.85\n",
       "320  | fortis  | 10.1            | 8.9\n",
       "321  | fortis  | 10.6            | 8.5\n",
       "... (64 rows omitted)"
      ]
     },
     "execution_count": 8,
     "metadata": {},
     "output_type": "execute_result"
    }
   ],
   "source": [
    "k"
   ]
  },
  {
   "cell_type": "code",
   "execution_count": 9,
   "id": "0e232606",
   "metadata": {},
   "outputs": [
    {
     "data": {
      "text/html": [
       "<table border=\"1\" class=\"dataframe\">\n",
       "    <thead>\n",
       "        <tr>\n",
       "            <th>band</th> <th>species</th> <th>Beak length, mm</th> <th>Beak depth, mm</th>\n",
       "        </tr>\n",
       "    </thead>\n",
       "    <tbody>\n",
       "        <tr>\n",
       "            <td>nan    </td> <td>fortis  </td> <td>11.5           </td> <td>9.8           </td>\n",
       "        </tr>\n",
       "        <tr>\n",
       "            <td>12.5   </td> <td>fortis  </td> <td>9.5            </td> <td>7.5           </td>\n",
       "        </tr>\n",
       "        <tr>\n",
       "            <td>missing</td> <td>fortis  </td> <td>10.8           </td> <td>9.4           </td>\n",
       "        </tr>\n",
       "        <tr>\n",
       "            <td>1842.2 </td> <td>scandens</td> <td>14.83          </td> <td>8.3           </td>\n",
       "        </tr>\n",
       "        <tr>\n",
       "            <td>15     </td> <td>nan     </td> <td>missing        </td> <td>8             </td>\n",
       "        </tr>\n",
       "        <tr>\n",
       "            <td>308    </td> <td>fortis  </td> <td>nan            </td> <td>8.4           </td>\n",
       "        </tr>\n",
       "        <tr>\n",
       "            <td>402    </td> <td>fortis  </td> <td>nan            </td> <td>8.8           </td>\n",
       "        </tr>\n",
       "        <tr>\n",
       "            <td>724    </td> <td>scandens</td> <td>nan            </td> <td>nan           </td>\n",
       "        </tr>\n",
       "        <tr>\n",
       "            <td>326    </td> <td>fortis  </td> <td>missing        </td> <td>9.1           </td>\n",
       "        </tr>\n",
       "        <tr>\n",
       "            <td>9      </td> <td>fortis  </td> <td>9.0            </td> <td>nan           </td>\n",
       "        </tr>\n",
       "    </tbody>\n",
       "</table>\n",
       "<p>... (4 rows omitted)</p>"
      ],
      "text/plain": [
       "band    | species  | Beak length, mm | Beak depth, mm\n",
       "nan     | fortis   | 11.5            | 9.8\n",
       "12.5    | fortis   | 9.5             | 7.5\n",
       "missing | fortis   | 10.8            | 9.4\n",
       "1842.2  | scandens | 14.83           | 8.3\n",
       "15      | nan      | missing         | 8\n",
       "308     | fortis   | nan             | 8.4\n",
       "402     | fortis   | nan             | 8.8\n",
       "724     | scandens | nan             | nan\n",
       "326     | fortis   | missing         | 9.1\n",
       "9       | fortis   | 9.0             | nan\n",
       "... (4 rows omitted)"
      ]
     },
     "execution_count": 9,
     "metadata": {},
     "output_type": "execute_result"
    }
   ],
   "source": [
    "r"
   ]
  },
  {
   "cell_type": "code",
   "execution_count": null,
   "id": "3907f981",
   "metadata": {},
   "outputs": [],
   "source": []
  }
 ],
 "metadata": {
  "kernelspec": {
   "display_name": "Python 3 (ipykernel)",
   "language": "python",
   "name": "python3"
  },
  "language_info": {
   "codemirror_mode": {
    "name": "ipython",
    "version": 3
   },
   "file_extension": ".py",
   "mimetype": "text/x-python",
   "name": "python",
   "nbconvert_exporter": "python",
   "pygments_lexer": "ipython3",
   "version": "3.9.13"
  },
  "vscode": {
   "interpreter": {
    "hash": "aee8b7b246df8f9039afb4144a1f6fd8d2ca17a180786b69acc140d282b71a49"
   }
  }
 },
 "nbformat": 4,
 "nbformat_minor": 5
}
