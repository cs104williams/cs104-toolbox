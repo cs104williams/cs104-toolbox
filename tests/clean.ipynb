{
 "cells": [
  {
   "cell_type": "code",
   "execution_count": null,
   "id": "1da78904-5769-4e20-a5dc-ba5069fd27fb",
   "metadata": {},
   "outputs": [],
   "source": [
    "import cs104\n",
    "from datascience import *\n",
    "import numpy as np\n",
    "%matplotlib inline"
   ]
  },
  {
   "cell_type": "code",
   "execution_count": null,
   "id": "25f8e328-5e19-444a-ba4d-52fed5f10db8",
   "metadata": {},
   "outputs": [],
   "source": [
    "finches = Table().read_table(\"finch_beaks_1975_dirty.csv\")"
   ]
  },
  {
   "cell_type": "code",
   "execution_count": null,
   "id": "5cc925ef",
   "metadata": {},
   "outputs": [],
   "source": [
    "finches"
   ]
  },
  {
   "cell_type": "code",
   "execution_count": null,
   "id": "0babecd8",
   "metadata": {},
   "outputs": [],
   "source": [
    "cs104.with_clean_columns(finches, 'species', str)"
   ]
  },
  {
   "cell_type": "code",
   "execution_count": null,
   "id": "f229bce9",
   "metadata": {},
   "outputs": [],
   "source": [
    "cs104.with_clean_columns(finches, 'Beak length, mm', float)"
   ]
  },
  {
   "cell_type": "code",
   "execution_count": null,
   "id": "3257c76d-a7c2-48fc-b734-25d4cb5824a0",
   "metadata": {},
   "outputs": [],
   "source": [
    "cs104.with_clean_columns(finches, 'Beak length, mm', float, 'species', str)"
   ]
  },
  {
   "cell_type": "code",
   "execution_count": null,
   "id": "ce3ab85c-0d1a-42b3-b59e-6f2df1dad913",
   "metadata": {},
   "outputs": [],
   "source": [
    "finches.with_clean_columns('Beak length, mm', float, 'species', str)"
   ]
  },
  {
   "cell_type": "code",
   "execution_count": null,
   "id": "82c92f54",
   "metadata": {},
   "outputs": [],
   "source": [
    "k,r = cs104.clean(finches, [ int, str, float, float ])"
   ]
  },
  {
   "cell_type": "code",
   "execution_count": null,
   "id": "89f51b01",
   "metadata": {},
   "outputs": [],
   "source": [
    "k"
   ]
  },
  {
   "cell_type": "code",
   "execution_count": null,
   "id": "0e232606",
   "metadata": {},
   "outputs": [],
   "source": [
    "r"
   ]
  },
  {
   "cell_type": "code",
   "execution_count": null,
   "id": "3907f981",
   "metadata": {},
   "outputs": [],
   "source": []
  }
 ],
 "metadata": {
  "kernelspec": {
   "display_name": "Python 3 (ipykernel)",
   "language": "python",
   "name": "python3"
  },
  "language_info": {
   "codemirror_mode": {
    "name": "ipython",
    "version": 3
   },
   "file_extension": ".py",
   "mimetype": "text/x-python",
   "name": "python",
   "nbconvert_exporter": "python",
   "pygments_lexer": "ipython3",
   "version": "3.9.13"
  },
  "vscode": {
   "interpreter": {
    "hash": "aee8b7b246df8f9039afb4144a1f6fd8d2ca17a180786b69acc140d282b71a49"
   }
  }
 },
 "nbformat": 4,
 "nbformat_minor": 5
}
