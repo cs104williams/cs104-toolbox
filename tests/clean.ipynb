{
 "cells": [
  {
   "cell_type": "code",
   "execution_count": null,
   "id": "1da78904-5769-4e20-a5dc-ba5069fd27fb",
   "metadata": {
    "tags": []
   },
   "outputs": [],
   "source": [
    "import cs104\n",
    "from datascience import *\n",
    "import numpy as np\n",
    "%matplotlib inline"
   ]
  },
  {
   "cell_type": "code",
   "execution_count": null,
   "id": "25f8e328-5e19-444a-ba4d-52fed5f10db8",
   "metadata": {
    "tags": []
   },
   "outputs": [],
   "source": [
    "finches = Table().read_table(\"finch_beaks_1975_dirty.csv\")"
   ]
  },
  {
   "cell_type": "code",
   "execution_count": null,
   "id": "5cc925ef",
   "metadata": {
    "tags": []
   },
   "outputs": [],
   "source": [
    "finches"
   ]
  },
  {
   "cell_type": "code",
   "execution_count": null,
   "id": "0babecd8",
   "metadata": {
    "tags": []
   },
   "outputs": [],
   "source": [
    "finches.take_clean('species', str)"
   ]
  },
  {
   "cell_type": "code",
   "execution_count": null,
   "id": "f229bce9",
   "metadata": {
    "tags": []
   },
   "outputs": [],
   "source": [
    "finches.take_clean('Beak length, mm', float)"
   ]
  },
  {
   "cell_type": "code",
   "execution_count": null,
   "id": "3257c76d-a7c2-48fc-b734-25d4cb5824a0",
   "metadata": {
    "tags": []
   },
   "outputs": [],
   "source": [
    "finches.take_clean('Beak length, mm', float, 'species', str)"
   ]
  },
  {
   "cell_type": "code",
   "execution_count": null,
   "id": "ce3ab85c-0d1a-42b3-b59e-6f2df1dad913",
   "metadata": {
    "tags": []
   },
   "outputs": [],
   "source": [
    "finches.take_messy('Beak length, mm', float, 'species', str)"
   ]
  },
  {
   "cell_type": "code",
   "execution_count": null,
   "id": "3907f981",
   "metadata": {
    "tags": []
   },
   "outputs": [],
   "source": [
    "dirty_tiles = Table().with_columns({\n",
    "                'letter': make_array('a', 'b', 'c', 'z'),\n",
    "                'count':  make_array(  9,   float('nan'),   3,   \"one\"),\n",
    "                'points': make_array(  1,   2,   3.2,  10),\n",
    "              })  "
   ]
  },
  {
   "cell_type": "code",
   "execution_count": null,
   "id": "fe567c08-4a72-49b4-ad40-14cb7a446554",
   "metadata": {
    "tags": []
   },
   "outputs": [],
   "source": [
    "dirty_tiles"
   ]
  },
  {
   "cell_type": "code",
   "execution_count": null,
   "id": "f10af242-579a-45c4-ae99-95ef769d42ff",
   "metadata": {
    "tags": []
   },
   "outputs": [],
   "source": [
    "dirty_tiles.take_clean('points', int)"
   ]
  },
  {
   "cell_type": "code",
   "execution_count": null,
   "id": "bc888294-6d77-4a4c-a812-d08974969d16",
   "metadata": {},
   "outputs": [],
   "source": []
  }
 ],
 "metadata": {
  "kernelspec": {
   "display_name": "Python 3 (ipykernel)",
   "language": "python",
   "name": "python3"
  },
  "language_info": {
   "codemirror_mode": {
    "name": "ipython",
    "version": 3
   },
   "file_extension": ".py",
   "mimetype": "text/x-python",
   "name": "python",
   "nbconvert_exporter": "python",
   "pygments_lexer": "ipython3",
   "version": "3.9.15"
  },
  "vscode": {
   "interpreter": {
    "hash": "aee8b7b246df8f9039afb4144a1f6fd8d2ca17a180786b69acc140d282b71a49"
   }
  }
 },
 "nbformat": 4,
 "nbformat_minor": 5
}
