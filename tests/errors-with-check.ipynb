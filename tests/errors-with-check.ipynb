{
 "cells": [
  {
   "cell_type": "code",
   "execution_count": null,
   "id": "33e8ce77-7520-45e6-8aea-13a3cc37acca",
   "metadata": {},
   "outputs": [],
   "source": [
    "from cs104 import *"
   ]
  },
  {
   "cell_type": "code",
   "execution_count": null,
   "id": "fa1d93de-5aa2-4ca5-9b62-c5a964884a0d",
   "metadata": {},
   "outputs": [],
   "source": [
    "check(False) # fail\n",
    "check(False) # fail -- put messages here like this!\n",
    "check(True)  # pass\n",
    "check(make_array(1,2,3,4) < 3)"
   ]
  },
  {
   "cell_type": "code",
   "execution_count": null,
   "id": "257793fd-cedc-4311-80e3-360600dd593d",
   "metadata": {},
   "outputs": [],
   "source": [
    "check_close(1,1.0001) # fail\n",
    "check_close(1, 1.3, plus_or_minus=.3) # pass\n",
    "check_close(make_array(1,1,0.999), 1.3, plus_or_minus=.3)"
   ]
  },
  {
   "cell_type": "code",
   "execution_count": null,
   "id": "06bf853f-66b4-46d1-9ada-8826a27a5664",
   "metadata": {
    "tags": []
   },
   "outputs": [],
   "source": [
    "check_in(1, np.arange(0,10))\n",
    "check_in(1, np.arange(0,1))\n",
    "check_in(-1, np.arange(0,20))"
   ]
  },
  {
   "cell_type": "code",
   "execution_count": null,
   "id": "56c127d2-8820-4953-8f99-d3b8b5338565",
   "metadata": {},
   "outputs": [],
   "source": [
    "check_between(3, make_array(1,5)) # pass\n",
    "check_between(3, 1,5) # pass\n",
    "check_between(3, 1,3) # fail\n",
    "check_between(1, 1,3) # pass\n",
    "check_between(-3, 1,3) # fail\n",
    "#\n",
    "x = 2\n",
    "check_between(x,[1,3]) # pass\n",
    "check_between(x,1,3)   # pass\n",
    "check_between(-x,[1,3]) # fail\n",
    "check_between(-x,1,3)   # fail\n",
    "y = [1,3]\n",
    "check_between(x,y) # pass\n",
    "check_between(-2,y) #fail\n",
    "check_between(0,1,2,3)"
   ]
  },
  {
   "cell_type": "code",
   "execution_count": null,
   "id": "49324486-c665-47a2-9453-0b9ccfad3baf",
   "metadata": {},
   "outputs": [],
   "source": [
    "check_less_than(1,2,4)\n",
    "check_less_than(1,2,1)\n",
    "check_less_than(1,make_array(1,3,4),3)\n",
    "check_less_than(1,make_array(2,1,4,2,1,4,2,1,4,2,1,4,2,1,4,2,1,4,2,1,4,2,1,4,2,1,4,2,1,4,2,1,4,2,1,4,2,1,4,2,1,4,2,1,4,2,1,4))\n",
    "x = make_array(2,1,4,2,1,4,2,1,4,2,1,4,2,1,4,2,1,4,2,1,4,2,1,4,2,1,4,2,1,4,2,1,4,2,1,4,2,1,4,2,1,4,2,1,4,2,1,4)\n",
    "check_less_than(10,x)"
   ]
  },
  {
   "cell_type": "code",
   "execution_count": null,
   "id": "a4ab31b2-20b5-4f31-8891-7125056f88a3",
   "metadata": {},
   "outputs": [],
   "source": [
    "check_less_than_or_equal(1,1,1)\n",
    "check_less_than_or_equal(1,make_array(2,3,4))"
   ]
  },
  {
   "cell_type": "code",
   "execution_count": null,
   "id": "81db856b-b1f2-4dd0-8e36-8382da144f10",
   "metadata": {},
   "outputs": [],
   "source": [
    "check_less_than_or_equal(1,make_array(2,3,4,-1))\n",
    "check_less_than_or_equal(1,make_array(2,3,4,10), 11, 12, 13, 11)"
   ]
  },
  {
   "cell_type": "code",
   "execution_count": null,
   "id": "067ea084-78e5-4066-8bcd-228033491a6f",
   "metadata": {},
   "outputs": [],
   "source": [
    "check_equal(1,2)"
   ]
  },
  {
   "cell_type": "code",
   "execution_count": null,
   "id": "e00080dd-02a0-4de0-b12e-76b3c7314262",
   "metadata": {},
   "outputs": [],
   "source": [
    "check_type(3,list)\n",
    "check_type(3.0,int)\n",
    "x = \"cow\"\n",
    "check_type(x,int)\n",
    "check_less_than('a', 'A')"
   ]
  },
  {
   "cell_type": "code",
   "execution_count": null,
   "id": "2787beec-5427-4243-b6bd-adc28ecbcdda",
   "metadata": {},
   "outputs": [],
   "source": [
    "check_in(1,[1,2,3])\n",
    "check_in(1,[2,3])\n",
    "check_in('a', ['a', 'b'])\n",
    "check_in('c', ['a', 'b'])"
   ]
  },
  {
   "cell_type": "code",
   "execution_count": null,
   "id": "5fbf5d43-4409-45ac-8784-666fda168a98",
   "metadata": {},
   "outputs": [],
   "source": []
  }
 ],
 "metadata": {
  "kernelspec": {
   "display_name": "Python 3 (ipykernel)",
   "language": "python",
   "name": "python3"
  },
  "language_info": {
   "codemirror_mode": {
    "name": "ipython",
    "version": 3
   },
   "file_extension": ".py",
   "mimetype": "text/x-python",
   "name": "python",
   "nbconvert_exporter": "python",
   "pygments_lexer": "ipython3",
   "version": "3.9.13"
  },
  "vscode": {
   "interpreter": {
    "hash": "aee8b7b246df8f9039afb4144a1f6fd8d2ca17a180786b69acc140d282b71a49"
   }
  }
 },
 "nbformat": 4,
 "nbformat_minor": 5
}
