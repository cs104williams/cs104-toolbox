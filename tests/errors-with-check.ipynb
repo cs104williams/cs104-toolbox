{
 "cells": [
  {
   "cell_type": "code",
   "execution_count": null,
   "id": "33e8ce77-7520-45e6-8aea-13a3cc37acca",
   "metadata": {
    "tags": []
   },
   "outputs": [],
   "source": [
    "from cs104 import *"
   ]
  },
  {
   "cell_type": "code",
   "execution_count": null,
   "id": "fa1d93de-5aa2-4ca5-9b62-c5a964884a0d",
   "metadata": {
    "tags": []
   },
   "outputs": [],
   "source": [
    "check(False) # fail\n",
    "check(False) # fail -- put messages here like this!\n",
    "check(True)  # pass\n",
    "check(make_array(1,2,3,4) < 3) # fail"
   ]
  },
  {
   "cell_type": "code",
   "execution_count": null,
   "id": "257793fd-cedc-4311-80e3-360600dd593d",
   "metadata": {
    "tags": []
   },
   "outputs": [],
   "source": [
    "check(1 == approx(1.0001)) # fail\n",
    "check(1 == approx(1.3, plus_or_minus=.3)) # pass\n",
    "check(make_array(1,1,0.999) == approx(1.3, plus_or_minus=.3)) # Fail"
   ]
  },
  {
   "cell_type": "code",
   "execution_count": null,
   "id": "68b02b26-a8e2-447a-8863-756aacae82c7",
   "metadata": {
    "tags": []
   },
   "outputs": [],
   "source": [
    "check(1 in between(0,10))\n",
    "check(1 in between(0,1)) # fail\n",
    "check(1 in between_or_equal(0,1)) \n",
    "check(-1 in between(0,20)) # fail"
   ]
  },
  {
   "cell_type": "code",
   "execution_count": null,
   "id": "06bf853f-66b4-46d1-9ada-8826a27a5664",
   "metadata": {
    "tags": []
   },
   "outputs": [],
   "source": [
    "check(1 in np.arange(0,10))\n",
    "check(1 in np.arange(0,1)) # fail\n",
    "check(-1 in np.arange(0,20)) # fail"
   ]
  },
  {
   "cell_type": "code",
   "execution_count": null,
   "id": "49324486-c665-47a2-9453-0b9ccfad3baf",
   "metadata": {
    "tags": []
   },
   "outputs": [],
   "source": [
    "check(1 < 2 < 4)\n",
    "check(1 < 2 < 1)\n",
    "check(1 < make_array(1,3,4) < 3)\n",
    "check(1 < make_array(2,1,4,2,1,4,2,1,4,2,1,4,2,1,4,2,1,4,2,1,4,2,1,4,2,1,4,2,1,4,2,1,4,2,1,4,2,1,4,2,1,4,2,1,4,2,1,4))"
   ]
  },
  {
   "cell_type": "code",
   "execution_count": null,
   "id": "067ea084-78e5-4066-8bcd-228033491a6f",
   "metadata": {
    "tags": []
   },
   "outputs": [],
   "source": [
    "check(1 == 2)"
   ]
  },
  {
   "cell_type": "code",
   "execution_count": null,
   "id": "e00080dd-02a0-4de0-b12e-76b3c7314262",
   "metadata": {
    "tags": []
   },
   "outputs": [],
   "source": [
    "check(type(3) is list) # fail\n",
    "check(type(3.0) is int) # fail\n",
    "x = \"cow\"\n",
    "check(type(x) == int) # fail\n",
    "check('a' < 'A') # fail"
   ]
  },
  {
   "cell_type": "code",
   "execution_count": null,
   "id": "2787beec-5427-4243-b6bd-adc28ecbcdda",
   "metadata": {
    "tags": []
   },
   "outputs": [],
   "source": [
    "check(1 in[1,2,3])\n",
    "check(1 in [2,3]) #fail\n",
    "check('a' in ['a', 'b'])\n",
    "check('c' in ['a', 'b']) # fail\n",
    "x = 'c'\n",
    "check(x in ['a', 'b']) # fail"
   ]
  },
  {
   "cell_type": "code",
   "execution_count": null,
   "id": "0d3ab3c3-fd81-4245-b05c-ea1662f775ea",
   "metadata": {},
   "outputs": [],
   "source": []
  }
 ],
 "metadata": {
  "kernelspec": {
   "display_name": "Python 3 (ipykernel)",
   "language": "python",
   "name": "python3"
  },
  "language_info": {
   "codemirror_mode": {
    "name": "ipython",
    "version": 3
   },
   "file_extension": ".py",
   "mimetype": "text/x-python",
   "name": "python",
   "nbconvert_exporter": "python",
   "pygments_lexer": "ipython3",
   "version": "3.9.15"
  },
  "vscode": {
   "interpreter": {
    "hash": "aee8b7b246df8f9039afb4144a1f6fd8d2ca17a180786b69acc140d282b71a49"
   }
  }
 },
 "nbformat": 4,
 "nbformat_minor": 5
}
