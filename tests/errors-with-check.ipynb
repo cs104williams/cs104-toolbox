{
 "cells": [
  {
   "cell_type": "code",
   "execution_count": 1,
   "id": "33e8ce77-7520-45e6-8aea-13a3cc37acca",
   "metadata": {
    "tags": []
   },
   "outputs": [],
   "source": [
    "from cs104 import *"
   ]
  },
  {
   "cell_type": "code",
   "execution_count": 2,
   "id": "fa1d93de-5aa2-4ca5-9b62-c5a964884a0d",
   "metadata": {
    "tags": []
   },
   "outputs": [
    {
     "name": "stdout",
     "output_type": "stream",
     "text": [
      "\u001b[35;1m\n",
      "🐝 check(False) # fail\n",
      "      Expression is False\n",
      "\u001b[0m\n",
      "\u001b[35;1m\n",
      "🐝 check(False) # fail -- put messages here like this!\n",
      "      Expression is False\n",
      "\u001b[0m\n",
      "\u001b[35;1m\n",
      "🐝 check(make_array(1,2,3,4) < 3) # fail\n",
      "      Expression is False\n",
      "\u001b[0m\n"
     ]
    }
   ],
   "source": [
    "check(False) # fail\n",
    "check(False) # fail -- put messages here like this!\n",
    "check(True)  # pass\n",
    "check(make_array(1,2,3,4) < 3) # fail"
   ]
  },
  {
   "cell_type": "code",
   "execution_count": 3,
   "id": "257793fd-cedc-4311-80e3-360600dd593d",
   "metadata": {
    "tags": []
   },
   "outputs": [
    {
     "name": "stdout",
     "output_type": "stream",
     "text": [
      "\u001b[35;1m\n",
      "🐝 check_close(1,1.0001) # fail\n",
      "       1.00009 <= 1 <= 1.00011 is False\n",
      "\u001b[0m\n",
      "\u001b[35;1m\n",
      "🐝 check_close(make_array(1,1,0.999), 1.3, plus_or_minus=.3) # Fail\n",
      "      make_array(1,1,0.999).item(2) == 0.999 and  1.0 <= 0.999 <= 1.6 is False\n",
      "\u001b[0m\n"
     ]
    }
   ],
   "source": [
    "check_close(1,1.0001) # fail\n",
    "check_close(1, 1.3, plus_or_minus=.3) # pass\n",
    "check_close(make_array(1,1,0.999), 1.3, plus_or_minus=.3) # Fail"
   ]
  },
  {
   "cell_type": "code",
   "execution_count": 4,
   "id": "06bf853f-66b4-46d1-9ada-8826a27a5664",
   "metadata": {
    "tags": []
   },
   "outputs": [
    {
     "name": "stdout",
     "output_type": "stream",
     "text": [
      "\u001b[35;1m\n",
      "🐝 check_in(1, np.arange(0,1)) # fail\n",
      "      1 is not in [0]\n",
      "\u001b[0m\n",
      "\u001b[35;1m\n",
      "🐝 check_in(-1, np.arange(0,20)) # fail\n",
      "      -1 is not in [ 0  1  2 ... 17 18 19]\n",
      "\u001b[0m\n"
     ]
    }
   ],
   "source": [
    "check_in(1, np.arange(0,10))\n",
    "check_in(1, np.arange(0,1)) # fail\n",
    "check_in(-1, np.arange(0,20)) # fail"
   ]
  },
  {
   "cell_type": "code",
   "execution_count": 5,
   "id": "56c127d2-8820-4953-8f99-d3b8b5338565",
   "metadata": {
    "tags": []
   },
   "outputs": [
    {
     "name": "stdout",
     "output_type": "stream",
     "text": [
      "\u001b[35;1m\n",
      "🐝 check_between(3, 1,3) # fail\n",
      "      3 is  in interval [1,3)\n",
      "\u001b[0m\n",
      "\u001b[35;1m\n",
      "🐝 check_between(-3, 1,3) # fail\n",
      "      -3 is  in interval [1,3)\n",
      "\u001b[0m\n",
      "\u001b[35;1m\n",
      "🐝 check_between(-x,[1,3]) # fail\n",
      "      -2 is  in interval [1,3)\n",
      "\u001b[0m\n",
      "\u001b[35;1m\n",
      "🐝 check_between(-x,1,3)   # fail\n",
      "      -2 is  in interval [1,3)\n",
      "\u001b[0m\n",
      "\u001b[35;1m\n",
      "🐝 check_between(-2,y) #fail\n",
      "      -2 is  in interval [1,3)\n",
      "\u001b[0m\n",
      "\u001b[35;1m\n",
      "🐝 check_between(0,1,2,3) # fail\n",
      "      Interval must be passed as two numbers or an array containing two numbers, not (1, 2, 3)\n",
      "\u001b[0m\n"
     ]
    }
   ],
   "source": [
    "check_between(3, make_array(1,5)) # pass\n",
    "check_between(3, 1,5) # pass\n",
    "check_between(3, 1,3) # fail\n",
    "check_between(1, 1,3) # pass\n",
    "check_between(-3, 1,3) # fail\n",
    "#\n",
    "x = 2\n",
    "check_between(x,[1,3]) # pass\n",
    "check_between(x,1,3)   # pass\n",
    "check_between(-x,[1,3]) # fail\n",
    "check_between(-x,1,3)   # fail\n",
    "y = [1,3]\n",
    "check_between(x,y) # pass\n",
    "check_between(-2,y) #fail\n",
    "check_between(0,1,2,3) # fail"
   ]
  },
  {
   "cell_type": "code",
   "execution_count": 6,
   "id": "3888324d-7772-43e6-b5af-0e0ff82e2759",
   "metadata": {},
   "outputs": [
    {
     "name": "stdout",
     "output_type": "stream",
     "text": [
      "\u001b[35;1m\n",
      "🐝 check_not_between(3, make_array(1,5)) # fail\n",
      "      3 is in interval [1,5)\n",
      "\u001b[0m\n",
      "\u001b[35;1m\n",
      "🐝 check_not_between(3, 1,5) # fail\n",
      "      3 is in interval [1,5)\n",
      "\u001b[0m\n",
      "\u001b[35;1m\n",
      "🐝 check_not_between(1, 1,3) # fail\n",
      "      1 is in interval [1,3)\n",
      "\u001b[0m\n"
     ]
    }
   ],
   "source": [
    "check_not_between(3, make_array(1,5)) # fail\n",
    "check_not_between(3, 1,5) # fail\n",
    "check_not_between(3, 1,3) # pass\n",
    "check_not_between(1, 1,3) # fail\n",
    "check_not_between(-3, 1,3) # pass\n"
   ]
  },
  {
   "cell_type": "code",
   "execution_count": 7,
   "id": "49324486-c665-47a2-9453-0b9ccfad3baf",
   "metadata": {},
   "outputs": [
    {
     "name": "stdout",
     "output_type": "stream",
     "text": [
      "\u001b[35;1m\n",
      "🐝 check_less_than(1,2,1)\n",
      "       2 < 1 is False\n",
      "\u001b[0m\n",
      "\u001b[35;1m\n",
      "🐝 check_less_than(1,make_array(1,3,4),3)\n",
      "      make_array(1,3,4).item(0) == 1 and  1 < 1 is False\n",
      "      \n",
      "      make_array(1,3,4).item(1) == 3 and  3 < 3 is False\n",
      "      make_array(1,3,4).item(2) == 4 and  4 < 3 is False\n",
      "\u001b[0m\n",
      "\u001b[35;1m\n",
      "🐝 check_less_than(1,make_array(2,1,4,2,1,4,2,1,4,2,1,4,2,1,4,2,1,4,2,1,4,2,1,4,2,1,4,2,1,4,2,1,4,2,1,4,2,1,4,2,1,4,2,1,4,2,1,4))\n",
      "      make_array(2,1,4,2,1,4,2,1,4,2,1,4,2,1,4,2,1,4,2,1,4,2,1,4,2,1,4,2,1,4,2,1,4,2,1,4,2,1,4,2,1,4,2,1,4,2,1,4).item(1) == 1 and  1 < 1 is False\n",
      "      make_array(2,1,4,2,1,4,2,1,4,2,1,4,2,1,4,2,1,4,2,1,4,2,1,4,2,1,4,2,1,4,2,1,4,2,1,4,2,1,4,2,1,4,2,1,4,2,1,4).item(4) == 1 and  1 < 1 is False\n",
      "      make_array(2,1,4,2,1,4,2,1,4,2,1,4,2,1,4,2,1,4,2,1,4,2,1,4,2,1,4,2,1,4,2,1,4,2,1,4,2,1,4,2,1,4,2,1,4,2,1,4).item(7) == 1 and  1 < 1 is False\n",
      "      ... omitting 13 more case(s)\n",
      "\u001b[0m\n",
      "\u001b[35;1m\n",
      "🐝 check_less_than(10,x)\n",
      "      x.item(0) == 2 and  10 < 2 is False\n",
      "      x.item(1) == 1 and  10 < 1 is False\n",
      "      x.item(2) == 4 and  10 < 4 is False\n",
      "      ... omitting 45 more case(s)\n",
      "\u001b[0m\n"
     ]
    }
   ],
   "source": [
    "check_less_than(1,2,4)\n",
    "check_less_than(1,2,1)\n",
    "check_less_than(1,make_array(1,3,4),3)\n",
    "check_less_than(1,make_array(2,1,4,2,1,4,2,1,4,2,1,4,2,1,4,2,1,4,2,1,4,2,1,4,2,1,4,2,1,4,2,1,4,2,1,4,2,1,4,2,1,4,2,1,4,2,1,4))\n",
    "x = make_array(2,1,4,2,1,4,2,1,4,2,1,4,2,1,4,2,1,4,2,1,4,2,1,4,2,1,4,2,1,4,2,1,4,2,1,4,2,1,4,2,1,4,2,1,4,2,1,4)\n",
    "check_less_than(10,x)"
   ]
  },
  {
   "cell_type": "code",
   "execution_count": 8,
   "id": "a4ab31b2-20b5-4f31-8891-7125056f88a3",
   "metadata": {},
   "outputs": [],
   "source": [
    "check_less_than_or_equal(1,1,1)\n",
    "check_less_than_or_equal(1,make_array(2,3,4))"
   ]
  },
  {
   "cell_type": "code",
   "execution_count": 9,
   "id": "81db856b-b1f2-4dd0-8e36-8382da144f10",
   "metadata": {},
   "outputs": [
    {
     "name": "stdout",
     "output_type": "stream",
     "text": [
      "\u001b[35;1m\n",
      "🐝 check_less_than_or_equal(1,make_array(2,3,4,-1))\n",
      "      make_array(2,3,4,-1).item(3) == -1 and  1 <= -1 is False\n",
      "\u001b[0m\n",
      "\u001b[35;1m\n",
      "🐝 check_less_than_or_equal(1,make_array(2,3,4,10), 11, 12, 13, 11)\n",
      "       13 <= 11 is False\n",
      "\u001b[0m\n"
     ]
    }
   ],
   "source": [
    "check_less_than_or_equal(1,make_array(2,3,4,-1))\n",
    "check_less_than_or_equal(1,make_array(2,3,4,10), 11, 12, 13, 11)"
   ]
  },
  {
   "cell_type": "code",
   "execution_count": 10,
   "id": "067ea084-78e5-4066-8bcd-228033491a6f",
   "metadata": {},
   "outputs": [
    {
     "name": "stdout",
     "output_type": "stream",
     "text": [
      "['1', '2']\n",
      "\u001b[35;1m\n",
      "🐝 check_equal(1,2)\n",
      "       1 == 2 is False\n",
      "\u001b[0m\n"
     ]
    }
   ],
   "source": [
    "check_equal(1,2)"
   ]
  },
  {
   "cell_type": "code",
   "execution_count": 11,
   "id": "e00080dd-02a0-4de0-b12e-76b3c7314262",
   "metadata": {},
   "outputs": [
    {
     "name": "stdout",
     "output_type": "stream",
     "text": [
      "\u001b[35;1m\n",
      "🐝 check_type(3,list)\n",
      "      3 has type int, not list.\n",
      "\u001b[0m\n",
      "\u001b[35;1m\n",
      "🐝 check_type(3.0,int)\n",
      "      3.0 has type float, not int.\n",
      "\u001b[0m\n",
      "\u001b[35;1m\n",
      "🐝 check_type(x,int)\n",
      "      x has type str, not int.\n",
      "\u001b[0m\n",
      "\u001b[35;1m\n",
      "🐝 check_less_than('a', 'A')\n",
      "       'a' < 'A' is False\n",
      "\u001b[0m\n"
     ]
    }
   ],
   "source": [
    "check_type(3,list)\n",
    "check_type(3.0,int)\n",
    "x = \"cow\"\n",
    "check_type(x,int)\n",
    "check_less_than('a', 'A')"
   ]
  },
  {
   "cell_type": "code",
   "execution_count": 12,
   "id": "2787beec-5427-4243-b6bd-adc28ecbcdda",
   "metadata": {},
   "outputs": [
    {
     "name": "stdout",
     "output_type": "stream",
     "text": [
      "\u001b[35;1m\n",
      "🐝 check_in(1,[2,3])\n",
      "      1 is not in [2 3]\n",
      "\u001b[0m\n",
      "\u001b[35;1m\n",
      "🐝 check_in('c', ['a', 'b'])\n",
      "      'c' is not in ['a' 'b']\n",
      "\u001b[0m\n",
      "\u001b[35;1m\n",
      "🐝 check_in(x, ['a', 'b'])\n",
      "      'c' is not in ['a' 'b']\n",
      "\u001b[0m\n"
     ]
    }
   ],
   "source": [
    "check_in(1,[1,2,3])\n",
    "check_in(1,[2,3])\n",
    "check_in('a', ['a', 'b'])\n",
    "check_in('c', ['a', 'b'])\n",
    "x = 'c'\n",
    "check_in(x, ['a', 'b'])"
   ]
  },
  {
   "cell_type": "code",
   "execution_count": 13,
   "id": "5fbf5d43-4409-45ac-8784-666fda168a98",
   "metadata": {},
   "outputs": [
    {
     "data": {
      "text/plain": [
       "'c'"
      ]
     },
     "execution_count": 13,
     "metadata": {},
     "output_type": "execute_result"
    }
   ],
   "source": [
    "'c'"
   ]
  },
  {
   "cell_type": "code",
   "execution_count": 14,
   "id": "ea02187b-8e61-4fc5-879a-a9531f59325a",
   "metadata": {},
   "outputs": [
    {
     "data": {
      "text/plain": [
       "'c'"
      ]
     },
     "execution_count": 14,
     "metadata": {},
     "output_type": "execute_result"
    }
   ],
   "source": [
    "str('c')"
   ]
  },
  {
   "cell_type": "code",
   "execution_count": null,
   "id": "1a6bc8c7-e382-46ce-b2c3-bc031461d525",
   "metadata": {},
   "outputs": [],
   "source": []
  }
 ],
 "metadata": {
  "kernelspec": {
   "display_name": "Python 3 (ipykernel)",
   "language": "python",
   "name": "python3"
  },
  "language_info": {
   "codemirror_mode": {
    "name": "ipython",
    "version": 3
   },
   "file_extension": ".py",
   "mimetype": "text/x-python",
   "name": "python",
   "nbconvert_exporter": "python",
   "pygments_lexer": "ipython3",
   "version": "3.9.13"
  },
  "vscode": {
   "interpreter": {
    "hash": "aee8b7b246df8f9039afb4144a1f6fd8d2ca17a180786b69acc140d282b71a49"
   }
  }
 },
 "nbformat": 4,
 "nbformat_minor": 5
}
