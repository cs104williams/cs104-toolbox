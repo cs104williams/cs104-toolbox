{
 "cells": [
  {
   "cell_type": "code",
   "execution_count": 1,
   "id": "33e8ce77-7520-45e6-8aea-13a3cc37acca",
   "metadata": {},
   "outputs": [],
   "source": [
    "import cs104\n",
    "from cs104.testing import *"
   ]
  },
  {
   "cell_type": "code",
   "execution_count": 2,
   "id": "20d15395-b505-419e-be41-92b84fef6d5e",
   "metadata": {},
   "outputs": [
    {
     "data": {
      "text/plain": [
       "'0.0.1'"
      ]
     },
     "execution_count": 2,
     "metadata": {},
     "output_type": "execute_result"
    }
   ],
   "source": [
    "cs104.__version__"
   ]
  },
  {
   "cell_type": "code",
   "execution_count": 3,
   "id": "fa1d93de-5aa2-4ca5-9b62-c5a964884a0d",
   "metadata": {},
   "outputs": [
    {
     "name": "stdout",
     "output_type": "stream",
     "text": [
      "\u001b[35;1m\n",
      "---------------------------------------------------------------------------\n",
      "Yipes! test(False)\n",
      "\n",
      "   Expression is not True.\n",
      "\u001b[0m\n"
     ]
    }
   ],
   "source": [
    "test(False)"
   ]
  },
  {
   "cell_type": "code",
   "execution_count": 4,
   "id": "426b2a2b-4678-4191-9391-0080bbaa0472",
   "metadata": {},
   "outputs": [],
   "source": [
    "test(True)"
   ]
  },
  {
   "cell_type": "code",
   "execution_count": 5,
   "id": "d758b0c0-3927-404f-b968-993113a03a08",
   "metadata": {},
   "outputs": [
    {
     "ename": "ZeroDivisionError",
     "evalue": "division by zero",
     "output_type": "error",
     "traceback": [
      "\u001b[0;31m---------------------------------------------------------------------------\u001b[0m",
      "\u001b[0;31mZeroDivisionError\u001b[0m                         Traceback (most recent call last)",
      "\u001b[0;32m/var/folders/hg/75dgl5gs1bj7vl_fv36njtvw000_1x/T/ipykernel_85274/2354412189.py\u001b[0m in \u001b[0;36m<module>\u001b[0;34m\u001b[0m\n\u001b[0;32m----> 1\u001b[0;31m \u001b[0;36m1\u001b[0m\u001b[0;34m/\u001b[0m\u001b[0;36m0\u001b[0m\u001b[0;34m\u001b[0m\u001b[0;34m\u001b[0m\u001b[0m\n\u001b[0m",
      "\u001b[0;31mZeroDivisionError\u001b[0m: division by zero"
     ]
    },
    {
     "data": {
      "text/html": [
       "\n",
       "    <script>\n",
       "        function myFunction(id) {\n",
       "          var x = document.getElementById(id);\n",
       "          if (x.style.display === \"none\") {\n",
       "            x.style.display = \"block\";\n",
       "          } else {\n",
       "            x.style.display = \"none\";\n",
       "          }\n",
       "        }\n",
       "    </script>\n",
       "\n",
       "    <div align=\"right\">\n",
       "        <a style='inherit;font-size:12px;' onclick='myFunction(\"a30a980a81e911edb55ff01898ea1966\")'>Full Details</a>\n",
       "    </div>\n",
       "\n",
       "    <pre style=\"font-size:14px;display:none; background-color:#FFDDDD;\" id=\"a30a980a81e911edb55ff01898ea1966\">---------------------------------------------------------------------------\n",
       "ZeroDivisionError                         Traceback (most recent call last)\n",
       "/var/folders/hg/75dgl5gs1bj7vl_fv36njtvw000_1x/T/ipykernel_85274/2354412189.py in <module>\n",
       "----> 1 1/0\n",
       "\n",
       "ZeroDivisionError: division by zero\n",
       "    </pre>\n",
       "    "
      ],
      "text/plain": [
       "<IPython.core.display.HTML object>"
      ]
     },
     "metadata": {},
     "output_type": "display_data"
    }
   ],
   "source": [
    "1/0"
   ]
  }
 ],
 "metadata": {
  "kernelspec": {
   "display_name": "Python 3 (ipykernel)",
   "language": "python",
   "name": "python3"
  },
  "language_info": {
   "codemirror_mode": {
    "name": "ipython",
    "version": 3
   },
   "file_extension": ".py",
   "mimetype": "text/x-python",
   "name": "python",
   "nbconvert_exporter": "python",
   "pygments_lexer": "ipython3",
   "version": "3.9.13"
  }
 },
 "nbformat": 4,
 "nbformat_minor": 5
}
