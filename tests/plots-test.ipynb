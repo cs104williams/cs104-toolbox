{
 "cells": [
  {
   "cell_type": "code",
   "execution_count": null,
   "id": "1da78904-5769-4e20-a5dc-ba5069fd27fb",
   "metadata": {},
   "outputs": [],
   "source": [
    "from cs104 import *\n",
    "from datascience import *\n",
    "import numpy as np\n",
    "%matplotlib inline"
   ]
  },
  {
   "cell_type": "code",
   "execution_count": null,
   "id": "25f8e328-5e19-444a-ba4d-52fed5f10db8",
   "metadata": {},
   "outputs": [],
   "source": [
    "penguins = Table().read_table('../../../lectures/data/penguins.csv')"
   ]
  },
  {
   "cell_type": "code",
   "execution_count": null,
   "id": "fb78dd0b-1418-4495-9a3a-0207b3f57e1d",
   "metadata": {},
   "outputs": [],
   "source": [
    "penguins.scatter(2,3, color='red', s=100)"
   ]
  },
  {
   "cell_type": "code",
   "execution_count": null,
   "id": "8b8dc744",
   "metadata": {},
   "outputs": [],
   "source": [
    "plot = penguins.scatter(2,3)\n",
    "plot.line(x=45, color='red',width=2),\n",
    "plot.line(y=20, color='blue',width=2, linestyle='dashed'),\n",
    "plot.line(x=43, color='blue',width=3, linestyle='dashed'),\n",
    "plot.dot(40,16),\n",
    "plot.dot(50,16,color='purple',size=200),\n",
    "plot.square(40,18),\n",
    "plot.square(50,18,color='purple',size=200),\n",
    "# plot.interval([40,50]),\n",
    "plot.dot(45,14)                 \n",
    "# plot.line([17,80],17,color='green')\n",
    "plot.line(y=17,color='green')\n",
    "plot.line(y=17,color='green')\n",
    "plot.line(y=17,color='green')"
   ]
  },
  {
   "cell_type": "code",
   "execution_count": null,
   "id": "20dd9dda-c6de-438f-8da8-40316797e60c",
   "metadata": {},
   "outputs": [],
   "source": [
    "plot = penguins.hist(3,height=6)\n",
    "plot.interval([16,18])\n",
    "plot.dot(30)\n",
    "plot.square(21)"
   ]
  },
  {
   "cell_type": "code",
   "execution_count": null,
   "id": "f774b624",
   "metadata": {},
   "outputs": [],
   "source": []
  },
  {
   "cell_type": "code",
   "execution_count": null,
   "id": "ebddc7d0-ea81-413c-bbeb-fc352bd4f1f2",
   "metadata": {},
   "outputs": [],
   "source": [
    "fig, _ = plots.subplots(2,4, figsize=(18,10))\n",
    "axs = fig.axes\n",
    "for ax in fig.axes:\n",
    "    ax.set_xlim(0,1)\n",
    "    ax.set_ylim(0,1)\n",
    "    \n",
    "# plot.dot(0.25, 0.25, ax = axs[0])\n",
    "# plot.dot(0.25, ax = axs[1])\n",
    "# plot.dot([0.4, 0.25], 0.25, ax = axs[2])\n",
    "# plot.dot([0.4, 0.25], [0.4, 0.25], ax = axs[3])\n",
    "\n",
    "# plot.square(0.25, 0.25, ax = axs[4])\n",
    "# plot.square([0.4, 0.25], 0.25, ax = axs[5])\n",
    "# plot.square([0.4, 0.25], [0.4, 0.25], ax = axs[6])\n",
    "# plot.square([0.4, 0.25], ax = axs[7])\n",
    "\n",
    "\n",
    "# plot.square(0.6, 0.6, ax = axs[1])\n",
    "\n",
    "# plot.line(x = 0.6, ax=axs[2])\n",
    "# plot.line(y = 0.6, ax=axs[3])"
   ]
  },
  {
   "cell_type": "code",
   "execution_count": null,
   "id": "5e341d99-ae71-4cbf-a789-c44279d0a248",
   "metadata": {},
   "outputs": [],
   "source": []
  }
 ],
 "metadata": {
  "kernelspec": {
   "display_name": "Python 3 (ipykernel)",
   "language": "python",
   "name": "python3"
  },
  "language_info": {
   "codemirror_mode": {
    "name": "ipython",
    "version": 3
   },
   "file_extension": ".py",
   "mimetype": "text/x-python",
   "name": "python",
   "nbconvert_exporter": "python",
   "pygments_lexer": "ipython3",
   "version": "3.9.15"
  },
  "vscode": {
   "interpreter": {
    "hash": "aee8b7b246df8f9039afb4144a1f6fd8d2ca17a180786b69acc140d282b71a49"
   }
  }
 },
 "nbformat": 4,
 "nbformat_minor": 5
}
