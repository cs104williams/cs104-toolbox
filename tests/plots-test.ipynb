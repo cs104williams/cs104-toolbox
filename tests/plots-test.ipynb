{
 "cells": [
  {
   "cell_type": "code",
   "execution_count": null,
   "id": "1da78904-5769-4e20-a5dc-ba5069fd27fb",
   "metadata": {
    "tags": []
   },
   "outputs": [],
   "source": [
    "from cs104 import *\n",
    "from datascience import *\n",
    "import numpy as np\n",
    "%matplotlib inline"
   ]
  },
  {
   "cell_type": "code",
   "execution_count": null,
   "id": "b2821b85-f3da-4563-b8f8-f27d2d5953d9",
   "metadata": {
    "tags": []
   },
   "outputs": [],
   "source": [
    "def simulate_100_flips(sample_size, num_trials):\n",
    "    all_outcomes = make_array()\n",
    "    for i in np.arange(0,num_trials):\n",
    "        outcome = np.sum(np.random.choice([0,1], sample_size))\n",
    "        all_outcomes = np.append(all_outcomes, outcome) \n",
    "    simulated_results = Table().with_column('Number Heads', all_outcomes)\n",
    "    return simulated_results\n",
    "\n",
    "def demo(sample_size, n):\n",
    "    simulate_100_flips(sample_size, n).hist()\n",
    "\n",
    "interact(demo, sample_size = Fixed(100), n = Slider(100,10000))\n",
    "interact(demo, \n",
    "         sample_size = Slider(10,200),\n",
    "         n = Choice(100,1000,10000))\n"
   ]
  },
  {
   "cell_type": "code",
   "execution_count": null,
   "id": "ebddc7d0-ea81-413c-bbeb-fc352bd4f1f2",
   "metadata": {
    "tags": []
   },
   "outputs": [],
   "source": [
    "with Figure(2,2):\n",
    "    demo(20,100)\n",
    "    demo(100,100)\n",
    "    demo(20,1000)\n",
    "    demo(100,1000)"
   ]
  }
 ],
 "metadata": {
  "kernelspec": {
   "display_name": "Python 3 (ipykernel)",
   "language": "python",
   "name": "python3"
  },
  "language_info": {
   "codemirror_mode": {
    "name": "ipython",
    "version": 3
   },
   "file_extension": ".py",
   "mimetype": "text/x-python",
   "name": "python",
   "nbconvert_exporter": "python",
   "pygments_lexer": "ipython3",
   "version": "3.9.15"
  },
  "vscode": {
   "interpreter": {
    "hash": "aee8b7b246df8f9039afb4144a1f6fd8d2ca17a180786b69acc140d282b71a49"
   }
  }
 },
 "nbformat": 4,
 "nbformat_minor": 5
}
