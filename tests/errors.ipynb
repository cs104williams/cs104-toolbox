{
 "cells": [
  {
   "cell_type": "code",
   "execution_count": 1,
   "id": "33e8ce77-7520-45e6-8aea-13a3cc37acca",
   "metadata": {},
   "outputs": [],
   "source": [
    "from cs104 import *"
   ]
  },
  {
   "cell_type": "code",
   "execution_count": 2,
   "id": "fa1d93de-5aa2-4ca5-9b62-c5a964884a0d",
   "metadata": {},
   "outputs": [
    {
     "name": "stdout",
     "output_type": "stream",
     "text": [
      "\u001b[35;1m\n",
      "---------------------------------------------------------------------------\n",
      "Yipes! test_is_true(False)\n",
      "\n",
      "   Expression is not True\n",
      "\u001b[0m\n"
     ]
    }
   ],
   "source": [
    "test_is_true(False)"
   ]
  },
  {
   "cell_type": "code",
   "execution_count": 3,
   "id": "b6701514-c3a2-459d-b847-4d4fae19f1a8",
   "metadata": {},
   "outputs": [
    {
     "name": "stdout",
     "output_type": "stream",
     "text": [
      "\u001b[35;1m\n",
      "---------------------------------------------------------------------------\n",
      "Yipes! test_is_true(False) # Make sure you did it right...\n",
      "\n",
      "   Expression is not True\n",
      "\u001b[0m\n"
     ]
    }
   ],
   "source": [
    "test_is_true(False) # Make sure you did it right..."
   ]
  },
  {
   "cell_type": "code",
   "execution_count": 4,
   "id": "426b2a2b-4678-4191-9391-0080bbaa0472",
   "metadata": {},
   "outputs": [],
   "source": [
    "test_is_true(True)"
   ]
  },
  {
   "cell_type": "code",
   "execution_count": 5,
   "id": "06bf853f-66b4-46d1-9ada-8826a27a5664",
   "metadata": {},
   "outputs": [
    {
     "name": "stdout",
     "output_type": "stream",
     "text": [
      "\u001b[35;1m\n",
      "---------------------------------------------------------------------------\n",
      "Yipes! test_in(1, np.arange(0,1))\n",
      "\n",
      "   1 is not in range [0]\n",
      "\u001b[0m\n",
      "\u001b[35;1m\n",
      "---------------------------------------------------------------------------\n",
      "Yipes! test_in(-1, np.arange(0,10))\n",
      "\n",
      "   -1 is not in range [0 1 2 3 4 5 6 7 8 9]\n",
      "\u001b[0m\n"
     ]
    }
   ],
   "source": [
    "test_in(1, np.arange(0,10))\n",
    "test_in(1, np.arange(0,1))\n",
    "test_in(-1, np.arange(0,10))"
   ]
  },
  {
   "cell_type": "code",
   "execution_count": 6,
   "id": "56c127d2-8820-4953-8f99-d3b8b5338565",
   "metadata": {},
   "outputs": [
    {
     "name": "stdout",
     "output_type": "stream",
     "text": [
      "\u001b[35;1m\n",
      "---------------------------------------------------------------------------\n",
      "Yipes! test_between(3, 1,3)\n",
      "\n",
      "   3 is not in interval [1, 3)\n",
      "\u001b[0m\n"
     ]
    }
   ],
   "source": [
    "test_between(3, make_array(1,5))\n",
    "test_between(3, 1, 4)\n",
    "test_between(3, 1,3)"
   ]
  },
  {
   "cell_type": "code",
   "execution_count": 7,
   "id": "49324486-c665-47a2-9453-0b9ccfad3baf",
   "metadata": {},
   "outputs": [
    {
     "name": "stdout",
     "output_type": "stream",
     "text": [
      "\u001b[35;1m\n",
      "---------------------------------------------------------------------------\n",
      "Yipes! test_less_than(1,2,1)\n",
      "\n",
      "   Expression is not true: 1 < 2 < 1\n",
      "\u001b[0m\n"
     ]
    }
   ],
   "source": [
    "test_less_than(1,2,4)\n",
    "test_less_than(1,2,1)"
   ]
  },
  {
   "cell_type": "code",
   "execution_count": 8,
   "id": "a4ab31b2-20b5-4f31-8891-7125056f88a3",
   "metadata": {},
   "outputs": [],
   "source": [
    "test_less_than_or_equal(1,1,1)\n",
    "test_less_than_or_equal(1,make_array(2,3,4))"
   ]
  },
  {
   "cell_type": "code",
   "execution_count": 9,
   "id": "81db856b-b1f2-4dd0-8e36-8382da144f10",
   "metadata": {},
   "outputs": [
    {
     "name": "stdout",
     "output_type": "stream",
     "text": [
      "\u001b[35;1m\n",
      "---------------------------------------------------------------------------\n",
      "Yipes! test_less_than_or_equal(1,make_array(2,3,4,-1))\n",
      "\n",
      "   Expression is not true: 1 <= [ 2  3  4 -1]\n",
      "\u001b[0m\n",
      "\u001b[35;1m\n",
      "---------------------------------------------------------------------------\n",
      "Yipes! test_less_than_or_equal(1,make_array(2,3,4,10), 11, 12, 13, 11)\n",
      "\n",
      "   Expression is not true: 1 <= [ 2  3  4 10] <= 11 <= 12 <= 13 <= 11\n",
      "\u001b[0m\n"
     ]
    }
   ],
   "source": [
    "test_less_than_or_equal(1,make_array(2,3,4,-1))\n",
    "test_less_than_or_equal(1,make_array(2,3,4,10), 11, 12, 13, 11)"
   ]
  },
  {
   "cell_type": "code",
   "execution_count": 10,
   "id": "067ea084-78e5-4066-8bcd-228033491a6f",
   "metadata": {},
   "outputs": [
    {
     "name": "stdout",
     "output_type": "stream",
     "text": [
      "\u001b[35;1m\n",
      "---------------------------------------------------------------------------\n",
      "Yipes! test_equal(1,2)\n",
      "\n",
      "   Items are not equal:\n",
      "    ACTUAL: 1\n",
      "    DESIRED: 2\n",
      "\u001b[0m\n"
     ]
    }
   ],
   "source": [
    "test_equal(1,2)"
   ]
  },
  {
   "cell_type": "code",
   "execution_count": null,
   "id": "e00080dd-02a0-4de0-b12e-76b3c7314262",
   "metadata": {},
   "outputs": [],
   "source": []
  }
 ],
 "metadata": {
  "kernelspec": {
   "display_name": "Python 3 (ipykernel)",
   "language": "python",
   "name": "python3"
  },
  "language_info": {
   "codemirror_mode": {
    "name": "ipython",
    "version": 3
   },
   "file_extension": ".py",
   "mimetype": "text/x-python",
   "name": "python",
   "nbconvert_exporter": "python",
   "pygments_lexer": "ipython3",
   "version": "3.9.13"
  },
  "vscode": {
   "interpreter": {
    "hash": "aee8b7b246df8f9039afb4144a1f6fd8d2ca17a180786b69acc140d282b71a49"
   }
  }
 },
 "nbformat": 4,
 "nbformat_minor": 5
}
