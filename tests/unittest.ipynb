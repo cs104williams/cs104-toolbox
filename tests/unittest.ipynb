{
 "cells": [
  {
   "cell_type": "code",
   "execution_count": 1,
   "id": "e3ec467f-d4f0-41bb-957f-54ed45c96ebb",
   "metadata": {},
   "outputs": [],
   "source": [
    "from cs104 import *"
   ]
  },
  {
   "cell_type": "code",
   "execution_count": 2,
   "id": "1f105e45-e58b-426f-95c0-7b33ddb68262",
   "metadata": {},
   "outputs": [],
   "source": [
    "x = 3"
   ]
  },
  {
   "cell_type": "code",
   "execution_count": 3,
   "id": "077f714a-b38a-48a9-a927-c6777c4dc1b2",
   "metadata": {},
   "outputs": [],
   "source": [
    "def f(x):\n",
    "    return g(x)"
   ]
  },
  {
   "cell_type": "code",
   "execution_count": 4,
   "id": "47abbf6f-0d69-4986-a489-db9ea258ee31",
   "metadata": {},
   "outputs": [],
   "source": [
    "def g(x):\n",
    "    return 3 / x"
   ]
  },
  {
   "cell_type": "code",
   "execution_count": 5,
   "id": "de26dcbf-fa90-453c-9428-04d274bd8287",
   "metadata": {},
   "outputs": [
    {
     "name": "stdout",
     "output_type": "stream",
     "text": [
      "\u001b[35;1m\n",
      "---------------------------------------------------------------------------\n",
      "Yipes! Part 1.2: test_equal(3/0, 1)\n",
      "\n",
      "   ZeroDivisionError: division by zero\n",
      "\u001b[0m\n",
      "\u001b[35;1m\n",
      "---------------------------------------------------------------------------\n",
      "Yipes! Part 1.2: test_equal(1, 2)\n",
      "\n",
      "   Items are not equal:\n",
      "    ACTUAL: 1\n",
      "    DESIRED: 2\n",
      "\u001b[0m\n",
      "\u001b[35;1m\n",
      "---------------------------------------------------------------------------\n",
      "Yipes! Part 1.2: test_is_true(f(0))\n",
      "\n",
      "   Traceback (most recent call last):\n",
      "   \n",
      "     File \"/var/folders/hg/75dgl5gs1bj7vl_fv36njtvw000_1x/T/ipykernel_13782/1968709625.py\", line 2, in f\n",
      "       return g(x)\n",
      "   \n",
      "     File \"/var/folders/hg/75dgl5gs1bj7vl_fv36njtvw000_1x/T/ipykernel_13782/545138643.py\", line 2, in g\n",
      "       return 3 / x\n",
      "   \n",
      "   ZeroDivisionError: division by zero\n",
      "\u001b[0m\n",
      "\u001b[35;1m\n",
      "---------------------------------------------------------------------------\n",
      "Yipes! Part 1.2: test_equal(x, 4)\n",
      "\n",
      "   Items are not equal:\n",
      "    ACTUAL: 3\n",
      "    DESIRED: 4\n",
      "\u001b[0m\n",
      "\u001b[35;1m\n",
      "---------------------------------------------------------------------------\n",
      "Yipes! Part 1.2: test_equal(y, 3)\n",
      "\n",
      "   NameError: name 'y' is not defined\n",
      "\u001b[0m\n"
     ]
    }
   ],
   "source": [
    "%%test Part 1.2\n",
    "test_equal(1 + 2, 3)\n",
    "test_equal(3/0, 1)\n",
    "test_equal(1, 2)\n",
    "test_is_true(f(0))\n",
    "test_equal(x, 4)\n",
    "test_equal(x, 3)\n",
    "test_equal(y, 3)"
   ]
  },
  {
   "cell_type": "code",
   "execution_count": 9,
   "id": "748a985e-38e3-4ae3-af0c-225a3f71e7e7",
   "metadata": {},
   "outputs": [
    {
     "name": "stdout",
     "output_type": "stream",
     "text": [
      "\u001b[35;1mPassed all tests for Part 1.1...\u001b[0m\n"
     ]
    }
   ],
   "source": [
    "%%test Part 1.1\n",
    "test_equal(1 + 2, 3)"
   ]
  },
  {
   "cell_type": "code",
   "execution_count": 7,
   "id": "61100f93-960a-4347-ad78-54024fef78e8",
   "metadata": {},
   "outputs": [],
   "source": [
    "def f(x):\n",
    "    return 3 / x"
   ]
  },
  {
   "cell_type": "code",
   "execution_count": null,
   "id": "041e1c63-9850-42cd-ac70-5580ae57a4c9",
   "metadata": {},
   "outputs": [],
   "source": []
  },
  {
   "cell_type": "code",
   "execution_count": null,
   "id": "59952521-d30b-4b29-bfd4-79b3ebf891cf",
   "metadata": {},
   "outputs": [],
   "source": []
  },
  {
   "cell_type": "code",
   "execution_count": null,
   "id": "eaea6985-8d33-4d60-9344-633567bd7cd6",
   "metadata": {},
   "outputs": [],
   "source": []
  }
 ],
 "metadata": {
  "kernelspec": {
   "display_name": "Python 3 (ipykernel)",
   "language": "python",
   "name": "python3"
  },
  "language_info": {
   "codemirror_mode": {
    "name": "ipython",
    "version": 3
   },
   "file_extension": ".py",
   "mimetype": "text/x-python",
   "name": "python",
   "nbconvert_exporter": "python",
   "pygments_lexer": "ipython3",
   "version": "3.9.13"
  }
 },
 "nbformat": 4,
 "nbformat_minor": 5
}
