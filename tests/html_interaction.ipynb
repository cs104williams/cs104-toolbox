{
 "cells": [
  {
   "cell_type": "code",
   "execution_count": null,
   "id": "35af99fc-b862-4e08-a864-15ca9a965a77",
   "metadata": {},
   "outputs": [],
   "source": [
    "from cs104 import *"
   ]
  },
  {
   "cell_type": "code",
   "execution_count": null,
   "id": "28217a02-6a8b-47fb-84c8-7d9d7bd5825a",
   "metadata": {
    "tags": []
   },
   "outputs": [],
   "source": [
    "# from ipywidgets import *\n",
    "\n",
    "# IntSlider(\n",
    "#     value=7,\n",
    "#     min=0,\n",
    "#     max=10,\n",
    "#     step=1,\n",
    "#     description='Test:',\n",
    "#     disabled=False,\n",
    "#     continuous_update=False,\n",
    "#     orientation='horizontal',\n",
    "#     readout=True,\n",
    "#     readout_format='d'\n",
    "# )"
   ]
  },
  {
   "cell_type": "code",
   "execution_count": null,
   "id": "6bf4b514-fdec-42d8-b475-a3002db8ec54",
   "metadata": {},
   "outputs": [],
   "source": [
    "def f(x,y,z,k):\n",
    "    return x * y + (100 if z else 0) + k\n",
    "\n",
    "HTML(html_interact(f, x=Slider(0,10,1), y = Choice(10,20,30), z = CheckBox(), k=Fixed(1000)))"
   ]
  },
  {
   "cell_type": "code",
   "execution_count": null,
   "id": "41678fff-1d9e-48ae-8582-e28a56c96eab",
   "metadata": {},
   "outputs": [],
   "source": [
    "t = Table().read_table('finch_beaks_1975_dirty.csv')"
   ]
  },
  {
   "cell_type": "code",
   "execution_count": null,
   "id": "5065a172-fd5e-40cd-afb5-db8fd65e1451",
   "metadata": {
    "tags": []
   },
   "outputs": [],
   "source": [
    "def g(x):\n",
    "    return t.take(np.arange(0,x))"
   ]
  },
  {
   "cell_type": "code",
   "execution_count": null,
   "id": "0bf2940c-aacf-403e-ad78-e16560fbef5f",
   "metadata": {
    "tags": []
   },
   "outputs": [],
   "source": [
    "HTML(html_interact(g, x=Slider(0,80,1)))"
   ]
  },
  {
   "cell_type": "code",
   "execution_count": null,
   "id": "5688690b-eabf-4ba1-ace5-b440edc710d1",
   "metadata": {
    "tags": []
   },
   "outputs": [],
   "source": [
    "%matplotlib inline\n",
    "tt = Table().read_table('happiness.csv')"
   ]
  },
  {
   "cell_type": "code",
   "execution_count": null,
   "id": "9676bb2f-cec6-46ba-a6e3-9faa802b0347",
   "metadata": {
    "tags": []
   },
   "outputs": [],
   "source": [
    "def h(x):\n",
    "    f = Figure()\n",
    "    with f:\n",
    "        tt.take(np.arange(0,x)).hist('Happiness score')\n",
    "        return f\n",
    "    \n",
    "HTML(html_interact(h, x=Slider(1,5)))\n"
   ]
  },
  {
   "cell_type": "code",
   "execution_count": null,
   "id": "32733ecc-a013-4a1a-b9ad-da6f15a630f0",
   "metadata": {},
   "outputs": [],
   "source": []
  },
  {
   "cell_type": "code",
   "execution_count": null,
   "id": "955dc017-9f01-4624-81ff-921dd2097744",
   "metadata": {
    "tags": []
   },
   "outputs": [],
   "source": [
    "def visualize_distributions(N, sample_size, num_trials):\n",
    "    \"\"\"A single function to run our simulation for a given N, sample_size, and num_trials.\"\"\"\n",
    "    population = np.arange(1, N+1)\n",
    "    \n",
    "    # Builds up our outcomes table one row at a time.  We do this to ensure\n",
    "    # we can apply both statistics to the same samples.\n",
    "    outcomes_table = Table([\"Max\", \"2*Mean\"])\n",
    "    \n",
    "    for i in np.arange(num_trials):\n",
    "        sample = np.random.choice(population, sample_size)\n",
    "        outcomes_table.append(make_array(max(sample), 2 * np.mean(sample)))\n",
    "\n",
    "    return \\\n",
    "        outcomes_table.hist(bins=np.arange(1, 2 * N, 10),\n",
    "                    xlim=(200,600),\n",
    "                    ylim=(0,0.06),\n",
    "                    xlabel='Predicted N',\n",
    "                    title='Snoopy Fleet')\n",
    "    "
   ]
  },
  {
   "cell_type": "code",
   "execution_count": null,
   "id": "8653a4a8-24ae-43c0-aec4-186d6d028c9b",
   "metadata": {
    "tags": []
   },
   "outputs": [],
   "source": [
    "HTML(html_interact(visualize_distributions, N = Fixed(400), sample_size=Choice(10,20,30), num_trials=Slider(10,3000,250)))"
   ]
  },
  {
   "cell_type": "code",
   "execution_count": null,
   "id": "65fd516d-4993-4329-86bd-7ffbab147bee",
   "metadata": {
    "tags": []
   },
   "outputs": [],
   "source": [
    "from ipywidgets import *\n",
    "import nbformat\n",
    "from nbconvert import HTMLExporter\n",
    "\n",
    "output = Output()\n",
    "with output:\n",
    "    print(\"Moo\")\n",
    "\n",
    "# Create a notebook node from the outputs of the widget\n",
    "nb = nbformat.v4.new_notebook()\n",
    "nb.cells.append(nbformat.v4.new_output_cell(outputs=output.outputs))\n",
    "\n",
    "# Use the HTMLExporter to get HTML\n",
    "exporter = HTMLExporter()\n",
    "(body, resources) = exporter.from_notebook_node(nb)\n",
    "\n",
    "print(body)  # This will print the HTML representation of the output"
   ]
  },
  {
   "cell_type": "code",
   "execution_count": null,
   "id": "65d85664-60ce-4662-bf1f-56a45d53b3b4",
   "metadata": {
    "tags": []
   },
   "outputs": [],
   "source": [
    "import ipywidgets as widgets\n",
    "from IPython.display import display, HTML\n",
    "import nbformat\n",
    "from nbconvert import HTMLExporter\n",
    "\n",
    "# Create an output widget\n",
    "output = widgets.Output()\n",
    "\n",
    "# Capture some outputs\n",
    "with output:\n",
    "    display(HTML(\"<h1>Hello, World!</h1>\"))\n",
    "    print(\"This is a printed statement.\")\n",
    "    display(HTML(\"<p>This is more HTML content</p>\"))\n",
    "\n",
    "    # Display the Output Widget (optional but useful for visualization)\n",
    "    # Create a notebook node from the outputs of the widget\n",
    "    nb = nbformat.v4.new_notebook()\n",
    "    nb.cells.append(nbformat.v4.new_code_cell(outputs=output.outputs))\n",
    "\n",
    "# Use the HTMLExporter to get HTML\n",
    "exporter = HTMLExporter()\n",
    "(body, resources) = exporter.from_notebook_node(nb)\n"
   ]
  },
  {
   "cell_type": "code",
   "execution_count": null,
   "id": "7387bc1e-9d0c-4ac1-8132-13fe7c68d0f2",
   "metadata": {
    "tags": []
   },
   "outputs": [],
   "source": [
    "import ipywidgets as widgets\n",
    "from IPython.display import display, HTML\n",
    "\n",
    "# Create an output widget\n",
    "output = widgets.Output()\n",
    "\n",
    "# display(output)\n",
    "\n",
    "# Use the output widget as a context manager to capture output\n",
    "with output:\n",
    "    display(HTML(\"<h1>Hello, World!</h1>\"))\n",
    "    print(\"This is a printed statement.\")\n",
    "    display(HTML(\"<p>This is more HTML content</p>\"))\n",
    "    \n",
    "# Display the output widget (optional, for checking contents visually)\n",
    "\n",
    "#     # Function to extract HTML content from the output widget\n",
    "#     def extract_html_from_output(output_widget):\n",
    "#         html_output = ''\n",
    "#         for output in output_widget.outputs:\n",
    "#             print(x)\n",
    "#             if 'text/html' in output['data']:\n",
    "#                 html_output += output['data']['text/html']\n",
    "#         return html_output\n",
    "\n",
    "#     # Get the HTML content\n",
    "#     html_content = extract_html_from_output(output)\n",
    "# print(html_content)\n"
   ]
  },
  {
   "cell_type": "code",
   "execution_count": null,
   "id": "dea81b44-76c7-4495-be32-b9644c38b11d",
   "metadata": {
    "tags": []
   },
   "outputs": [],
   "source": [
    "print(output.outputs)\n",
    "\n"
   ]
  },
  {
   "cell_type": "code",
   "execution_count": null,
   "id": "d686e38c-8d03-4ed7-9515-6f0e1918fa1d",
   "metadata": {
    "tags": []
   },
   "outputs": [],
   "source": [
    "%matplotlib inline\n",
    "from datascience import *\n",
    "tt = Table().read_table('happiness.csv')"
   ]
  },
  {
   "cell_type": "code",
   "execution_count": null,
   "id": "e609a034-c4c5-44fc-9d68-d38f6740454f",
   "metadata": {
    "tags": []
   },
   "outputs": [],
   "source": [
    "output = widgets.Output()\n",
    "\n",
    "# display(output)\n",
    "\n",
    "# Use the output widget as a context manager to capture output\n",
    "with output:\n",
    "    tt.hist('Happiness score')\n",
    "    plt.show()"
   ]
  },
  {
   "cell_type": "code",
   "execution_count": null,
   "id": "3620ae8e-a5f8-42fb-9aaf-992502bb6da8",
   "metadata": {
    "tags": []
   },
   "outputs": [],
   "source": [
    "import base64\n",
    "from IPython.display import HTML\n",
    "import html\n",
    "\n",
    "class OutputToHTMLConverter:\n",
    "    def __init__(self, outputs):\n",
    "        self.outputs = outputs\n",
    "\n",
    "    def _handle_text(self, text):\n",
    "        \"\"\"Convert plaintext to HTML-escaped format.\"\"\"\n",
    "        return f\"<pre>{html.escape(text)}</pre>\"\n",
    "\n",
    "    def _handle_html(self, html):\n",
    "        \"\"\"Directly pass HTML content.\"\"\"\n",
    "        return html\n",
    "\n",
    "    def _handle_image(self, image_data, mime_type):\n",
    "        \"\"\"Convert image data (base64) to HTML image tag.\"\"\"\n",
    "        # base64_data = base64.b64encode(image_data).decode('utf-8')\n",
    "        return f'<img src=\"data:{mime_type};base64,{image_data}\" />'\n",
    "\n",
    "    def convert_to_html(self):\n",
    "        \"\"\"Convert all outputs to HTML.\"\"\"\n",
    "        html_parts = []\n",
    "        for output in self.outputs:\n",
    "            if output['output_type'] == 'display_data':\n",
    "                data = output['data']\n",
    "                if 'text/plain' in data:\n",
    "                    html_parts.append(self._handle_text(data['text/plain']))\n",
    "                if 'text/html' in data:\n",
    "                    html_parts.append(self._handle_html(data['text/html']))\n",
    "                if 'image/png' in data:\n",
    "                    # print(data)\n",
    "                    html_parts.append(self._handle_image(data['image/png'], 'image/png'))\n",
    "                if 'image/jpeg' in data:\n",
    "                    html_parts.append(self._handle_image(data['image/jpeg'], 'image/jpeg'))\n",
    "        return ''.join(html_parts)\n",
    "\n",
    "# Usage example\n",
    "# Assuming `outputs` is your list of output objects from an Output widget\n",
    "converter = OutputToHTMLConverter(output.outputs)\n",
    "html_content = converter.convert_to_html()\n",
    "display(HTML(html_content))"
   ]
  },
  {
   "cell_type": "code",
   "execution_count": null,
   "id": "d8272fc4-2fb6-4ac3-b433-82f4e81b6c99",
   "metadata": {
    "tags": []
   },
   "outputs": [],
   "source": [
    "import matplotlib.pyplot as plt\n",
    "import ipywidgets as widgets\n",
    "from IPython.display import display\n",
    "\n",
    "# Create an output widget\n",
    "output = widgets.Output()\n",
    "\n",
    "# Generate a plot and capture it in the output widget\n",
    "with output:\n",
    "    # Creating a simple plot\n",
    "    fig, ax = plt.subplots()\n",
    "    ax.plot([1, 2, 3, 4, 5], [1, 4, 9, 16, 25])  # Sample plot\n",
    "    plt.show()\n",
    "\n",
    "# Display the output widget to show the plot\n",
    "# display(output)\n"
   ]
  },
  {
   "cell_type": "code",
   "execution_count": null,
   "id": "5177556c-dcb3-493c-bf9e-742cf33857a6",
   "metadata": {
    "tags": []
   },
   "outputs": [],
   "source": [
    "print(output)"
   ]
  },
  {
   "cell_type": "code",
   "execution_count": null,
   "id": "872636e8-0b3f-49c5-b488-a3570ec5a94c",
   "metadata": {
    "tags": []
   },
   "outputs": [],
   "source": [
    "import ipywidgets as widgets\n",
    "from IPython.display import display, HTML\n",
    "import nbformat\n",
    "from nbconvert import HTMLExporter\n",
    "import matplotlib.pyplot as plt\n",
    "\n",
    "# Create an output widget\n",
    "output = widgets.Output()\n",
    "\n",
    "# Use the output widget as a context manager to capture output\n",
    "with output:\n",
    "    display(HTML(\"<h1>Hello, World!</h1>\"))  # Display some HTML\n",
    "    print(\"This is a printed statement.\")   # Print statements\n",
    "    # Create and display a Matplotlib plot\n",
    "    fig, ax = plt.subplots()\n",
    "    ax.plot([1, 2, 3, 4, 5], [1, 4, 9, 16, 25])\n",
    "    plt.show()\n",
    "\n",
    "# Function to convert outputs in the Output widget to HTML\n",
    "def outputs_to_html(output_widget):\n",
    "    # Create a new notebook\n",
    "    nb = nbformat.v4.new_notebook()\n",
    "    # Create a new output cell with content from the Output widget\n",
    "    nb.cells.append(nbformat.v4.new_code_cell(outputs=output_widget.outputs))\n",
    "    # Use HTMLExporter to convert notebook cell to HTML\n",
    "    exporter = HTMLExporter()\n",
    "    # Include basic HTML template to properly render outputs\n",
    "    exporter.template_name = 'basic'\n",
    "    # Convert and get HTML content\n",
    "    body, resources = exporter.from_notebook_node(nb)\n",
    "    return body\n",
    "\n",
    "# Convert and display HTML\n",
    "html_content = outputs_to_html(output)\n",
    "print(html_content)\n"
   ]
  },
  {
   "cell_type": "code",
   "execution_count": null,
   "id": "e84f1c4d-7bb7-42b2-875e-f6c86e365c16",
   "metadata": {
    "tags": []
   },
   "outputs": [],
   "source": [
    "import ipywidgets as widgets\n",
    "from IPython.display import display, HTML\n",
    "import nbformat\n",
    "from nbconvert import HTMLExporter\n",
    "import matplotlib.pyplot as plt\n",
    "\n",
    "# Create an output widget\n",
    "output = widgets.Output()\n",
    "\n",
    "# Capture outputs\n",
    "with output:\n",
    "    display(HTML(\"<h1>Hello, World!</h1>\"))  # Display some HTML\n",
    "    print(\"This is a printed statement.\")   # Print statements\n",
    "    # Create and display a Matplotlib plot\n",
    "    fig, ax = plt.subplots()\n",
    "    ax.plot([1, 2, 3, 4, 5], [1, 4, 9, 16, 25])\n",
    "    plt.show()\n",
    "\n",
    "# Function to convert outputs in the Output widget to HTML\n",
    "def outputs_to_html(output_widget):\n",
    "    # Create a new notebook\n",
    "    nb = nbformat.v4.new_notebook()\n",
    "    # Ensure outputs are wrapped in a list if not already\n",
    "    outputs = output_widget.outputs\n",
    "    if not isinstance(outputs, list):\n",
    "        outputs = [outputs]\n",
    "    # Create a new code cell with the outputs\n",
    "    cell = nbformat.v4.new_code_cell()\n",
    "    cell['outputs'] = outputs\n",
    "    nb.cells.append(cell)\n",
    "    # Use HTMLExporter to convert notebook cell to HTML\n",
    "    exporter = HTMLExporter()\n",
    "    # Exclude extra HTML elements to focus just on the outputs\n",
    "    exporter.exclude_input = True\n",
    "    exporter.exclude_output_prompt = True\n",
    "    exporter.exclude_input_prompt = True\n",
    "    # Convert and get HTML content\n",
    "    body, resources = exporter.from_notebook_node(nb)\n",
    "    return body\n",
    "\n",
    "# Convert and display HTML\n",
    "html_content = outputs_to_html(output)\n",
    "print(html_content)\n"
   ]
  },
  {
   "cell_type": "code",
   "execution_count": null,
   "id": "e8043d27-131f-439e-b500-ee5439c38bac",
   "metadata": {},
   "outputs": [],
   "source": []
  }
 ],
 "metadata": {
  "kernelspec": {
   "display_name": "Python 3 (ipykernel)",
   "language": "python",
   "name": "python3"
  },
  "language_info": {
   "codemirror_mode": {
    "name": "ipython",
    "version": 3
   },
   "file_extension": ".py",
   "mimetype": "text/x-python",
   "name": "python",
   "nbconvert_exporter": "python",
   "pygments_lexer": "ipython3",
   "version": "3.11.0"
  },
  "widgets": {
   "application/vnd.jupyter.widget-state+json": {
    "state": {},
    "version_major": 2,
    "version_minor": 0
   }
  }
 },
 "nbformat": 4,
 "nbformat_minor": 5
}
