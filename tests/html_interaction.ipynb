{
 "cells": [
  {
   "cell_type": "code",
   "execution_count": null,
   "id": "35af99fc-b862-4e08-a864-15ca9a965a77",
   "metadata": {},
   "outputs": [],
   "source": [
    "from cs104 import *"
   ]
  },
  {
   "cell_type": "code",
   "execution_count": null,
   "id": "28217a02-6a8b-47fb-84c8-7d9d7bd5825a",
   "metadata": {
    "tags": []
   },
   "outputs": [],
   "source": [
    "# from ipywidgets import *\n",
    "\n",
    "# IntSlider(\n",
    "#     value=7,\n",
    "#     min=0,\n",
    "#     max=10,\n",
    "#     step=1,\n",
    "#     description='Test:',\n",
    "#     disabled=False,\n",
    "#     continuous_update=False,\n",
    "#     orientation='horizontal',\n",
    "#     readout=True,\n",
    "#     readout_format='d'\n",
    "# )"
   ]
  },
  {
   "cell_type": "code",
   "execution_count": null,
   "id": "6bf4b514-fdec-42d8-b475-a3002db8ec54",
   "metadata": {},
   "outputs": [],
   "source": [
    "def f(x,y,z,k):\n",
    "    return x * y + (100 if z else 0) + k\n",
    "\n",
    "HTML(html_interact(f, x=Slider(0,10,1), y = Choice(10,20,30), z = CheckBox(), k=Fixed(1000)))"
   ]
  },
  {
   "cell_type": "code",
   "execution_count": null,
   "id": "41678fff-1d9e-48ae-8582-e28a56c96eab",
   "metadata": {},
   "outputs": [],
   "source": [
    "t = Table().read_table('finch_beaks_1975_dirty.csv')"
   ]
  },
  {
   "cell_type": "code",
   "execution_count": null,
   "id": "5065a172-fd5e-40cd-afb5-db8fd65e1451",
   "metadata": {
    "tags": []
   },
   "outputs": [],
   "source": [
    "def g(x):\n",
    "    return t.take(np.arange(0,x))"
   ]
  },
  {
   "cell_type": "code",
   "execution_count": null,
   "id": "0bf2940c-aacf-403e-ad78-e16560fbef5f",
   "metadata": {
    "tags": []
   },
   "outputs": [],
   "source": [
    "HTML(html_interact(g, x=Slider(0,80,1)))"
   ]
  },
  {
   "cell_type": "code",
   "execution_count": null,
   "id": "5688690b-eabf-4ba1-ace5-b440edc710d1",
   "metadata": {
    "tags": []
   },
   "outputs": [],
   "source": [
    "%matplotlib inline\n",
    "tt = Table().read_table('happiness.csv')"
   ]
  },
  {
   "cell_type": "code",
   "execution_count": null,
   "id": "9676bb2f-cec6-46ba-a6e3-9faa802b0347",
   "metadata": {
    "tags": []
   },
   "outputs": [],
   "source": [
    "def h(x):\n",
    "    f = Figure()\n",
    "    with f:\n",
    "        tt.take(np.arange(0,x)).hist('Happiness score')\n",
    "        return f\n",
    "    \n",
    "HTML(html_interact(h, x=Slider(1,5)))\n"
   ]
  },
  {
   "cell_type": "code",
   "execution_count": null,
   "id": "32733ecc-a013-4a1a-b9ad-da6f15a630f0",
   "metadata": {},
   "outputs": [],
   "source": []
  },
  {
   "cell_type": "code",
   "execution_count": null,
   "id": "955dc017-9f01-4624-81ff-921dd2097744",
   "metadata": {
    "tags": []
   },
   "outputs": [],
   "source": [
    "def visualize_distributions(N, sample_size, num_trials):\n",
    "    \"\"\"A single function to run our simulation for a given N, sample_size, and num_trials.\"\"\"\n",
    "    population = np.arange(1, N+1)\n",
    "    \n",
    "    # Builds up our outcomes table one row at a time.  We do this to ensure\n",
    "    # we can apply both statistics to the same samples.\n",
    "    outcomes_table = Table([\"Max\", \"2*Mean\"])\n",
    "    \n",
    "    for i in np.arange(num_trials):\n",
    "        sample = np.random.choice(population, sample_size)\n",
    "        outcomes_table.append(make_array(max(sample), 2 * np.mean(sample)))\n",
    "\n",
    "    return \\\n",
    "        outcomes_table.hist(bins=np.arange(1, 2 * N, 10),\n",
    "                    xlim=(200,600),\n",
    "                    ylim=(0,0.06),\n",
    "                    xlabel='Predicted N',\n",
    "                    title='Snoopy Fleet')\n",
    "    "
   ]
  },
  {
   "cell_type": "code",
   "execution_count": null,
   "id": "8653a4a8-24ae-43c0-aec4-186d6d028c9b",
   "metadata": {
    "tags": []
   },
   "outputs": [],
   "source": [
    "HTML(html_interact(visualize_distributions, N = Fixed(400), sample_size=Choice(10,20,30), num_trials=Slider(10,3000,250)))"
   ]
  },
  {
   "cell_type": "code",
   "execution_count": null,
   "id": "65fd516d-4993-4329-86bd-7ffbab147bee",
   "metadata": {},
   "outputs": [],
   "source": []
  }
 ],
 "metadata": {
  "kernelspec": {
   "display_name": "Python 3 (ipykernel)",
   "language": "python",
   "name": "python3"
  },
  "language_info": {
   "codemirror_mode": {
    "name": "ipython",
    "version": 3
   },
   "file_extension": ".py",
   "mimetype": "text/x-python",
   "name": "python",
   "nbconvert_exporter": "python",
   "pygments_lexer": "ipython3",
   "version": "3.11.0"
  }
 },
 "nbformat": 4,
 "nbformat_minor": 5
}
