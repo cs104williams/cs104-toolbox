{
 "cells": [
  {
   "cell_type": "code",
   "execution_count": null,
   "id": "35af99fc-b862-4e08-a864-15ca9a965a77",
   "metadata": {},
   "outputs": [],
   "source": [
    "from cs104 import *"
   ]
  },
  {
   "cell_type": "code",
   "execution_count": null,
   "id": "28217a02-6a8b-47fb-84c8-7d9d7bd5825a",
   "metadata": {
    "tags": []
   },
   "outputs": [],
   "source": [
    "# from ipywidgets import *\n",
    "\n",
    "# IntSlider(\n",
    "#     value=7,\n",
    "#     min=0,\n",
    "#     max=10,\n",
    "#     step=1,\n",
    "#     description='Test:',\n",
    "#     disabled=False,\n",
    "#     continuous_update=False,\n",
    "#     orientation='horizontal',\n",
    "#     readout=True,\n",
    "#     readout_format='d'\n",
    "# )"
   ]
  },
  {
   "cell_type": "code",
   "execution_count": null,
   "id": "6bf4b514-fdec-42d8-b475-a3002db8ec54",
   "metadata": {},
   "outputs": [],
   "source": [
    "def f(x,y,z,k):\n",
    "    return x * y + (100 if z else 0) + k\n",
    "\n",
    "HTML(html_interact(f, x=Slider(0,10,1), y = Choice(10,20,30), z = CheckBox(), k=Fixed(1000)))"
   ]
  },
  {
   "cell_type": "code",
   "execution_count": null,
   "id": "41678fff-1d9e-48ae-8582-e28a56c96eab",
   "metadata": {},
   "outputs": [],
   "source": [
    "t = Table().read_table('finch_beaks_1975_dirty.csv')"
   ]
  },
  {
   "cell_type": "code",
   "execution_count": null,
   "id": "5065a172-fd5e-40cd-afb5-db8fd65e1451",
   "metadata": {
    "tags": []
   },
   "outputs": [],
   "source": [
    "def g(x):\n",
    "    return t.take(np.arange(0,x))"
   ]
  },
  {
   "cell_type": "code",
   "execution_count": null,
   "id": "0bf2940c-aacf-403e-ad78-e16560fbef5f",
   "metadata": {
    "tags": []
   },
   "outputs": [],
   "source": [
    "HTML(html_interact(g, x=Slider(0,80,1)))"
   ]
  },
  {
   "cell_type": "code",
   "execution_count": null,
   "id": "5688690b-eabf-4ba1-ace5-b440edc710d1",
   "metadata": {
    "tags": []
   },
   "outputs": [],
   "source": [
    "%matplotlib inline\n",
    "tt = Table().read_table('happiness.csv')"
   ]
  },
  {
   "cell_type": "code",
   "execution_count": null,
   "id": "9676bb2f-cec6-46ba-a6e3-9faa802b0347",
   "metadata": {
    "tags": []
   },
   "outputs": [],
   "source": [
    "def h(x):\n",
    "    f = Figure()\n",
    "    with f:\n",
    "        tt.take(np.arange(0,x)).hist('Happiness score')\n",
    "        return f\n",
    "    \n",
    "HTML(html_interact(h, x=Slider(1,5)))\n"
   ]
  },
  {
   "cell_type": "code",
   "execution_count": null,
   "id": "32733ecc-a013-4a1a-b9ad-da6f15a630f0",
   "metadata": {},
   "outputs": [],
   "source": []
  },
  {
   "cell_type": "code",
   "execution_count": null,
   "id": "955dc017-9f01-4624-81ff-921dd2097744",
   "metadata": {
    "tags": []
   },
   "outputs": [],
   "source": [
    "def visualize_distributions(N, sample_size, num_trials):\n",
    "    \"\"\"A single function to run our simulation for a given N, sample_size, and num_trials.\"\"\"\n",
    "    population = np.arange(1, N+1)\n",
    "    \n",
    "    # Builds up our outcomes table one row at a time.  We do this to ensure\n",
    "    # we can apply both statistics to the same samples.\n",
    "    outcomes_table = Table([\"Max\", \"2*Mean\"])\n",
    "    \n",
    "    for i in np.arange(num_trials):\n",
    "        sample = np.random.choice(population, sample_size)\n",
    "        outcomes_table.append(make_array(max(sample), 2 * np.mean(sample)))\n",
    "\n",
    "    return \\\n",
    "        outcomes_table.hist(bins=np.arange(1, 2 * N, 10),\n",
    "                    xlim=(200,600),\n",
    "                    ylim=(0,0.06),\n",
    "                    xlabel='Predicted N',\n",
    "                    title='Snoopy Fleet')\n",
    "    "
   ]
  },
  {
   "cell_type": "code",
   "execution_count": null,
   "id": "8653a4a8-24ae-43c0-aec4-186d6d028c9b",
   "metadata": {
    "tags": []
   },
   "outputs": [],
   "source": [
    "HTML(html_interact(visualize_distributions, N = Fixed(400), sample_size=Choice(10,20,30), num_trials=Slider(10,3000,250)))"
   ]
  },
  {
   "cell_type": "code",
   "execution_count": null,
   "id": "65fd516d-4993-4329-86bd-7ffbab147bee",
   "metadata": {
    "tags": []
   },
   "outputs": [],
   "source": [
    "from ipywidgets import *\n",
    "import nbformat\n",
    "from nbconvert import HTMLExporter\n",
    "\n",
    "output = Output()\n",
    "with output:\n",
    "    print(\"Moo\")\n",
    "\n",
    "# Create a notebook node from the outputs of the widget\n",
    "nb = nbformat.v4.new_notebook()\n",
    "nb.cells.append(nbformat.v4.new_output_cell(outputs=output.outputs))\n",
    "\n",
    "# Use the HTMLExporter to get HTML\n",
    "exporter = HTMLExporter()\n",
    "(body, resources) = exporter.from_notebook_node(nb)\n",
    "\n",
    "print(body)  # This will print the HTML representation of the output"
   ]
  },
  {
   "cell_type": "code",
   "execution_count": null,
   "id": "65d85664-60ce-4662-bf1f-56a45d53b3b4",
   "metadata": {
    "tags": []
   },
   "outputs": [],
   "source": [
    "import ipywidgets as widgets\n",
    "from IPython.display import display, HTML\n",
    "import nbformat\n",
    "from nbconvert import HTMLExporter\n",
    "\n",
    "# Create an output widget\n",
    "output = widgets.Output()\n",
    "\n",
    "# Capture some outputs\n",
    "with output:\n",
    "    display(HTML(\"<h1>Hello, World!</h1>\"))\n",
    "    print(\"This is a printed statement.\")\n",
    "    display(HTML(\"<p>This is more HTML content</p>\"))\n",
    "\n",
    "    # Display the Output Widget (optional but useful for visualization)\n",
    "    # Create a notebook node from the outputs of the widget\n",
    "    nb = nbformat.v4.new_notebook()\n",
    "    nb.cells.append(nbformat.v4.new_code_cell(outputs=output.outputs))\n",
    "\n",
    "# Use the HTMLExporter to get HTML\n",
    "exporter = HTMLExporter()\n",
    "(body, resources) = exporter.from_notebook_node(nb)\n"
   ]
  },
  {
   "cell_type": "code",
   "execution_count": null,
   "id": "7387bc1e-9d0c-4ac1-8132-13fe7c68d0f2",
   "metadata": {
    "tags": []
   },
   "outputs": [],
   "source": [
    "import ipywidgets as widgets\n",
    "from IPython.display import display, HTML\n",
    "\n",
    "# Create an output widget\n",
    "output = widgets.Output()\n",
    "\n",
    "# display(output)\n",
    "\n",
    "# Use the output widget as a context manager to capture output\n",
    "with output:\n",
    "    display(HTML(\"<h1>Hello, World!</h1>\"))\n",
    "    print(\"This is a printed statement.\")\n",
    "    display(HTML(\"<p>This is more HTML content</p>\"))\n",
    "    \n",
    "# Display the output widget (optional, for checking contents visually)\n",
    "\n",
    "#     # Function to extract HTML content from the output widget\n",
    "#     def extract_html_from_output(output_widget):\n",
    "#         html_output = ''\n",
    "#         for output in output_widget.outputs:\n",
    "#             print(x)\n",
    "#             if 'text/html' in output['data']:\n",
    "#                 html_output += output['data']['text/html']\n",
    "#         return html_output\n",
    "\n",
    "#     # Get the HTML content\n",
    "#     html_content = extract_html_from_output(output)\n",
    "# print(html_content)\n"
   ]
  },
  {
   "cell_type": "code",
   "execution_count": null,
   "id": "dea81b44-76c7-4495-be32-b9644c38b11d",
   "metadata": {
    "tags": []
   },
   "outputs": [],
   "source": [
    "print(output.outputs)\n",
    "\n"
   ]
  },
  {
   "cell_type": "code",
   "execution_count": null,
   "id": "d686e38c-8d03-4ed7-9515-6f0e1918fa1d",
   "metadata": {
    "tags": []
   },
   "outputs": [],
   "source": [
    "%matplotlib inline\n",
    "from datascience import *\n",
    "tt = Table().read_table('happiness.csv')"
   ]
  },
  {
   "cell_type": "code",
   "execution_count": null,
   "id": "e609a034-c4c5-44fc-9d68-d38f6740454f",
   "metadata": {
    "tags": []
   },
   "outputs": [],
   "source": [
    "output = widgets.Output()\n",
    "\n",
    "# display(output)\n",
    "\n",
    "# Use the output widget as a context manager to capture output\n",
    "with output:\n",
    "    tt.hist('Happiness score')\n",
    "    plt.show()"
   ]
  },
  {
   "cell_type": "code",
   "execution_count": null,
   "id": "3620ae8e-a5f8-42fb-9aaf-992502bb6da8",
   "metadata": {
    "tags": []
   },
   "outputs": [],
   "source": [
    "import base64\n",
    "from IPython.display import HTML\n",
    "import html\n",
    "\n",
    "class OutputToHTMLConverter:\n",
    "    def __init__(self, outputs):\n",
    "        self.outputs = outputs\n",
    "\n",
    "    def _handle_text(self, text):\n",
    "        \"\"\"Convert plaintext to HTML-escaped format.\"\"\"\n",
    "        return f\"<pre>{html.escape(text)}</pre>\"\n",
    "\n",
    "    def _handle_html(self, html):\n",
    "        \"\"\"Directly pass HTML content.\"\"\"\n",
    "        return html\n",
    "\n",
    "    def _handle_image(self, image_data, mime_type):\n",
    "        \"\"\"Convert image data (base64) to HTML image tag.\"\"\"\n",
    "        # base64_data = base64.b64encode(image_data).decode('utf-8')\n",
    "        return f'<img src=\"data:{mime_type};base64,{image_data}\" />'\n",
    "\n",
    "    def convert_to_html(self):\n",
    "        \"\"\"Convert all outputs to HTML.\"\"\"\n",
    "        html_parts = []\n",
    "        for output in self.outputs:\n",
    "            if output['output_type'] == 'display_data':\n",
    "                data = output['data']\n",
    "                if 'text/plain' in data:\n",
    "                    html_parts.append(self._handle_text(data['text/plain']))\n",
    "                if 'text/html' in data:\n",
    "                    html_parts.append(self._handle_html(data['text/html']))\n",
    "                if 'image/png' in data:\n",
    "                    # print(data)\n",
    "                    html_parts.append(self._handle_image(data['image/png'], 'image/png'))\n",
    "                if 'image/jpeg' in data:\n",
    "                    html_parts.append(self._handle_image(data['image/jpeg'], 'image/jpeg'))\n",
    "        return ''.join(html_parts)\n",
    "\n",
    "# Usage example\n",
    "# Assuming `outputs` is your list of output objects from an Output widget\n",
    "converter = OutputToHTMLConverter(output.outputs)\n",
    "html_content = converter.convert_to_html()\n",
    "display(HTML(html_content))"
   ]
  },
  {
   "cell_type": "code",
   "execution_count": null,
   "id": "d8272fc4-2fb6-4ac3-b433-82f4e81b6c99",
   "metadata": {
    "tags": []
   },
   "outputs": [],
   "source": [
    "import matplotlib.pyplot as plt\n",
    "import ipywidgets as widgets\n",
    "from IPython.display import display\n",
    "\n",
    "# Create an output widget\n",
    "output = widgets.Output()\n",
    "\n",
    "# Generate a plot and capture it in the output widget\n",
    "with output:\n",
    "    # Creating a simple plot\n",
    "    fig, ax = plt.subplots()\n",
    "    ax.plot([1, 2, 3, 4, 5], [1, 4, 9, 16, 25])  # Sample plot\n",
    "    plt.show()\n",
    "\n",
    "# Display the output widget to show the plot\n",
    "# display(output)\n"
   ]
  },
  {
   "cell_type": "code",
   "execution_count": null,
   "id": "5177556c-dcb3-493c-bf9e-742cf33857a6",
   "metadata": {
    "tags": []
   },
   "outputs": [],
   "source": [
    "print(output)"
   ]
  },
  {
   "cell_type": "code",
   "execution_count": null,
   "id": "872636e8-0b3f-49c5-b488-a3570ec5a94c",
   "metadata": {
    "tags": []
   },
   "outputs": [],
   "source": [
    "import ipywidgets as widgets\n",
    "from IPython.display import display, HTML\n",
    "import nbformat\n",
    "from nbconvert import HTMLExporter\n",
    "import matplotlib.pyplot as plt\n",
    "\n",
    "# Create an output widget\n",
    "output = widgets.Output()\n",
    "\n",
    "# Use the output widget as a context manager to capture output\n",
    "with output:\n",
    "    display(HTML(\"<h1>Hello, World!</h1>\"))  # Display some HTML\n",
    "    print(\"This is a printed statement.\")   # Print statements\n",
    "    # Create and display a Matplotlib plot\n",
    "    fig, ax = plt.subplots()\n",
    "    ax.plot([1, 2, 3, 4, 5], [1, 4, 9, 16, 25])\n",
    "    plt.show()\n",
    "\n",
    "# Function to convert outputs in the Output widget to HTML\n",
    "def outputs_to_html(output_widget):\n",
    "    # Create a new notebook\n",
    "    nb = nbformat.v4.new_notebook()\n",
    "    # Create a new output cell with content from the Output widget\n",
    "    nb.cells.append(nbformat.v4.new_code_cell(outputs=output_widget.outputs))\n",
    "    # Use HTMLExporter to convert notebook cell to HTML\n",
    "    exporter = HTMLExporter()\n",
    "    # Include basic HTML template to properly render outputs\n",
    "    exporter.template_name = 'basic'\n",
    "    # Convert and get HTML content\n",
    "    body, resources = exporter.from_notebook_node(nb)\n",
    "    return body\n",
    "\n",
    "# Convert and display HTML\n",
    "html_content = outputs_to_html(output)\n",
    "print(html_content)\n"
   ]
  },
  {
   "cell_type": "code",
   "execution_count": null,
   "id": "e84f1c4d-7bb7-42b2-875e-f6c86e365c16",
   "metadata": {
    "tags": []
   },
   "outputs": [],
   "source": [
    "import ipywidgets as widgets\n",
    "from IPython.display import display, HTML\n",
    "import nbformat\n",
    "from nbconvert import HTMLExporter\n",
    "import matplotlib.pyplot as plt\n",
    "\n",
    "# Create an output widget\n",
    "output = widgets.Output()\n",
    "\n",
    "# Capture outputs\n",
    "with output:\n",
    "    display(HTML(\"<h1>Hello, World!</h1>\"))  # Display some HTML\n",
    "    print(\"This is a printed statement.\")   # Print statements\n",
    "    # Create and display a Matplotlib plot\n",
    "    fig, ax = plt.subplots()\n",
    "    ax.plot([1, 2, 3, 4, 5], [1, 4, 9, 16, 25])\n",
    "    plt.show()\n",
    "\n",
    "# Function to convert outputs in the Output widget to HTML\n",
    "def outputs_to_html(output_widget):\n",
    "    # Create a new notebook\n",
    "    nb = nbformat.v4.new_notebook()\n",
    "    # Ensure outputs are wrapped in a list if not already\n",
    "    outputs = output_widget.outputs\n",
    "    if not isinstance(outputs, list):\n",
    "        outputs = [outputs]\n",
    "    # Create a new code cell with the outputs\n",
    "    cell = nbformat.v4.new_code_cell()\n",
    "    cell['outputs'] = outputs\n",
    "    nb.cells.append(cell)\n",
    "    # Use HTMLExporter to convert notebook cell to HTML\n",
    "    exporter = HTMLExporter()\n",
    "    # Exclude extra HTML elements to focus just on the outputs\n",
    "    exporter.exclude_input = True\n",
    "    exporter.exclude_output_prompt = True\n",
    "    exporter.exclude_input_prompt = True\n",
    "    # Convert and get HTML content\n",
    "    body, resources = exporter.from_notebook_node(nb)\n",
    "    return body\n",
    "\n",
    "# Convert and display HTML\n",
    "html_content = outputs_to_html(output)\n",
    "print(html_content)\n"
   ]
  },
  {
   "cell_type": "code",
   "execution_count": null,
   "id": "e8043d27-131f-439e-b500-ee5439c38bac",
   "metadata": {},
   "outputs": [],
   "source": []
  }
 ],
 "metadata": {
  "kernelspec": {
   "display_name": "Python 3 (ipykernel)",
   "language": "python",
   "name": "python3"
  },
  "language_info": {
   "codemirror_mode": {
    "name": "ipython",
    "version": 3
   },
   "file_extension": ".py",
   "mimetype": "text/x-python",
   "name": "python",
   "nbconvert_exporter": "python",
   "pygments_lexer": "ipython3",
   "version": "3.11.0"
  },
  "widgets": {
   "application/vnd.jupyter.widget-state+json": {
    "state": {
     "059b19a88d2548d688c93d1c2a47acf1": {
      "model_module": "@jupyter-widgets/output",
      "model_module_version": "1.0.0",
      "model_name": "OutputModel",
      "state": {
       "layout": "IPY_MODEL_afef573558664a51962946a8c90022de",
       "outputs": [
        {
         "data": {
          "text/html": "<h1>Hello, World!</h1>",
          "text/plain": "<IPython.core.display.HTML object>"
         },
         "metadata": {},
         "output_type": "display_data"
        },
        {
         "name": "stdout",
         "output_type": "stream",
         "text": "This is a printed statement.\n"
        },
        {
         "data": {
          "text/html": "<p>This is more HTML content</p>",
          "text/plain": "<IPython.core.display.HTML object>"
         },
         "metadata": {},
         "output_type": "display_data"
        },
        {
         "ename": "NotebookValidationError",
         "evalue": "() is not of type 'array'\n\nFailed validating 'type' in notebook['properties']['outputs']:\n\nOn instance['outputs']:\n()",
         "output_type": "error",
         "traceback": [
          "\u001b[0;31m---------------------------------------------------------------------------\u001b[0m",
          "\u001b[0;31mNotebookValidationError\u001b[0m                   Traceback (most recent call last)",
          "Cell \u001b[0;32mIn[1], line 18\u001b[0m\n\u001b[1;32m     15\u001b[0m     \u001b[38;5;66;03m# Display the Output Widget (optional but useful for visualization)\u001b[39;00m\n\u001b[1;32m     16\u001b[0m     \u001b[38;5;66;03m# Create a notebook node from the outputs of the widget\u001b[39;00m\n\u001b[1;32m     17\u001b[0m     nb \u001b[38;5;241m=\u001b[39m nbformat\u001b[38;5;241m.\u001b[39mv4\u001b[38;5;241m.\u001b[39mnew_notebook()\n\u001b[0;32m---> 18\u001b[0m     nb\u001b[38;5;241m.\u001b[39mcells\u001b[38;5;241m.\u001b[39mappend(\u001b[43mnbformat\u001b[49m\u001b[38;5;241;43m.\u001b[39;49m\u001b[43mv4\u001b[49m\u001b[38;5;241;43m.\u001b[39;49m\u001b[43mnew_code_cell\u001b[49m\u001b[43m(\u001b[49m\u001b[43moutputs\u001b[49m\u001b[38;5;241;43m=\u001b[39;49m\u001b[43moutput\u001b[49m\u001b[38;5;241;43m.\u001b[39;49m\u001b[43moutputs\u001b[49m\u001b[43m)\u001b[49m)\n\u001b[1;32m     20\u001b[0m \u001b[38;5;66;03m# Use the HTMLExporter to get HTML\u001b[39;00m\n\u001b[1;32m     21\u001b[0m exporter \u001b[38;5;241m=\u001b[39m HTMLExporter()\n",
          "File \u001b[0;32m~/miniconda3/envs/cs104/lib/python3.11/site-packages/nbformat/v4/nbbase.py:131\u001b[0m, in \u001b[0;36mnew_code_cell\u001b[0;34m(source, **kwargs)\u001b[0m\n\u001b[1;32m    121\u001b[0m cell \u001b[38;5;241m=\u001b[39m NotebookNode(\n\u001b[1;32m    122\u001b[0m     \u001b[38;5;28mid\u001b[39m\u001b[38;5;241m=\u001b[39mrandom_cell_id(),\n\u001b[1;32m    123\u001b[0m     cell_type\u001b[38;5;241m=\u001b[39m\u001b[38;5;124m\"\u001b[39m\u001b[38;5;124mcode\u001b[39m\u001b[38;5;124m\"\u001b[39m,\n\u001b[0;32m   (...)\u001b[0m\n\u001b[1;32m    127\u001b[0m     outputs\u001b[38;5;241m=\u001b[39m[],\n\u001b[1;32m    128\u001b[0m )\n\u001b[1;32m    129\u001b[0m cell\u001b[38;5;241m.\u001b[39mupdate(kwargs)\n\u001b[0;32m--> 131\u001b[0m \u001b[43mvalidate\u001b[49m\u001b[43m(\u001b[49m\u001b[43mcell\u001b[49m\u001b[43m,\u001b[49m\u001b[43m \u001b[49m\u001b[38;5;124;43m\"\u001b[39;49m\u001b[38;5;124;43mcode_cell\u001b[39;49m\u001b[38;5;124;43m\"\u001b[39;49m\u001b[43m)\u001b[49m\n\u001b[1;32m    132\u001b[0m \u001b[38;5;28;01mreturn\u001b[39;00m cell\n",
          "File \u001b[0;32m~/miniconda3/envs/cs104/lib/python3.11/site-packages/nbformat/v4/nbbase.py:40\u001b[0m, in \u001b[0;36mvalidate\u001b[0;34m(node, ref)\u001b[0m\n\u001b[1;32m     37\u001b[0m \u001b[38;5;250m\u001b[39m\u001b[38;5;124;03m\"\"\"validate a v4 node\"\"\"\u001b[39;00m\n\u001b[1;32m     38\u001b[0m \u001b[38;5;28;01mfrom\u001b[39;00m \u001b[38;5;21;01m.\u001b[39;00m\u001b[38;5;21;01m.\u001b[39;00m \u001b[38;5;28;01mimport\u001b[39;00m validate \u001b[38;5;28;01mas\u001b[39;00m validate_orig\n\u001b[0;32m---> 40\u001b[0m \u001b[38;5;28;01mreturn\u001b[39;00m \u001b[43mvalidate_orig\u001b[49m\u001b[43m(\u001b[49m\u001b[43mnode\u001b[49m\u001b[43m,\u001b[49m\u001b[43m \u001b[49m\u001b[43mref\u001b[49m\u001b[38;5;241;43m=\u001b[39;49m\u001b[43mref\u001b[49m\u001b[43m,\u001b[49m\u001b[43m \u001b[49m\u001b[43mversion\u001b[49m\u001b[38;5;241;43m=\u001b[39;49m\u001b[43mnbformat\u001b[49m\u001b[43m)\u001b[49m\n",
          "File \u001b[0;32m~/miniconda3/envs/cs104/lib/python3.11/site-packages/nbformat/validator.py:302\u001b[0m, in \u001b[0;36mvalidate\u001b[0;34m(nbdict, ref, version, version_minor, relax_add_props, nbjson, repair_duplicate_cell_ids, strip_invalid_metadata)\u001b[0m\n\u001b[1;32m    292\u001b[0m             cell[\u001b[38;5;124m\"\u001b[39m\u001b[38;5;124mid\u001b[39m\u001b[38;5;124m\"\u001b[39m] \u001b[38;5;241m=\u001b[39m generate_corpus_id()\n\u001b[1;32m    294\u001b[0m \u001b[38;5;28;01mfor\u001b[39;00m error \u001b[38;5;129;01min\u001b[39;00m iter_validate(\n\u001b[1;32m    295\u001b[0m     nbdict,\n\u001b[1;32m    296\u001b[0m     ref\u001b[38;5;241m=\u001b[39mref,\n\u001b[0;32m   (...)\u001b[0m\n\u001b[1;32m    300\u001b[0m     strip_invalid_metadata\u001b[38;5;241m=\u001b[39mstrip_invalid_metadata,\n\u001b[1;32m    301\u001b[0m ):\n\u001b[0;32m--> 302\u001b[0m     \u001b[38;5;28;01mraise\u001b[39;00m error\n\u001b[1;32m    304\u001b[0m \u001b[38;5;28;01mif\u001b[39;00m notebook_supports_cell_ids:\n\u001b[1;32m    305\u001b[0m     \u001b[38;5;66;03m# if we support cell ids check for uniqueness when validating the whole notebook\u001b[39;00m\n\u001b[1;32m    306\u001b[0m     seen_ids \u001b[38;5;241m=\u001b[39m \u001b[38;5;28mset\u001b[39m()\n",
          "\u001b[0;31mNotebookValidationError\u001b[0m: () is not of type 'array'\n\nFailed validating 'type' in notebook['properties']['outputs']:\n\nOn instance['outputs']:\n()"
         ]
        }
       ]
      }
     },
     "08c5614d682443069c6bfbc30da2767c": {
      "model_module": "@jupyter-widgets/output",
      "model_module_version": "1.0.0",
      "model_name": "OutputModel",
      "state": {
       "layout": "IPY_MODEL_808dfe3018c0490ebbc795d88a5f2cb7",
       "outputs": [
        {
         "data": {
          "text/html": "<h1>Hello, World!</h1>",
          "text/plain": "<IPython.core.display.HTML object>"
         },
         "metadata": {},
         "output_type": "display_data"
        },
        {
         "name": "stdout",
         "output_type": "stream",
         "text": "This is a printed statement.\n"
        },
        {
         "data": {
          "text/html": "<p>This is more HTML content</p>",
          "text/plain": "<IPython.core.display.HTML object>"
         },
         "metadata": {},
         "output_type": "display_data"
        },
        {
         "name": "stdout",
         "output_type": "stream",
         "text": "Output(msg_id='11d1461a-ea04-4e19-aa52-5e839cbb4b3c')\n"
        }
       ]
      }
     },
     "0a0bb11a721948b398430ec87d7cd45e": {
      "model_module": "@jupyter-widgets/output",
      "model_module_version": "1.0.0",
      "model_name": "OutputModel",
      "state": {
       "layout": "IPY_MODEL_3ab0912d2dd64649a54ae184bf9a3593",
       "outputs": [
        {
         "data": {
          "text/html": "<h1>Hello, World!</h1>",
          "text/plain": "<IPython.core.display.HTML object>"
         },
         "metadata": {},
         "output_type": "display_data"
        },
        {
         "name": "stdout",
         "output_type": "stream",
         "text": "This is a printed statement.\n"
        },
        {
         "data": {
          "text/html": "<p>This is more HTML content</p>",
          "text/plain": "<IPython.core.display.HTML object>"
         },
         "metadata": {},
         "output_type": "display_data"
        }
       ]
      }
     },
     "0e203c31777f4fcf96797070015f6c04": {
      "model_module": "@jupyter-widgets/base",
      "model_module_version": "1.2.0",
      "model_name": "LayoutModel",
      "state": {}
     },
     "1ab8745a2793409291e863f9812c9282": {
      "model_module": "@jupyter-widgets/output",
      "model_module_version": "1.0.0",
      "model_name": "OutputModel",
      "state": {
       "layout": "IPY_MODEL_f0c155c90f284fd79fd8df6541751fa1",
       "outputs": [
        {
         "data": {
          "text/html": "<h1>Hello, World!</h1>",
          "text/plain": "<IPython.core.display.HTML object>"
         },
         "metadata": {},
         "output_type": "display_data"
        },
        {
         "name": "stdout",
         "output_type": "stream",
         "text": "This is a printed statement.\n"
        },
        {
         "data": {
          "text/html": "<p>This is more HTML content</p>",
          "text/plain": "<IPython.core.display.HTML object>"
         },
         "metadata": {},
         "output_type": "display_data"
        },
        {
         "name": "stdout",
         "output_type": "stream",
         "text": "{'_trait_values': {'_model_module': '@jupyter-widgets/output', '_model_module_version': '1.0.0', '_model_name': 'OutputModel', '_view_count': None, '_view_module': '@jupyter-widgets/output', '_view_module_version': '1.0.0', '_view_name': 'OutputView', 'comm': <ipykernel.comm.comm.BaseComm object at 0x118f617d0>, 'msg_id': '58518e22-eae7-402f-80d8-76378cc912d3', 'keys': ['_dom_classes', '_model_module', '_model_module_version', '_model_name', '_view_count', '_view_module', '_view_module_version', '_view_name', 'layout', 'msg_id', 'outputs'], '_dom_classes': (), 'layout': Layout(), 'outputs': (), '_display_callbacks': <ipywidgets.widgets.widget.CallbackDispatcher object at 0x11900ec50>, '_property_lock': {}}, '_trait_notifiers': {'comm': {'change': [<traitlets.traitlets.ObserveHandler object at 0x111df1b10>]}}, '_trait_validators': {}, '_cross_validation_lock': False, '_model_id': '1ab8745a2793409291e863f9812c9282', '_Output__counter': 1}\n"
        }
       ]
      }
     },
     "21822d04bd204c928272e487cab77d8b": {
      "model_module": "@jupyter-widgets/output",
      "model_module_version": "1.0.0",
      "model_name": "OutputModel",
      "state": {
       "layout": "IPY_MODEL_c742567164d244f8a30f917e1dd3e04e"
      }
     },
     "296e6857d1f846b5b74ee56cb2359a79": {
      "model_module": "@jupyter-widgets/base",
      "model_module_version": "1.2.0",
      "model_name": "LayoutModel",
      "state": {}
     },
     "2cf0f1dd96c64f499f3a1f366e337c3b": {
      "model_module": "@jupyter-widgets/output",
      "model_module_version": "1.0.0",
      "model_name": "OutputModel",
      "state": {
       "layout": "IPY_MODEL_9d5f7e0e4e4e46a0bc0ed768e32e4717"
      }
     },
     "2e694987fc6240df83ce4829e2b24de4": {
      "model_module": "@jupyter-widgets/output",
      "model_module_version": "1.0.0",
      "model_name": "OutputModel",
      "state": {
       "layout": "IPY_MODEL_6cbd6e6940184d43b06f4d9be764905d",
       "outputs": [
        {
         "data": {
          "text/html": "<h1>Hello, World!</h1>",
          "text/plain": "<IPython.core.display.HTML object>"
         },
         "metadata": {},
         "output_type": "display_data"
        },
        {
         "name": "stdout",
         "output_type": "stream",
         "text": "This is a printed statement.\n"
        },
        {
         "data": {
          "text/html": "<p>This is more HTML content</p>",
          "text/plain": "<IPython.core.display.HTML object>"
         },
         "metadata": {},
         "output_type": "display_data"
        }
       ]
      }
     },
     "2e7f688332134bfd8f8ab3094825333a": {
      "model_module": "@jupyter-widgets/base",
      "model_module_version": "1.2.0",
      "model_name": "LayoutModel",
      "state": {}
     },
     "3391a268617446549734dc75683b00bc": {
      "model_module": "@jupyter-widgets/output",
      "model_module_version": "1.0.0",
      "model_name": "OutputModel",
      "state": {
       "layout": "IPY_MODEL_b92b8c56264e4991a12605f2ed93a1a3",
       "outputs": [
        {
         "data": {
          "text/html": "<h1>Hello, World!</h1>",
          "text/plain": "<IPython.core.display.HTML object>"
         },
         "metadata": {},
         "output_type": "display_data"
        },
        {
         "name": "stdout",
         "output_type": "stream",
         "text": "This is a printed statement.\n"
        },
        {
         "data": {
          "text/html": "<p>This is more HTML content</p>",
          "text/plain": "<IPython.core.display.HTML object>"
         },
         "metadata": {},
         "output_type": "display_data"
        }
       ]
      }
     },
     "3ab0912d2dd64649a54ae184bf9a3593": {
      "model_module": "@jupyter-widgets/base",
      "model_module_version": "1.2.0",
      "model_name": "LayoutModel",
      "state": {}
     },
     "4187c8e68c4f4769988f1a68b8a0ee47": {
      "model_module": "@jupyter-widgets/output",
      "model_module_version": "1.0.0",
      "model_name": "OutputModel",
      "state": {
       "layout": "IPY_MODEL_a177269e6451439b98a7c902db6a6937",
       "outputs": [
        {
         "data": {
          "text/html": "<h1>Hello, World!</h1>",
          "text/plain": "<IPython.core.display.HTML object>"
         },
         "metadata": {},
         "output_type": "display_data"
        },
        {
         "name": "stdout",
         "output_type": "stream",
         "text": "This is a printed statement.\n"
        },
        {
         "data": {
          "image/png": "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",
          "text/plain": "<Figure size 640x480 with 1 Axes>"
         },
         "metadata": {},
         "output_type": "display_data"
        }
       ]
      }
     },
     "4a997b7bc08c48d5adbc2ab198ff4fe8": {
      "model_module": "@jupyter-widgets/base",
      "model_module_version": "1.2.0",
      "model_name": "LayoutModel",
      "state": {}
     },
     "53c2d7d0bcb74e6aa831598e9c17fef5": {
      "model_module": "@jupyter-widgets/base",
      "model_module_version": "1.2.0",
      "model_name": "LayoutModel",
      "state": {}
     },
     "53e57449ad9343fe833713d9efd934cc": {
      "model_module": "@jupyter-widgets/output",
      "model_module_version": "1.0.0",
      "model_name": "OutputModel",
      "state": {
       "layout": "IPY_MODEL_296e6857d1f846b5b74ee56cb2359a79",
       "outputs": [
        {
         "data": {
          "image/png": "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",
          "text/plain": "<Figure size 600x400 with 1 Axes>"
         },
         "metadata": {},
         "output_type": "display_data"
        }
       ]
      }
     },
     "55018a0daaa240f4a9c16ef3543cca16": {
      "model_module": "@jupyter-widgets/output",
      "model_module_version": "1.0.0",
      "model_name": "OutputModel",
      "state": {
       "layout": "IPY_MODEL_4a997b7bc08c48d5adbc2ab198ff4fe8",
       "outputs": [
        {
         "data": {
          "text/html": "<h1>Hello, World!</h1>",
          "text/plain": "<IPython.core.display.HTML object>"
         },
         "metadata": {},
         "output_type": "display_data"
        },
        {
         "name": "stdout",
         "output_type": "stream",
         "text": "This is a printed statement.\n"
        },
        {
         "data": {
          "text/html": "<p>This is more HTML content</p>",
          "text/plain": "<IPython.core.display.HTML object>"
         },
         "metadata": {},
         "output_type": "display_data"
        },
        {
         "name": "stdout",
         "output_type": "stream",
         "text": "{'_trait_values': {'_model_module': '@jupyter-widgets/output', '_model_module_version': '1.0.0', '_model_name': 'OutputModel', '_view_count': None, '_view_module': '@jupyter-widgets/output', '_view_module_version': '1.0.0', '_view_name': 'OutputView', 'comm': <ipykernel.comm.comm.BaseComm object at 0x1192ef650>, 'msg_id': 'de8ca7ee-ebd1-401e-a104-51ae1fb1375b', 'keys': ['_dom_classes', '_model_module', '_model_module_version', '_model_name', '_view_count', '_view_module', '_view_module_version', '_view_name', 'layout', 'msg_id', 'outputs'], '_dom_classes': (), 'layout': Layout(), 'outputs': (), '_display_callbacks': <ipywidgets.widgets.widget.CallbackDispatcher object at 0x118ef95d0>, '_property_lock': {}}, '_trait_notifiers': {'comm': {'change': [<traitlets.traitlets.ObserveHandler object at 0x111df1b10>]}}, '_trait_validators': {}, '_cross_validation_lock': False, '_model_id': '55018a0daaa240f4a9c16ef3543cca16', '_Output__counter': 1}\n"
        }
       ]
      }
     },
     "561d5aa53c424a02a270ee1acb7ee63f": {
      "model_module": "@jupyter-widgets/output",
      "model_module_version": "1.0.0",
      "model_name": "OutputModel",
      "state": {
       "layout": "IPY_MODEL_a8263ee032744417a5f0cbcdcc23fad6",
       "outputs": [
        {
         "data": {
          "image/png": "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",
          "text/plain": "<Figure size 600x400 with 1 Axes>"
         },
         "metadata": {},
         "output_type": "display_data"
        }
       ]
      }
     },
     "6cbd6e6940184d43b06f4d9be764905d": {
      "model_module": "@jupyter-widgets/base",
      "model_module_version": "1.2.0",
      "model_name": "LayoutModel",
      "state": {}
     },
     "74e37e07b8a147f4945a92af34ca348e": {
      "model_module": "@jupyter-widgets/output",
      "model_module_version": "1.0.0",
      "model_name": "OutputModel",
      "state": {
       "layout": "IPY_MODEL_2e7f688332134bfd8f8ab3094825333a",
       "outputs": [
        {
         "data": {
          "image/png": "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",
          "text/plain": "<Figure size 640x480 with 1 Axes>"
         },
         "metadata": {},
         "output_type": "display_data"
        }
       ]
      }
     },
     "76b9f3559015441091f1eef1d646f93a": {
      "model_module": "@jupyter-widgets/output",
      "model_module_version": "1.0.0",
      "model_name": "OutputModel",
      "state": {
       "layout": "IPY_MODEL_a8d21f588381423885786764f3aa5279",
       "outputs": [
        {
         "data": {
          "image/png": "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",
          "text/plain": "<Figure size 640x480 with 1 Axes>"
         },
         "metadata": {},
         "output_type": "display_data"
        }
       ]
      }
     },
     "7b8522a9891448e2a2fba61c5ff66113": {
      "model_module": "@jupyter-widgets/output",
      "model_module_version": "1.0.0",
      "model_name": "OutputModel",
      "state": {
       "layout": "IPY_MODEL_7f49507a7ab84e53928b93f06c2027a4",
       "outputs": [
        {
         "data": {
          "text/html": "<h1>Hello, World!</h1>",
          "text/plain": "<IPython.core.display.HTML object>"
         },
         "metadata": {},
         "output_type": "display_data"
        },
        {
         "name": "stdout",
         "output_type": "stream",
         "text": "This is a printed statement.\n"
        },
        {
         "data": {
          "text/html": "<p>This is more HTML content</p>",
          "text/plain": "<IPython.core.display.HTML object>"
         },
         "metadata": {},
         "output_type": "display_data"
        }
       ]
      }
     },
     "7f49507a7ab84e53928b93f06c2027a4": {
      "model_module": "@jupyter-widgets/base",
      "model_module_version": "1.2.0",
      "model_name": "LayoutModel",
      "state": {}
     },
     "808dfe3018c0490ebbc795d88a5f2cb7": {
      "model_module": "@jupyter-widgets/base",
      "model_module_version": "1.2.0",
      "model_name": "LayoutModel",
      "state": {}
     },
     "854089590fc04986bc199573c7fdfb38": {
      "model_module": "@jupyter-widgets/base",
      "model_module_version": "1.2.0",
      "model_name": "LayoutModel",
      "state": {}
     },
     "85d82622155b4a6f8d9d5c779885bf3f": {
      "model_module": "@jupyter-widgets/base",
      "model_module_version": "1.2.0",
      "model_name": "LayoutModel",
      "state": {}
     },
     "88362570a9c64fc8a94e2aa8c51d4040": {
      "model_module": "@jupyter-widgets/output",
      "model_module_version": "1.0.0",
      "model_name": "OutputModel",
      "state": {
       "layout": "IPY_MODEL_efb2a06bb0274426b7eae55d24e54823",
       "outputs": [
        {
         "data": {
          "text/html": "<h1>Hello, World!</h1>",
          "text/plain": "<IPython.core.display.HTML object>"
         },
         "metadata": {},
         "output_type": "display_data"
        },
        {
         "name": "stdout",
         "output_type": "stream",
         "text": "This is a printed statement.\n"
        },
        {
         "data": {
          "text/html": "<p>This is more HTML content</p>",
          "text/plain": "<IPython.core.display.HTML object>"
         },
         "metadata": {},
         "output_type": "display_data"
        }
       ]
      }
     },
     "9b809f1ffbda4740b5f29429199aad8a": {
      "model_module": "@jupyter-widgets/output",
      "model_module_version": "1.0.0",
      "model_name": "OutputModel",
      "state": {
       "layout": "IPY_MODEL_0e203c31777f4fcf96797070015f6c04",
       "outputs": [
        {
         "data": {
          "text/html": "<h1>Hello, World!</h1>",
          "text/plain": "<IPython.core.display.HTML object>"
         },
         "metadata": {},
         "output_type": "display_data"
        },
        {
         "name": "stdout",
         "output_type": "stream",
         "text": "This is a printed statement.\n"
        },
        {
         "data": {
          "image/png": "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",
          "text/plain": "<Figure size 640x480 with 1 Axes>"
         },
         "metadata": {},
         "output_type": "display_data"
        }
       ]
      }
     },
     "9d5f7e0e4e4e46a0bc0ed768e32e4717": {
      "model_module": "@jupyter-widgets/base",
      "model_module_version": "1.2.0",
      "model_name": "LayoutModel",
      "state": {}
     },
     "a177269e6451439b98a7c902db6a6937": {
      "model_module": "@jupyter-widgets/base",
      "model_module_version": "1.2.0",
      "model_name": "LayoutModel",
      "state": {}
     },
     "a384678fb27b454e892bcfa04c923ddc": {
      "model_module": "@jupyter-widgets/base",
      "model_module_version": "1.2.0",
      "model_name": "LayoutModel",
      "state": {}
     },
     "a71b568e2fb64a63b126765b36aec7fd": {
      "model_module": "@jupyter-widgets/output",
      "model_module_version": "1.0.0",
      "model_name": "OutputModel",
      "state": {
       "layout": "IPY_MODEL_85d82622155b4a6f8d9d5c779885bf3f",
       "outputs": [
        {
         "data": {
          "text/html": "<h1>Hello, World!</h1>",
          "text/plain": "<IPython.core.display.HTML object>"
         },
         "metadata": {},
         "output_type": "display_data"
        },
        {
         "name": "stdout",
         "output_type": "stream",
         "text": "This is a printed statement.\n"
        },
        {
         "data": {
          "text/html": "<p>This is more HTML content</p>",
          "text/plain": "<IPython.core.display.HTML object>"
         },
         "metadata": {},
         "output_type": "display_data"
        }
       ]
      }
     },
     "a8263ee032744417a5f0cbcdcc23fad6": {
      "model_module": "@jupyter-widgets/base",
      "model_module_version": "1.2.0",
      "model_name": "LayoutModel",
      "state": {}
     },
     "a8d21f588381423885786764f3aa5279": {
      "model_module": "@jupyter-widgets/base",
      "model_module_version": "1.2.0",
      "model_name": "LayoutModel",
      "state": {}
     },
     "afef573558664a51962946a8c90022de": {
      "model_module": "@jupyter-widgets/base",
      "model_module_version": "1.2.0",
      "model_name": "LayoutModel",
      "state": {}
     },
     "b92b8c56264e4991a12605f2ed93a1a3": {
      "model_module": "@jupyter-widgets/base",
      "model_module_version": "1.2.0",
      "model_name": "LayoutModel",
      "state": {}
     },
     "c15f369b499f49d9a50d7137cc3eafcb": {
      "model_module": "@jupyter-widgets/base",
      "model_module_version": "1.2.0",
      "model_name": "LayoutModel",
      "state": {}
     },
     "c742567164d244f8a30f917e1dd3e04e": {
      "model_module": "@jupyter-widgets/base",
      "model_module_version": "1.2.0",
      "model_name": "LayoutModel",
      "state": {}
     },
     "ccc65488a9944e50986ccf576922f67c": {
      "model_module": "@jupyter-widgets/output",
      "model_module_version": "1.0.0",
      "model_name": "OutputModel",
      "state": {
       "layout": "IPY_MODEL_53c2d7d0bcb74e6aa831598e9c17fef5",
       "outputs": [
        {
         "data": {
          "text/html": "<h1>Hello, World!</h1>",
          "text/plain": "<IPython.core.display.HTML object>"
         },
         "metadata": {},
         "output_type": "display_data"
        },
        {
         "name": "stdout",
         "output_type": "stream",
         "text": "This is a printed statement.\n"
        },
        {
         "data": {
          "text/html": "<p>This is more HTML content</p>",
          "text/plain": "<IPython.core.display.HTML object>"
         },
         "metadata": {},
         "output_type": "display_data"
        },
        {
         "name": "stdout",
         "output_type": "stream",
         "text": "{'_trait_values': {'_model_module': '@jupyter-widgets/output', '_model_module_version': '1.0.0', '_model_name': 'OutputModel', '_view_count': None, '_view_module': '@jupyter-widgets/output', '_view_module_version': '1.0.0', '_view_name': 'OutputView', 'comm': <ipykernel.comm.comm.BaseComm object at 0x118f81390>, 'msg_id': 'deccb009-1385-4efb-80ab-e65b89a27b21', 'keys': ['_dom_classes', '_model_module', '_model_module_version', '_model_name', '_view_count', '_view_module', '_view_module_version', '_view_name', 'layout', 'msg_id', 'outputs'], '_dom_classes': (), 'layout': Layout(), 'outputs': (), '_property_lock': {}}, '_trait_notifiers': {'comm': {'change': [<traitlets.traitlets.ObserveHandler object at 0x111df1b10>]}}, '_trait_validators': {}, '_cross_validation_lock': False, '_model_id': 'ccc65488a9944e50986ccf576922f67c', '_Output__counter': 1}\n"
        }
       ]
      }
     },
     "cd9b1d5e34774d998ac4a702d78e81b4": {
      "model_module": "@jupyter-widgets/output",
      "model_module_version": "1.0.0",
      "model_name": "OutputModel",
      "state": {
       "layout": "IPY_MODEL_fb254df0f05b4a0a99553111d3dee9f0",
       "outputs": [
        {
         "data": {
          "text/html": "<h1>Hello, World!</h1>",
          "text/plain": "<IPython.core.display.HTML object>"
         },
         "metadata": {},
         "output_type": "display_data"
        },
        {
         "name": "stdout",
         "output_type": "stream",
         "text": "This is a printed statement.\n"
        },
        {
         "data": {
          "text/html": "<p>This is more HTML content</p>",
          "text/plain": "<IPython.core.display.HTML object>"
         },
         "metadata": {},
         "output_type": "display_data"
        },
        {
         "name": "stdout",
         "output_type": "stream",
         "text": "()\n"
        }
       ]
      }
     },
     "d946bb936a7a489fac5de82043438cfd": {
      "model_module": "@jupyter-widgets/output",
      "model_module_version": "1.0.0",
      "model_name": "OutputModel",
      "state": {
       "layout": "IPY_MODEL_854089590fc04986bc199573c7fdfb38",
       "outputs": [
        {
         "data": {
          "text/html": "<h1>Hello, World!</h1>",
          "text/plain": "<IPython.core.display.HTML object>"
         },
         "metadata": {},
         "output_type": "display_data"
        },
        {
         "name": "stdout",
         "output_type": "stream",
         "text": "This is a printed statement.\n"
        },
        {
         "data": {
          "text/html": "<p>This is more HTML content</p>",
          "text/plain": "<IPython.core.display.HTML object>"
         },
         "metadata": {},
         "output_type": "display_data"
        },
        {
         "name": "stdout",
         "output_type": "stream",
         "text": "()\n"
        }
       ]
      }
     },
     "da339c48242e4e538a5057648a26b381": {
      "model_module": "@jupyter-widgets/output",
      "model_module_version": "1.0.0",
      "model_name": "OutputModel",
      "state": {
       "layout": "IPY_MODEL_de7797e344984201a83394ba9ca039d6",
       "outputs": [
        {
         "data": {
          "text/html": "<h1>Hello, World!</h1>",
          "text/plain": "<IPython.core.display.HTML object>"
         },
         "metadata": {},
         "output_type": "display_data"
        },
        {
         "name": "stdout",
         "output_type": "stream",
         "text": "This is a printed statement.\n"
        },
        {
         "data": {
          "text/html": "<p>This is more HTML content</p>",
          "text/plain": "<IPython.core.display.HTML object>"
         },
         "metadata": {},
         "output_type": "display_data"
        },
        {
         "ename": "NotebookValidationError",
         "evalue": "() is not of type 'array'\n\nFailed validating 'type' in notebook['properties']['outputs']:\n\nOn instance['outputs']:\n()",
         "output_type": "error",
         "traceback": [
          "\u001b[0;31m---------------------------------------------------------------------------\u001b[0m",
          "\u001b[0;31mNotebookValidationError\u001b[0m                   Traceback (most recent call last)",
          "Cell \u001b[0;32mIn[2], line 18\u001b[0m\n\u001b[1;32m     15\u001b[0m     \u001b[38;5;66;03m# Display the Output Widget (optional but useful for visualization)\u001b[39;00m\n\u001b[1;32m     16\u001b[0m     \u001b[38;5;66;03m# Create a notebook node from the outputs of the widget\u001b[39;00m\n\u001b[1;32m     17\u001b[0m     nb \u001b[38;5;241m=\u001b[39m nbformat\u001b[38;5;241m.\u001b[39mv4\u001b[38;5;241m.\u001b[39mnew_notebook()\n\u001b[0;32m---> 18\u001b[0m     nb\u001b[38;5;241m.\u001b[39mcells\u001b[38;5;241m.\u001b[39mappend(\u001b[43mnbformat\u001b[49m\u001b[38;5;241;43m.\u001b[39;49m\u001b[43mv4\u001b[49m\u001b[38;5;241;43m.\u001b[39;49m\u001b[43mnew_code_cell\u001b[49m\u001b[43m(\u001b[49m\u001b[43moutputs\u001b[49m\u001b[38;5;241;43m=\u001b[39;49m\u001b[43moutput\u001b[49m\u001b[38;5;241;43m.\u001b[39;49m\u001b[43moutputs\u001b[49m\u001b[43m)\u001b[49m)\n\u001b[1;32m     20\u001b[0m \u001b[38;5;66;03m# Use the HTMLExporter to get HTML\u001b[39;00m\n\u001b[1;32m     21\u001b[0m exporter \u001b[38;5;241m=\u001b[39m HTMLExporter()\n",
          "File \u001b[0;32m~/miniconda3/envs/cs104/lib/python3.11/site-packages/nbformat/v4/nbbase.py:131\u001b[0m, in \u001b[0;36mnew_code_cell\u001b[0;34m(source, **kwargs)\u001b[0m\n\u001b[1;32m    121\u001b[0m cell \u001b[38;5;241m=\u001b[39m NotebookNode(\n\u001b[1;32m    122\u001b[0m     \u001b[38;5;28mid\u001b[39m\u001b[38;5;241m=\u001b[39mrandom_cell_id(),\n\u001b[1;32m    123\u001b[0m     cell_type\u001b[38;5;241m=\u001b[39m\u001b[38;5;124m\"\u001b[39m\u001b[38;5;124mcode\u001b[39m\u001b[38;5;124m\"\u001b[39m,\n\u001b[0;32m   (...)\u001b[0m\n\u001b[1;32m    127\u001b[0m     outputs\u001b[38;5;241m=\u001b[39m[],\n\u001b[1;32m    128\u001b[0m )\n\u001b[1;32m    129\u001b[0m cell\u001b[38;5;241m.\u001b[39mupdate(kwargs)\n\u001b[0;32m--> 131\u001b[0m \u001b[43mvalidate\u001b[49m\u001b[43m(\u001b[49m\u001b[43mcell\u001b[49m\u001b[43m,\u001b[49m\u001b[43m \u001b[49m\u001b[38;5;124;43m\"\u001b[39;49m\u001b[38;5;124;43mcode_cell\u001b[39;49m\u001b[38;5;124;43m\"\u001b[39;49m\u001b[43m)\u001b[49m\n\u001b[1;32m    132\u001b[0m \u001b[38;5;28;01mreturn\u001b[39;00m cell\n",
          "File \u001b[0;32m~/miniconda3/envs/cs104/lib/python3.11/site-packages/nbformat/v4/nbbase.py:40\u001b[0m, in \u001b[0;36mvalidate\u001b[0;34m(node, ref)\u001b[0m\n\u001b[1;32m     37\u001b[0m \u001b[38;5;250m\u001b[39m\u001b[38;5;124;03m\"\"\"validate a v4 node\"\"\"\u001b[39;00m\n\u001b[1;32m     38\u001b[0m \u001b[38;5;28;01mfrom\u001b[39;00m \u001b[38;5;21;01m.\u001b[39;00m\u001b[38;5;21;01m.\u001b[39;00m \u001b[38;5;28;01mimport\u001b[39;00m validate \u001b[38;5;28;01mas\u001b[39;00m validate_orig\n\u001b[0;32m---> 40\u001b[0m \u001b[38;5;28;01mreturn\u001b[39;00m \u001b[43mvalidate_orig\u001b[49m\u001b[43m(\u001b[49m\u001b[43mnode\u001b[49m\u001b[43m,\u001b[49m\u001b[43m \u001b[49m\u001b[43mref\u001b[49m\u001b[38;5;241;43m=\u001b[39;49m\u001b[43mref\u001b[49m\u001b[43m,\u001b[49m\u001b[43m \u001b[49m\u001b[43mversion\u001b[49m\u001b[38;5;241;43m=\u001b[39;49m\u001b[43mnbformat\u001b[49m\u001b[43m)\u001b[49m\n",
          "File \u001b[0;32m~/miniconda3/envs/cs104/lib/python3.11/site-packages/nbformat/validator.py:302\u001b[0m, in \u001b[0;36mvalidate\u001b[0;34m(nbdict, ref, version, version_minor, relax_add_props, nbjson, repair_duplicate_cell_ids, strip_invalid_metadata)\u001b[0m\n\u001b[1;32m    292\u001b[0m             cell[\u001b[38;5;124m\"\u001b[39m\u001b[38;5;124mid\u001b[39m\u001b[38;5;124m\"\u001b[39m] \u001b[38;5;241m=\u001b[39m generate_corpus_id()\n\u001b[1;32m    294\u001b[0m \u001b[38;5;28;01mfor\u001b[39;00m error \u001b[38;5;129;01min\u001b[39;00m iter_validate(\n\u001b[1;32m    295\u001b[0m     nbdict,\n\u001b[1;32m    296\u001b[0m     ref\u001b[38;5;241m=\u001b[39mref,\n\u001b[0;32m   (...)\u001b[0m\n\u001b[1;32m    300\u001b[0m     strip_invalid_metadata\u001b[38;5;241m=\u001b[39mstrip_invalid_metadata,\n\u001b[1;32m    301\u001b[0m ):\n\u001b[0;32m--> 302\u001b[0m     \u001b[38;5;28;01mraise\u001b[39;00m error\n\u001b[1;32m    304\u001b[0m \u001b[38;5;28;01mif\u001b[39;00m notebook_supports_cell_ids:\n\u001b[1;32m    305\u001b[0m     \u001b[38;5;66;03m# if we support cell ids check for uniqueness when validating the whole notebook\u001b[39;00m\n\u001b[1;32m    306\u001b[0m     seen_ids \u001b[38;5;241m=\u001b[39m \u001b[38;5;28mset\u001b[39m()\n",
          "\u001b[0;31mNotebookValidationError\u001b[0m: () is not of type 'array'\n\nFailed validating 'type' in notebook['properties']['outputs']:\n\nOn instance['outputs']:\n()"
         ]
        }
       ]
      }
     },
     "db821b02847d410db8f527f733c3bdd1": {
      "model_module": "@jupyter-widgets/output",
      "model_module_version": "1.0.0",
      "model_name": "OutputModel",
      "state": {
       "layout": "IPY_MODEL_c15f369b499f49d9a50d7137cc3eafcb",
       "outputs": [
        {
         "data": {
          "text/html": "<h1>Hello, World!</h1>",
          "text/plain": "<IPython.core.display.HTML object>"
         },
         "metadata": {},
         "output_type": "display_data"
        },
        {
         "name": "stdout",
         "output_type": "stream",
         "text": "This is a printed statement.\n"
        },
        {
         "data": {
          "text/html": "<p>This is more HTML content</p>",
          "text/plain": "<IPython.core.display.HTML object>"
         },
         "metadata": {},
         "output_type": "display_data"
        }
       ]
      }
     },
     "de7797e344984201a83394ba9ca039d6": {
      "model_module": "@jupyter-widgets/base",
      "model_module_version": "1.2.0",
      "model_name": "LayoutModel",
      "state": {}
     },
     "efb2a06bb0274426b7eae55d24e54823": {
      "model_module": "@jupyter-widgets/base",
      "model_module_version": "1.2.0",
      "model_name": "LayoutModel",
      "state": {}
     },
     "efcd3fdf429b4d79853be6343e673621": {
      "model_module": "@jupyter-widgets/output",
      "model_module_version": "1.0.0",
      "model_name": "OutputModel",
      "state": {
       "layout": "IPY_MODEL_fa4cbc403a5b4fb7ac1657d0208689db",
       "outputs": [
        {
         "data": {
          "text/html": "<h1>Hello, World!</h1>",
          "text/plain": "<IPython.core.display.HTML object>"
         },
         "metadata": {},
         "output_type": "display_data"
        },
        {
         "name": "stdout",
         "output_type": "stream",
         "text": "This is a printed statement.\n"
        },
        {
         "data": {
          "text/html": "<p>This is more HTML content</p>",
          "text/plain": "<IPython.core.display.HTML object>"
         },
         "metadata": {},
         "output_type": "display_data"
        }
       ]
      }
     },
     "f0c155c90f284fd79fd8df6541751fa1": {
      "model_module": "@jupyter-widgets/base",
      "model_module_version": "1.2.0",
      "model_name": "LayoutModel",
      "state": {}
     },
     "f3d9b08c4ae240d481bfe37d8105d050": {
      "model_module": "@jupyter-widgets/output",
      "model_module_version": "1.0.0",
      "model_name": "OutputModel",
      "state": {
       "layout": "IPY_MODEL_a384678fb27b454e892bcfa04c923ddc",
       "outputs": [
        {
         "data": {
          "text/html": "<h1>Hello, World!</h1>",
          "text/plain": "<IPython.core.display.HTML object>"
         },
         "metadata": {},
         "output_type": "display_data"
        },
        {
         "name": "stdout",
         "output_type": "stream",
         "text": "This is a printed statement.\n"
        },
        {
         "data": {
          "text/html": "<p>This is more HTML content</p>",
          "text/plain": "<IPython.core.display.HTML object>"
         },
         "metadata": {},
         "output_type": "display_data"
        },
        {
         "name": "stdout",
         "output_type": "stream",
         "text": "Output(msg_id='5a32fa9a-d67a-4dbd-82e5-a1f7abed5f06')\n"
        }
       ]
      }
     },
     "fa4cbc403a5b4fb7ac1657d0208689db": {
      "model_module": "@jupyter-widgets/base",
      "model_module_version": "1.2.0",
      "model_name": "LayoutModel",
      "state": {}
     },
     "fb254df0f05b4a0a99553111d3dee9f0": {
      "model_module": "@jupyter-widgets/base",
      "model_module_version": "1.2.0",
      "model_name": "LayoutModel",
      "state": {}
     }
    },
    "version_major": 2,
    "version_minor": 0
   }
  }
 },
 "nbformat": 4,
 "nbformat_minor": 5
}
