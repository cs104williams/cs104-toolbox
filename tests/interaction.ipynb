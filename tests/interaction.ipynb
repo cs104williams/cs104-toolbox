{
 "cells": [
  {
   "cell_type": "code",
   "execution_count": null,
   "id": "d6c6f2a5-0707-4d98-b331-0eb51be00c31",
   "metadata": {
    "tags": []
   },
   "outputs": [],
   "source": [
    "from datascience import *"
   ]
  },
  {
   "cell_type": "code",
   "execution_count": null,
   "id": "c377825d-62ba-4b73-8718-c2cbda462fb3",
   "metadata": {
    "tags": []
   },
   "outputs": [],
   "source": [
    "from cs104 import *\n",
    "import numpy as np\n",
    "%matplotlib inline"
   ]
  },
  {
   "cell_type": "code",
   "execution_count": null,
   "id": "ed642179",
   "metadata": {
    "tags": []
   },
   "outputs": [],
   "source": [
    "def f(*args):\n",
    "    print(*args)\n",
    "\n",
    "f(1,2,3)"
   ]
  },
  {
   "cell_type": "code",
   "execution_count": null,
   "id": "52cf6ae7-c109-47f1-b6c8-0ebaac1484b6",
   "metadata": {
    "tags": []
   },
   "outputs": [],
   "source": [
    "def visualize_distributions(N, sample_size, num_trials):\n",
    "    \"\"\"A single function to run our simulation for a given N, sample_size, and num_trials.\"\"\"\n",
    "    population = np.arange(1, N+1)\n",
    "    \n",
    "    # Builds up our outcomes table one row at a time.  We do this to ensure\n",
    "    # we can apply both statistics to the same samples.\n",
    "    outcomes_table = Table([\"Max\", \"2*Mean\"])\n",
    "    \n",
    "    for i in np.arange(num_trials):\n",
    "        sample = np.random.choice(population, sample_size)\n",
    "        outcomes_table.append(make_array(max(sample), 2 * np.mean(sample)))\n",
    "        \n",
    "    outcomes_table.hist(bins=np.arange(1, 2 * N, 10),\n",
    "                        xlim=(200,600),\n",
    "                        ylim=(0,0.1),\n",
    "                        xlabel='Predicted N',\n",
    "                        title='Snoopy Fleet')\n",
    "    "
   ]
  },
  {
   "cell_type": "code",
   "execution_count": null,
   "id": "f529ed8b-c80c-4cb9-8967-987259148d13",
   "metadata": {
    "tags": []
   },
   "outputs": [],
   "source": [
    "interact(visualize_distributions, N = Fixed(400), sample_size=Choice(10,20,30), num_trials=Slider(10,3000))"
   ]
  },
  {
   "cell_type": "code",
   "execution_count": null,
   "id": "917c4251-9890-41a9-8859-72ef6336f070",
   "metadata": {
    "tags": []
   },
   "outputs": [],
   "source": [
    "marbles = Table().with_columns(\n",
    "        'Color', make_array('Red', 'Green', 'Blue',\n",
    "                            'Red', 'Green', 'Green'),\n",
    "        'Shape', make_array('Round', 'Rectangular', 'Rectangular',\n",
    "                            'Round', 'Rectangular', 'Round'),\n",
    "        'Amount', make_array(4, 6, 12, 7, 9, 2),\n",
    "        'Price', make_array(1.30, 1.20, 2.00, 1.75, 0, 3.00))\n"
   ]
  },
  {
   "cell_type": "code",
   "execution_count": null,
   "id": "ca85cfc4-ac67-49b6-a26c-e1a8b67ad094",
   "metadata": {
    "tags": []
   },
   "outputs": [],
   "source": [
    "def marbles_with_color(color):\n",
    "    return marbles.where('Color', color)\n",
    "\n",
    "interact(marbles_with_color, color = Choice('Red', 'Green', 'Blue'))"
   ]
  },
  {
   "cell_type": "code",
   "execution_count": null,
   "id": "dc7f789f-bf77-423e-965e-3e2b80402fbd",
   "metadata": {
    "tags": []
   },
   "outputs": [],
   "source": [
    "import seaborn\n",
    "df = seaborn.load_dataset(\"penguins\")\n",
    "bills = Table.from_df(df).where('species', \"Adelie\")\n"
   ]
  },
  {
   "cell_type": "code",
   "execution_count": null,
   "id": "07d05e6d-7c67-4e13-b5f4-c2cec2d63de5",
   "metadata": {
    "tags": []
   },
   "outputs": [],
   "source": [
    "bills"
   ]
  },
  {
   "cell_type": "code",
   "execution_count": null,
   "id": "46c330e4-364a-4fed-b251-26d4ce58854b",
   "metadata": {
    "tags": []
   },
   "outputs": [],
   "source": [
    "def length_hist(num_bins):\n",
    "    bills.hist('bill_length_mm', bins=num_bins)\n",
    "\n",
    "interact(length_hist, num_bins=Slider(1,20))"
   ]
  },
  {
   "cell_type": "code",
   "execution_count": null,
   "id": "8d77f3df-c60f-4e8d-a4e6-3c82cec8207c",
   "metadata": {
    "tags": []
   },
   "outputs": [],
   "source": [
    "def sum_three(a,b,c):\n",
    "    print()\n",
    "    print(\"Sum = \", a + b + c)\n",
    "\n",
    "print()\n",
    "print()\n",
    "    \n",
    "interact(sum_three, a=Slider(1,20), b=Choice(5,10), c=Fixed(100))\n",
    "\n",
    "print()"
   ]
  },
  {
   "cell_type": "code",
   "execution_count": null,
   "id": "d9219018-7435-43d5-afd5-70912587812f",
   "metadata": {},
   "outputs": [],
   "source": []
  }
 ],
 "metadata": {
  "kernelspec": {
   "display_name": "Python 3 (ipykernel)",
   "language": "python",
   "name": "python3"
  },
  "language_info": {
   "codemirror_mode": {
    "name": "ipython",
    "version": 3
   },
   "file_extension": ".py",
   "mimetype": "text/x-python",
   "name": "python",
   "nbconvert_exporter": "python",
   "pygments_lexer": "ipython3",
   "version": "3.11.0"
  },
  "widgets": {
   "application/vnd.jupyter.widget-state+json": {
    "state": {},
    "version_major": 2,
    "version_minor": 0
   }
  }
 },
 "nbformat": 4,
 "nbformat_minor": 5
}
