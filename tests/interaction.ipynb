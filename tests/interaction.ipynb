{
 "cells": [
  {
   "cell_type": "code",
   "execution_count": null,
   "id": "d6c6f2a5-0707-4d98-b331-0eb51be00c31",
   "metadata": {
    "tags": []
   },
   "outputs": [],
   "source": [
    "from datascience import *"
   ]
  },
  {
   "cell_type": "code",
   "execution_count": null,
   "id": "c377825d-62ba-4b73-8718-c2cbda462fb3",
   "metadata": {
    "tags": []
   },
   "outputs": [],
   "source": [
    "from cs104 import *\n",
    "import numpy as np\n",
    "%matplotlib inline"
   ]
  },
  {
   "cell_type": "code",
   "execution_count": null,
   "id": "ed642179",
   "metadata": {
    "tags": []
   },
   "outputs": [],
   "source": [
    "def f(*args):\n",
    "    print(*args)\n",
    "\n",
    "f(1,2,3)"
   ]
  },
  {
   "cell_type": "code",
   "execution_count": null,
   "id": "52cf6ae7-c109-47f1-b6c8-0ebaac1484b6",
   "metadata": {
    "tags": []
   },
   "outputs": [],
   "source": [
    "def visualize_distributions(N, sample_size, num_trials):\n",
    "    \"\"\"A single function to run our simulation for a given N, sample_size, and num_trials.\"\"\"\n",
    "    population = np.arange(1, N+1)\n",
    "    \n",
    "    # Builds up our outcomes table one row at a time.  We do this to ensure\n",
    "    # we can apply both statistics to the same samples.\n",
    "    outcomes_table = Table([\"Max\", \"2*Mean\"])\n",
    "    \n",
    "    for i in np.arange(num_trials):\n",
    "        sample = np.random.choice(population, sample_size)\n",
    "        outcomes_table.append(make_array(max(sample), 2 * np.mean(sample)))\n",
    "        \n",
    "    outcomes_table.hist(bins=np.arange(1, 2 * N, 10),\n",
    "                        xlim=(200,600),\n",
    "                        ylim=(0,0.1),\n",
    "                        xlabel='Predicted N',\n",
    "                        title='Snoopy Fleet')\n",
    "    "
   ]
  },
  {
   "cell_type": "code",
   "execution_count": null,
   "id": "f529ed8b-c80c-4cb9-8967-987259148d13",
   "metadata": {
    "tags": []
   },
   "outputs": [],
   "source": [
    "interact(visualize_distributions, N = Fixed(400), sample_size=Choice(10,20,30), num_trials=Slider(10,3000))"
   ]
  },
  {
   "cell_type": "code",
   "execution_count": null,
   "id": "917c4251-9890-41a9-8859-72ef6336f070",
   "metadata": {
    "tags": []
   },
   "outputs": [],
   "source": [
    "marbles = Table().with_columns(\n",
    "        'Color', make_array('Red', 'Green', 'Blue',\n",
    "                            'Red', 'Green', 'Green'),\n",
    "        'Shape', make_array('Round', 'Rectangular', 'Rectangular',\n",
    "                            'Round', 'Rectangular', 'Round'),\n",
    "        'Amount', make_array(4, 6, 12, 7, 9, 2),\n",
    "        'Price', make_array(1.30, 1.20, 2.00, 1.75, 0, 3.00))\n"
   ]
  },
  {
   "cell_type": "code",
   "execution_count": null,
   "id": "ca85cfc4-ac67-49b6-a26c-e1a8b67ad094",
   "metadata": {
    "tags": []
   },
   "outputs": [],
   "source": [
    "def marbles_with_color(color):\n",
    "    return marbles.where('Color', color)\n",
    "\n",
    "interact(marbles_with_color, color = Choice('Red', 'Green', 'Blue'))"
   ]
  },
  {
   "cell_type": "code",
   "execution_count": null,
   "id": "dc7f789f-bf77-423e-965e-3e2b80402fbd",
   "metadata": {
    "tags": []
   },
   "outputs": [],
   "source": [
    "import seaborn\n",
    "df = seaborn.load_dataset(\"penguins\")\n",
    "bills = Table.from_df(df).where('species', \"Adelie\")\n"
   ]
  },
  {
   "cell_type": "code",
   "execution_count": null,
   "id": "07d05e6d-7c67-4e13-b5f4-c2cec2d63de5",
   "metadata": {
    "tags": []
   },
   "outputs": [],
   "source": [
    "bills"
   ]
  },
  {
   "cell_type": "code",
   "execution_count": null,
   "id": "46c330e4-364a-4fed-b251-26d4ce58854b",
   "metadata": {
    "tags": []
   },
   "outputs": [],
   "source": [
    "def length_hist(num_bins):\n",
    "    bills.hist('bill_length_mm', bins=num_bins)\n",
    "\n",
    "interact(length_hist, num_bins=Slider(1,20))"
   ]
  },
  {
   "cell_type": "code",
   "execution_count": null,
   "id": "8d77f3df-c60f-4e8d-a4e6-3c82cec8207c",
   "metadata": {
    "tags": []
   },
   "outputs": [],
   "source": [
    "def sum_three(a,b,c):\n",
    "    print()\n",
    "    print(\"Sum = \", a + b + c)\n",
    "\n",
    "print()\n",
    "print()\n",
    "    \n",
    "interact(sum_three, a=Slider(1,20), b=Choice(5,10), c=Fixed(100))\n",
    "\n",
    "print()"
   ]
  },
  {
   "cell_type": "code",
   "execution_count": null,
   "id": "d9219018-7435-43d5-afd5-70912587812f",
   "metadata": {},
   "outputs": [],
   "source": []
  }
 ],
 "metadata": {
  "kernelspec": {
   "display_name": "Python 3 (ipykernel)",
   "language": "python",
   "name": "python3"
  },
  "language_info": {
   "codemirror_mode": {
    "name": "ipython",
    "version": 3
   },
   "file_extension": ".py",
   "mimetype": "text/x-python",
   "name": "python",
   "nbconvert_exporter": "python",
   "pygments_lexer": "ipython3",
   "version": "3.11.0"
  },
  "widgets": {
   "application/vnd.jupyter.widget-state+json": {
    "state": {
     "02f25f347ac44ca488b01e78c5b60030": {
      "model_module": "@jupyter-widgets/output",
      "model_module_version": "1.0.0",
      "model_name": "OutputModel",
      "state": {
       "layout": "IPY_MODEL_ed49e8f15cc34d428b6ee47be3595d0c",
       "outputs": [
        {
         "data": {
          "text/html": "<table border=\"1\" class=\"dataframe\">\n    <thead>\n        <tr>\n            <th>Color</th> <th>Shape</th> <th>Amount</th> <th>Price</th>\n        </tr>\n    </thead>\n    <tbody>\n        <tr>\n            <td>Red  </td> <td>Round</td> <td>4     </td> <td>1.3  </td>\n        </tr>\n        <tr>\n            <td>Red  </td> <td>Round</td> <td>7     </td> <td>1.75 </td>\n        </tr>\n    </tbody>\n</table>",
          "text/plain": "Color | Shape | Amount | Price\nRed   | Round | 4      | 1.3\nRed   | Round | 7      | 1.75"
         },
         "metadata": {},
         "output_type": "display_data"
        }
       ]
      }
     },
     "118970ddaa944aed98505496d0007401": {
      "model_module": "@jupyter-widgets/base",
      "model_module_version": "1.2.0",
      "model_name": "LayoutModel",
      "state": {}
     },
     "1ccc066337db40c19393eb1f4c012e32": {
      "model_module": "@jupyter-widgets/base",
      "model_module_version": "1.2.0",
      "model_name": "LayoutModel",
      "state": {}
     },
     "1fbe2cb524ec4bfda7daebcc3c13739f": {
      "model_module": "@jupyter-widgets/controls",
      "model_module_version": "1.5.0",
      "model_name": "DescriptionStyleModel",
      "state": {
       "description_width": ""
      }
     },
     "224f0f632f474691ae0af1211a9cb4ec": {
      "model_module": "@jupyter-widgets/base",
      "model_module_version": "1.2.0",
      "model_name": "LayoutModel",
      "state": {}
     },
     "3056ca572aaa40b4b94b011a4cb97e92": {
      "model_module": "@jupyter-widgets/base",
      "model_module_version": "1.2.0",
      "model_name": "LayoutModel",
      "state": {}
     },
     "42bb4d762bcc40c4b916476decc9d98f": {
      "model_module": "@jupyter-widgets/controls",
      "model_module_version": "1.5.0",
      "model_name": "IntSliderModel",
      "state": {
       "description": "num_trials",
       "layout": "IPY_MODEL_b18873694ccf4287864924b83c29dc7a",
       "max": 3000,
       "min": 10,
       "style": "IPY_MODEL_925e80cd03fd4ba38a6b62ce8890da95",
       "value": 1505
      }
     },
     "4e2dc36b154f4487a2eb291b3ad2df68": {
      "model_module": "@jupyter-widgets/controls",
      "model_module_version": "1.5.0",
      "model_name": "DescriptionStyleModel",
      "state": {
       "description_width": ""
      }
     },
     "5f3bddc607114a63998890b4f0690261": {
      "model_module": "@jupyter-widgets/controls",
      "model_module_version": "1.5.0",
      "model_name": "IntSliderModel",
      "state": {
       "description": "a",
       "layout": "IPY_MODEL_7c22a9d69c254b1496d53cc5e8ec6804",
       "max": 20,
       "min": 1,
       "style": "IPY_MODEL_7075f26a256b4dc69babcc68701bc4c1",
       "value": 10
      }
     },
     "622c4001b4834157af13abd2053ffae9": {
      "model_module": "@jupyter-widgets/controls",
      "model_module_version": "1.5.0",
      "model_name": "VBoxModel",
      "state": {
       "_dom_classes": [
        "widget-interact"
       ],
       "children": [
        "IPY_MODEL_74015b011722462cbb45ec76065f7113",
        "IPY_MODEL_42bb4d762bcc40c4b916476decc9d98f",
        "IPY_MODEL_f4350a7edc10487d9eb25dc8f1c7a6ff"
       ],
       "layout": "IPY_MODEL_69f14578b992419aac41684a7afe489c"
      }
     },
     "69f14578b992419aac41684a7afe489c": {
      "model_module": "@jupyter-widgets/base",
      "model_module_version": "1.2.0",
      "model_name": "LayoutModel",
      "state": {}
     },
     "6cd42e6ca6034e49be53cc255655f685": {
      "model_module": "@jupyter-widgets/output",
      "model_module_version": "1.0.0",
      "model_name": "OutputModel",
      "state": {
       "layout": "IPY_MODEL_1ccc066337db40c19393eb1f4c012e32",
       "outputs": [
        {
         "data": {
          "image/png": "iVBORw0KGgoAAAANSUhEUgAAAjUAAAGLCAYAAAA/PWMAAAAAOXRFWHRTb2Z0d2FyZQBNYXRwbG90bGliIHZlcnNpb24zLjcuMSwgaHR0cHM6Ly9tYXRwbG90bGliLm9yZy/bCgiHAAAACXBIWXMAAA9hAAAPYQGoP6dpAABKVUlEQVR4nO3deVxU5f4H8M+ZGUAQEWVxIQ31Olgi4Ia53hQ1NRUl08Al19zA+7vulnmv5ZZlKWrp1dRcWpTE1OyapZZLuO8KuaEiQoEICKPAzPn9YcwVGYbhMMxy+LxfL17lec7yPY9nho/nPOccQRRFEURERER2TmHtAoiIiIjMgaGGiIiIZIGhhoiIiGSBoYaIiIhkgaGGiIiIZIGhhoiIiGSBoYaIiIhkgaGGiIiIZIGhhoiIiGShUoSac+fO4cUXX8TRo0eLtQ0dOhR+fn4Gf44dO2aFaomIiEgKlbULqGiJiYmYOHEitFqtwfaEhAQEBgZi8ODBxdoaNWpU0eURERGRmcg61Ozbtw/vvPMOMjMzDbbfu3cPmZmZaNu2LUJDQy1cHREREZmTbC8/vfXWW4iMjISXlxd69+5tcJ6EhAQAQOPGjS1ZGhEREVUA2YaaGzduYPLkyYiNjYWvr6/BeeLj4wH8L9Tk5uZCp9NZqkQiIiIyI9leftqzZw8cHR2NzlMYamJiYrBnzx6kpaXBxcUF3bp1w4wZM+Dh4WGJUomIiMgMZBtqSgs0wP8uP8XHx2P69OlwcnLCkSNHsG3bNpw5cwbbtm2Du7u72WoSRRGCIJhtfURERPQ/sg01poiIiIBGo8GYMWP0YaNHjx5o2LAhFi1ahDVr1mDatGlm255OJyIrK9ds6ysrpVIBNzdnZGVpoNXyMltp2F9lw/4qG/ZX2bC/ykZu/eXm5gylsvQRM5U61AwdOtTg9MGDB+PDDz/E4cOHzRpqAKCgwPoHl1ars4k67AX7q2zYX2XD/iob9lfZVLb+ku1A4fJwdHSEm5sbcnJyrF0KERERmajShporV67g1VdfxYIFC4q1paenIyMjA88//7wVKiMiIiIpKm2o8fX1RWpqKmJjY5GSkqKfLooilixZAgAICwuzVnlERERURpV2TI2zszNmz56NmTNnYuDAgQgPD4erqyt++uknxMXFoU+fPnj11VetXSYRERGZqNKGGgDo168fvL29sXr1avznP/+BVqtFw4YNMWfOHISHh1u7PCIiIioDQRRF0dpFVBZarQ7371tv8LFKpUCNGlWRkZFTqUbDS8X+Khv2V9mwv8qG/VU2cuuvmjWrmnRLd6UdU0NERETywlBDREREssBQQ0RERLLAUENERESywFBDREREslCpb+kmooonCAIUCtt/O71OJ4I3gxLZN4YaIqowgiDAwdkBeVrbDwuOSgH5mnwGGyI7xlBDRBVGoRCQpxUR/fNVpGRqrF1OiWpXd8akkMZQKgRo7SCAEZFhDDVEVOFSMjVIyrDdUENE8sCBwkRERCQLDDVEREQkCww1REREJAsMNURERCQLDDVEREQkCww1REREJAsMNURERCQLDDVEREQkCww1REREJAsMNURERCQLDDVEREQkCww1REREJAsMNURERCQLDDVEREQkCww1REREJAsMNURERCQLDDVEREQkCww1REREJAsMNURERCQLDDVEREQkCww1REREJAsMNURERCQLDDVEREQkCww1REREJAsMNURERCQLKmsXQEREZSMIAhQKwdpllEqnEyGKorXLoEqEoYaIyI4IggAHZwfkaW0/LDgqBeRr8hlsyGLsItScO3cO4eHhWLt2Ldq1a1ek7eTJk1i1ahXOnTsHjUYDHx8f9OrVC+PHj4ejo2Op616xYgWWL19usC0yMhJRUVFm2QciInNQKATkaUVE/3wVKZkaa5dTotrVnTEppDGUCgFaOwhgJA82H2oSExMxceJEaLXaYm3Hjx/H8OHD4enpieHDh6NGjRo4evQoPv30U5w6dQrr16+HUqk0uv74+Hi4urpizpw5xdr8/PzMth9EROaUkqlBUobthhoia7DpULNv3z688847yMzMNNj+7rvvolq1aoiNjYWHhwcAICIiAgsXLsSGDRvwww8/oHfv3ka3ER8fj8aNGyM0NNTs9RMREZHl2OzdT2+99RYiIyPh5eVlMJjcuXMHiYmJ6Nq1qz7QFOrXrx+AJ2dyjMnJyUFSUhLUarXZ6iYiIiLrsNkzNTdu3MDkyZMxYsQIrF69ulh77dq1sXfvXjg5ORVrS0tLA4BSLz0lJCRAFEU0btwYAPD48WMoFAo4ODiYYQ+IiIjIkmw21OzZs8foQF8HBwf4+voabFu7di0AoE2bNka3ER8fDwC4ePEievbsiZs3b0KhUKBVq1aYMWMGmjZtKq14I1Qq650cUyoVRf5LxrG/ysZQfykUArQAIPz1Y6v+qk2pFCAIlvn7lnp8VdY+5eexbCprf9lsqDHlziVDli9fjri4ODRt2hTdu3c3Om9CQgIA4NSpUxgxYgRq166NK1euYN26dQgPD8emTZsQGBgoqQ5DFAoBNWpUNdv6pHJzc7Z2CXaF/VU2z/ZX+sPHUCmVUJVy5tSaVEolFAoB1V1dLL5tKcdXZe5Tfh7LprL1l82GGilWrFiBFStWwNPTE8uWLYNCYTyhdurUCe7u7hgxYgTc3d0BACEhIejUqRPeeOMNzJs3D9u2bTNbfTqdiKysXLOtr6yUSgXc3JyRlaWBVquzWh32gv1VNob6S6EQoBMUKNBqUWDgDkZbUaDVQqcTkZmZC53OMrcfSz2+Kmuf8vNYNnLrLzc3Z5POOski1OTn5+Pf//43YmJiUKtWLaxfvx716tUrdbmQkBCEhIQUmx4QEIDmzZvj5MmTyMrKgpubm9lqLSiw/sGl1epsog57wf4qm6f7S6lUPPmWEf/6sVV/1abVihb/BVDW46uy9yk/j2VT2frL7i+2PXz4EOPGjUNMTAwaNWqEr776Co0aNSr3egvvqMrJySn3uoiIiKji2XWoyc3NxejRo3H48GEEBwfj66+/ho+Pj0nL6nQ6hIWF4Y033jDYfv36dbi4uMDLy8ucJRMREVEFsetQM3v2bJw5cwadO3fG559/XqbLRAqFAtWrV8eZM2dw8ODBIm07duzAtWvX0KdPH6hUsrhCR0REJHt2+xv75MmT+P777+Ho6IhOnTrhhx9+KDZPvXr10KJFCwDAmTNncPv2bbRo0UI/3mbWrFmIiIjAP/7xDwwaNAgNGjTA+fPnERsbC7VajSlTplh0n4iIiEg6uw01Bw4cAADk5eVh7ty5Bufp06ePPtR88803iI2NxcKFC/WhRq1WIyYmBsuXL8euXbuQnZ2NWrVqYeTIkRg/fjyqVatmmZ0hIiKichNEvhPeYrRaHe7ft97AY5VKgRo1qiIjI6dSjYaXiv1VNob6S6lUQKtS4u3t52365YvP1XDGgrAAKAu0Frv7SerxVVn7lJ/HspFbf9WsWdWkW7rtekwNERERUSGGGiIiIpIFhhoiIiKSBYYaIiIikgWGGiIiIpIFhhoiIiKSBYYaIiIikgWGGiIiIpIFhhoiIiKSBYYaIiIikgWGGiIiIpIFhhoiIiKSBbt9SzcRkTkJAqBQCLDUv/WebOvJf015Ud/Ty2krqigiO8dQQ0SVnpuzAxyUCuSJsNj5ay2A9IePoRMUZfsmVgiAKFZUWUR2jaGGiCo9F0cl8rQ6RP98FSmZGstsVABUSiUKtFqgDBnF38cdES/Vr7i6iOwYQw0R0V9SMjVIyrDtUFO7epWKq4nIznGgMBEREclChYea7Ozsit4EERERkbRQExISgg8++KDU+aZNm4aePXtK2QQRERFRmUgKNXfv3kV6enqp892+fRtZWVlSNkFERERUJiYNFB45ciRu3LhRZNq+ffvw8ssvl7hMbm4usrOz0ahRo3IVSERERGQKk0PN6NGj9X8WBAEajQYajfG7BNzc3DBjxozyVUhERERkApNCTYcOHXDgwAHodDqIooiuXbuiW7dumDlzpsH5BUGAk5MTatasCUEQzFowET0hCIL+qbS2wNATcvn0WyKyJJOfU1OnTh39/0dGRsLPzw8+Pj4VUhQRGScIAhycHZCntZ0nyxp8Qi6ffktEFiTp4XuRkZHmroOIykChEJCnFS37BNzSGHiYHJ9+S0SWZFKomT59OgRBwLRp0+Dp6Ynp06ebvAFBEEy6/ZuIys6iT8AtjYFQw6ffEpElmRRqdu7cCUEQMG7cOHh6emLnzp0mb4ChhoiIiCzBpFCzcOFCAICXl1eRPxMRERHZCpNCTf/+/Y3+mYiIiMja+EJLIiIikgVJdz8BwMOHD7Fz505cvXoVGo0GOp3O4HwcU0NERESWICnU3Lt3DxEREUhJSYFYyjMoGGqIiIjIEiSFmujoaNy7dw/PP/88+vbtC29vb6hUkk/6EBEREZWbpCTy66+/okaNGti2bRvc3NzMXRMRERFRmUkaKPzw4UO0bt2agYaIiIhshqRQU79+ffzxxx/mroWIiIhIMkmh5vXXX8f58+dx8uRJc9dDREREJImkMTX9+vXDiRMn8NZbb2HQoEEIDAxE9erVS5y/bdu2kgs0h3PnziE8PBxr165Fu3btirQlJydj6dKlOHr0KLKzs+Hn54exY8ciJCTEStUSERGRFJJCTXBwMARBgCiK2LBhg9F5BUHA5cuXpWzGLBITEzFx4kRotdpibX/++SeGDBmCBw8eYOjQoahVqxZiYmIwYcIEfPTRR+jTp48VKiYiIiIpJIWa1q1bm7uOCrFv3z688847yMzMNNi+YsUK3L17F19++SVatmwJAAgLC8Prr7+O+fPnIyQkBC4uLpYsmYiIiCSSFGo2bdpk7jrM7q233sIvv/yCv/3tb+jYsSN2795dpF2r1WLnzp0IDAzUBxoAqFKlCoYOHYp3330XBw8eRK9evSxdOhEREUkg23c/3bhxA5MnT0ZsbCx8fX2LtV+9ehW5ubkIDAws1hYQEADgyVgcIiIisg+SztTcuXOnTPPXq1dPymbKZc+ePXB0dCyxPTU1FQBQp06dYm21a9cGACQlJZm9LpXKejlSqVQU+S8ZZ8v9pVAI0AKA8NePDRD+KkSAAFEo+voUQRBspk5jLFmnsf4yaXlb79O/alMqBQhC+T9Dtvx5tEWVtb8khZpu3bo9+UCZwFoDhY0FGgDIzs4GAINjZpydnQEAGo3GrDUpFAJq1Khq1nVK4ebmbO0S7Iqt9lf6w8dQKZVQKZXWLqWIp79En/5itbU6n2bNOsv6S8de+lSlVEKhEFDd1bzjEm3182irKlt/SQo1devWNThdp9MhKysLubm5AJ4MKPby8pJeXQUy9iLOwjZTg5updDoRWVm5Zl1nWSiVCri5OSMrSwOt1vBb1el/bLm/FAoBOkGBAq0WBQbu7LMGAQKUSgW0Wh1EPPkMFfabVquzmToNsUadhvrLFPbSpwVaLXQ6EZmZudDpyn4m6lm2/Hm0RXLrLzc3Z5P+ASAp1Ozfv99o+9WrVzF37lwkJydj2bJlUjZR4apWfXLG5NGjR8XaCs/QVMRrIAoKrH9wabU6m6jDXthifymViiefXvGvHxtQeAlFhFisJlEsPs0WWbJOY/1l0vK23qd/1abVimb9pWqLn0dbVtn6q0IutjVu3BiffvopMjMzsXTp0orYRLk999xzAICUlJRibYXjbQrH1hAREZHtq7ARRG5ubmjdunWpZ3WspWHDhqhWrRrOnz9frK3wrqcWLVpYuiwiIiKSqEKHRWs0Gv2AXFujUqnQq1cvnD59GqdPn9ZPf/ToETZv3gxPT0906tTJihUSERFRWUgaU2OKAwcO4Pjx42jUqFFFbaLcoqKisH//fowZMwYjRoxAzZo1ERMTg6tXr+Ljjz+Gk5OTtUskIiIiE0kKNYMHDy6xTavV4v79+/pn2QwcOFBaZRbg5eWFr776CkuWLMHGjRuRn58PPz8/rF69Gn//+9+tXR4RERGVgaRQc+rUqVLncXR0xODBgzF06FApmzCrqKgoREVFGWyrV6+ezQ5mJusQBAEKxZMf4Mnt07b2ACv9w/eIiEhPUqjZuHFjiW0KhQIuLi5o0KCB/iF2RPZCEAQ4ODsgTytCiycPuNMJigq8UCuRQgCMPGuJiKgykvRVHRwcbO46iGyCQiEgTysi+uerSMnSQKVUPnnAmY3lB38fd0S8VN/aZRAR2RRb+/cnkU1IydQg6YHthpra1atYuwQiIptjWwMFiIiIiCRiqCEiIiJZYKghIiIiWWCoISIiIlmQFGr++9//6h+uR0RERGQLJN39NH/+fDg4ONjsyyqJiIio8pF0piYzMxP+/v7mroWIiIhIMkmhJigoCGfPnrXZN3ATERFR5SPp8tO7776LqKgohIaGok+fPvDz84O7uzsEQTA4f9u2bctVJBEREVFpJIWaPn36QBAEiKKI//znP0bnFQQBly9fllQcERERkakkhZrWrVubuw4iIiKicpEUajZt2mTuOoiIiIjKhQ/fIyIiIlko11u6MzIyEBMTg+PHjyMlJQUdOnTAjBkz8Nlnn8HPzw9dunQxV51ERERERkkONYcOHcLUqVORlZUFURQhCAJeeOEFAMCePXsQHR2N4cOHY8aMGWYrloiIiKgkki4/Xb16FZGRkcjNzcXgwYOxevVqiKKob3/99dfh6uqKDRs28KnDREREZBGSztR89tlnyMvLw2effYaXX365WPuwYcMQFBSEQYMGYfPmzbwMRURERBVO0pmaY8eOISAgwGCgKRQQEIAWLVrg6tWrUmsjIiIiMpmkUJOVlYVatWqVOp+7uzsyMzOlbIKIiIioTCSFGm9vbyQkJJQ6X0JCAry9vaVsgoiIiKhMJIWal19+Gbdv3zb6EL4NGzYgKSkJHTt2lFwcERERkakkDRQeN24cfvjhByxYsABxcXEIDg4GAPzxxx+IiYnBr7/+in379sHNzQ1jxowxa8FEREREhkgKNV5eXli3bh0mTZqEn3/+WX/b9rFjx3Ds2DGIoggvLy9ER0ejbt26Zi2YiIiIyBDJD99r0qQJ9uzZgx9//BHHjh3DvXv3oNVq4e3tjdatW6NXr16oUqWKOWslIiIiKlG5XpOgUqnQq1cv9OrVy1z1EBEREUlSrlADACkpKYiLi8Mff/wBlUqF2rVro3379qhevbo56iMiIiIyieRQk5ycjPfffx8HDx4s1qZUKhEaGorp06cz3BAREZFFSAo1aWlpGDJkCJKTk1GjRg106NABderUgSiKSE5OxuHDh/Htt9/iypUr2LJlC5ydnc1dNxEREVERkkLNp59+iuTkZPTr1w9z586Fk5NTkXaNRoPZs2djz549WLduHSZOnGiWYomIiIhKIunhewcPHkS9evUwf/78YoEGAJydnbFo0SLUrl0bu3btKneRRERERKWRFGrS09Px4osvQqlUljiPg4MDAgICcO/ePcnFEREREZlKUqjx9fVFfHw8RFE0Ot+dO3dQr149SYURERERlYWkUDNu3DjcunULCxYsKDHYbN68GVeuXMGIESPKVSARERGRKSQNFFYqlejcuTM2b96M3377DT169MDzzz8PpVKJ1NRUHDx4EMePH0ft2rWRlJSEZcuW6ZcVBAGTJk0yS/FJSUkICQkxOo+Pj4/+NQ6GxMbGYubMmQbb+vfvj0WLFpWrRiIiIrIMSaFm0qRJEAQBoiji2rVrWLFiBQRB0LcXnr25d+8eVq1aBVEU9fObM9TUrFkTixcvNti2a9cuHDp0CN27dze6jvj4eADA/Pnz4eDgUKStfv36ZqmTiIiIKp6kUDNx4sQiIcZaXFxcEBoaWmx6fHw8Zs+ejVatWmHq1KlG1xEfHw9vb28MGDCgosokIiIiC5AUaqKiosxdh9nodDrMmjULALBgwQKoVMZ3MSEhAU2bNrVEaURERFSBJA0UtmXbt2/H5cuXMWrUKDz//PNG501NTUVGRgYaN24MAMjLy0NeXp4lyiQiIiIzK/cLLW1Jfn4+li9fDnd3d4wZM6bU+QvH0yQlJSEsLAzx8fHQ6XTw9/fH5MmT0a5dO7PXqFJZL0cqlYoi/6XiFAoBWgAQAAFPLrEKECAKxh9fYC2CIADWvxIMwHh/2VKdxliyzvIeXzbfp3/VplQKEITyf+fw+6tsKmt/ySrU/Pe//0VKSgqioqJQtWrVUudPSEgAAJw+fRojR45EZGQkbt68iXXr1mHUqFGIjo5Gt27dzFafQiGgRo3S66pobm58F5cx6Q8fQ6VU2vSXwtO1qYw8BNManu4vW67zadass6zHl730qUqphEIhoLqri1nXy++vsqls/SWrULNlyxY4OTlhyJAhJs0fFBSEcePGYcCAAUUeEtijRw/07t0bc+fORZcuXYw+ObksdDoRWVm5ZlmXFEqlAm5uzsjK0kCr1VmtDlumUAjQCQoUaLXQanVQKhXQanUQYVtnagr//rRaHQq0WitX84QAoVh/2WKdhlijTkP9ZQp76dMCrRY6nYjMzFzodOX//PD7q2zk1l9ubs4m/QNANqEmNTUVZ8+eRdeuXeHu7m7SMsHBwQgODi423cfHB926dcN3332H33//HS+88ILZ6iwosP7BpdXqbKIOW6RUKp58KkTof9GIT/5gk0TRdmorvIRiqL9sqU5jLFmnsf4yaXlb79O/atNqRbP+UuX3V9lUtv6yvfPqEv30008QRRG9evUyy/o8PDwAADk5OWZZHxEREVUsSaFmx44dOHXqVKnz/fzzz4iOjpayiTI7fvw4BEFAx44dTV5m3LhxeOWVVwze8XT9+nUAfAAfERGRvZAUambOnImtW7eWOt93332H9evXS9lEmV28eBG+vr6oVq2ayct4enoiMTER27ZtKzL92LFj+PXXX9GhQwd4e3ubu1QiIiKqACaNqdmxYwcKCgqKTLt16xZiYmJKXObhw4f47bffir16oCLk5eUhKSkJHTp0KHGe+Ph4JCQkwM/PD02aNAHw5CGChw4dwvz583HlyhX4+/vj2rVr+Prrr+Ht7Y25c+dWeO1ERERkHiaFmkuXLmHTpk36VyMIgoBz587h3LlzRpcTRRH9+/cvf5WlyMjIAAC4ubmVOM++ffuwYsUKREZG6kNNrVq1EBMTg+XLl+PAgQOIjY2Fh4cHwsLCEBkZybM0REREdsSkUDNp0iQ8fPhQ/+fY2FjUr18fLVu2LHEZJycn+Pr6Ijw8vPxVlqJWrVr6Z86UJCoqyuDrHby8vPDee+9VVGlERERkISaFmmrVqmHhwoX6P8fGxiIoKKjINCIiIiJrkvScmsLXCxARERHZinI/fO/+/fvIzc198iCoEjz9tF4iIiKiiiA51GzYsAFr165Fenq60fkEQcDly5elboaIiIjIJJJCzfbt27Fo0SIAgKOjI2rUqGG29yMRERERSSEp1GzevBmCIGD27NkYOHCgRZ5FQ0RERGSMpFBz/fp1BAUFYfDgweauh4iIiEgSSa9JcHZ2Ro0aNcxdCxEREZFkkkJNcHAwzp8/j0ePHpm7HiIiIiJJJIWaf/7zn3j06BHeeecdZGVlmbsmIiIiojKTNKbm66+/RkBAAPbs2YO9e/fC19cXbm5u+ndDPU0QBGzevLnchRIREREZIynUfPHFF/r/LygowLVr10qc11DQISIiIjI3SaFm48aN5q6DiIiIqFwkhZrg4GBz10FERERULuV+91N+fj6uXLmCe/fuwdPTEy1btkRycjLq1q1rjvqIiIiITCI51BQUFGDlypXYsmULsrOzAQB9+vRBy5YtMX36dGg0GnzyySeoX7++2YolIiIiKomkW7oLCgowduxYrFq1ChqNBv7+/kXe0p2VlYVLly4hIiICaWlpZiuWiIiIqCSSQs2WLVtw5MgRtG/fHvv378e2bduKtG/duhWhoaFIS0vDunXrzFIoERHZF0EAFAoBSqWi3D8KxZM7ac21vqd/eJeufEgKNbGxsXB3d8eyZcvg5eVVrL1KlSqYN28evL298euvv5a7SCIisi9uzg5wUCqQr1BAq1KW+ydPUCD94WPkCeZZ39M/Ds4ODDYyIWlMTWJiIjp06ICqVauWOI+DgwMCAgJw5MgRycUREZF9cnFUIk+rQ/TPV5GSqSn/CgVApVSiQKsFxNJnN1Xt6s6YFNIYSoUArdaMKyarkBRqVCqVSa9HePDgAVSqct9gRUREdiolU4OkDNsNNSQvki4/vfDCC7hw4QLu3btX4jx37tzBhQsX0KRJE8nFEREREZlKUqgJDw+HRqPBhAkTEB8fX6w9ISEBUVFRyMvLw4ABA8pdJBEREVFpJF0b6tWrF+Li4rB161b0798f1apVgyAIOHToEF5++WWkpqZCFEW8+uqrCA0NNXfNRERERMVIHvDy3nvvISgoCGvWrMHNmzcBABkZGQCAunXr4s0338SwYcPMUyURERFRKco1ijcsLAxhYWFIS0tDcnIydDodvLy84OPjY676iIiIiEwiaUxNofv37+PYsWPw9PREQEAAgoKCkJubi40bNyI1NdVcNRIRERGVSnKo+eqrr9CpUyd88MEHRaafP38eCxYsQI8ePbBr165yF0hERERkCkmh5tChQ5g7dy4cHBzQvn37Im0tW7bE6NGjAQDTp0/Hb7/9Vv4qiYiIiEohKdSsXbsWKpUKmzZtwpQpU4q0+fr6YurUqdi4cSMUCgXWrl1rlkKJiIiIjJEUaq5evYo2bdrA39+/xHmaNWuGVq1a4ezZs1JrIyIiIjKZpFDz6NEjODs7lzpf9erVUVBQIGUTRERERGUiKdT4+vrixIkTePjwYYnzPHr0CCdPnkT9+vUlF0dERERkKkmhpm/fvsjMzMSkSZOQlpZWrP3+/fv4v//7P2RkZKB3797lLpKIiIioNJIevjd48GD88MMPOHr0KF5++WX4+/ujTp06AICUlBRcvHgR+fn5aNq0KYYPH27OeomIiIgMkhRqHBwcsH79enz88cfYvn07zp49W2RAsKOjIwYNGoRp06bBycnJXLUSERERlUjyaxJcXFwwe/ZsTJ8+HRcvXsSff/4JrVYLLy8vNG3aFC4uLuass8LNmjUL27dvN9i2cOFChIWFWbgiIiIiKgtJoWbIkCF4/vnnMX/+fDg6OqJFixbmrsvi4uPjUa9ePURFRRVrk8P+ERERyZ2kUHPx4kU4ODiYuxarKSgowLVr19C9e3eEhoZauxwiIiKSQNLdT1WrVoUoiuauxWpu3ryJvLw8qNVqa5dCREREEkkKNePHj8fx48exfv16PHr0yNw1WVx8fDwAoHHjxgAAjUYDrVZrzZKIiIiojCRdfrpz5w7q16+PxYsXY8mSJahfvz6qV68OhaJ4RhIEAZs3by53oRWpMNT88ssveP/995GcnAwHBwd06tQJM2fONOsDBFUqyS9GLzelUlHkv1ScQiFACwACIEDAk/8VIAq2eWZSEAT8VabVGesvW6rTGEvWWd7jq7L1aYV9Hv+qTakUIAjy+W6srN/3kkLNF198of//goIC3Lhxo8R5BcH2P3UJCQkAgLNnz2LChAlwd3fH6dOnsWnTJpw+fRrbtm1DvXr1yr0dhUJAjRpVy72e8nJzK/0VF5VZ+sPHUCmVNv2l8HRtKqXSytUU9XR/2XKdT7NmnWU9vip7n5r786hSKqFQCKjual937Jqqsn3fSwo1GzduNHcdVtW7d28EBARg3LhxcHR0BAB069YNzZs3R1RUFJYsWYKlS5eWezs6nYisrNxyr0cqpVIBNzdnZGVpoNXqrFaHLVMoBOgEBQq0Wmi1OiiVCmi1OoiwrTM1hX9/Wq0OBTZyqVSAUKy/bLFOQ6xRp6H+MkVl7VOp/VWaAq0WOp2IzMxc6HS29TkvD7l937u5OZsUaCWFmuDgYCmL2ax+/foZnN69e3fUqVMHhw8fNtu2Cgqsf3BptTqbqMMWKZWKJ58KEfovTvHJH2ySKNpObYWXBAz1ly3VaYwl6zTWXyYtX8n6tLz9VfKKn/xHqxVl8cv/WZXt+77c5/Hy8/Nx/vx57N27F6dOnQIAJCcnl7swW+Hh4YHcXOudXSEiIiLTSH6icEFBAVauXIktW7YgOzsbANCnTx+0bNkS06dPh0ajwSeffGLzb+lOS0vDiBEj0KBBA0RHRxdpy8/Px61bt8wynoaIiIgqlqQzNQUFBRg7dixWrVoFjUYDf3//Is+tycrKwqVLlxAREWHwLd62xMPDA3l5edi/fz+uXLlSpG316tXIzs7Ga6+9ZqXqiIiIyFSSQs2WLVtw5MgRtG/fHvv378e2bduKtG/duhWhoaFIS0vDunXrzFJoRREEAf/+978BAMOGDcMnn3yCLVu2ICoqCsuXL0ebNm34pnEiIiI7ICnUxMbGwt3dHcuWLYOXl1ex9ipVqmDevHnw9vbGr7/+Wu4iK1rbtm3x1VdfoWXLlvjyyy+xcOFCXLt2Df/3f/+HtWvX6u+IIiIiItslaUxNYmIiOnTogKpVS37mioODAwICAnDkyBHJxVlSs2bNsGrVKmuXQURERBJJOlOjUqmQlZVV6nwPHjyASiV5LDIRERGRySSFmhdeeAEXLlzAvXv3Spznzp07uHDhApo0aSK5OCIiIiJTSQo14eHh0Gg0mDBhgv69SU9LSEhAVFQU8vLyMGDAgHIXSURERFQaSdeGevXqhbi4OGzduhX9+/dHtWrVIAgCDh06hJdffhmpqakQRRGvvvoqQkNDzV0zERERUTGSB7y89957CAoKwpo1a3Dz5k0AQEZGBgCgbt26ePPNNzFs2DDzVElERERUinKN4g0LC0NYWBjS0tKQnJwMnU4HLy8v+Pj4mKs+IiIiIpOY5dYkT09PeHp6mmNVRERERJKYHGq0Wi02b96Mffv2IT09HXXr1kWfPn1KfMM1ERERkSWZFGry8vIwatQonDx5Uv+Op5s3b+Lo0aM4cOAAli1bVqFFEhEREZXGpFDz5Zdf4sSJE6hVqxZGjx6N+vXr4/fff8fatWvx448/4rvvvuNdTkRERGRVJoWavXv3okqVKvjqq69Qt25dAMDf//53dOzYEf3798f333/PUENERERWZdLD927cuIFWrVrpA02hJk2aoGnTpgYfwEdERERkSSaFmpycHFSvXt1g23PPPYcHDx6YsyYiIiKiMjMp1BQUFECpVBpsc3BwQH5+vlmLIiIiIiorSe9+IiIiIrI1DDVEREQkCww1REREJAsmP1H4p59+QkhISLHphS+xNNQGAIIg4KeffpJYHhEREZFpTA41ubm5yM3NLbH97t27BqcLglD2qoiIiIjKyKRQs3Hjxoqug4iIiKhcTAo1wcHBFV0HERERUblwoDARERHJAkMNERERyQJDDREREckCQw0RERHJgsm3dBOVhyAIUChs//Z+hUKA1tpFEBGRJAw1VOEEQYCDswPytKK1SymdQgBEO6iTiIiKYaihCqdQCMjTioj++SpSMjXWLscofx93RLxU39plEBGRBAw1ZDEpmRokZdh2qKldvYq1SyAiIok4UJiIiIhkgaGGiIiIZIGhhoiIiGSBoYaIiIhkgaGGiIiIZIGhhoiIiGSBoYaIiIhkgaGGiIiIZEEWD99LSEjAypUrcfz4cTx8+BBeXl4ICQnBpEmT4ObmZnTZ2NhYzJw502Bb//79sWjRoooomYiIiMzM7kPNjRs38MYbb0ClUiEiIgJ16tTB2bNnsWXLFsTFxeGbb75B1apVS1w+Pj4eADB//nw4ODgUaatfn4/LJyIishd2H2rmzZuH/Px8xMTEoFGjRgCAN954Ay+++CLmz5+PzZs3Y+zYsSUuHx8fD29vbwwYMMBSJRMREVEFsOsxNY8fP8aJEyfQqlUrfaAp1K9fPwDA8ePHja4jISEBarW6okokIiIiC7HrMzUODg7Ys2cPdDpdsba0tDQAgFKpLHH51NRUZGRkoHHjxgCAvLw8AICjo2MFVEtEREQVya5DjUKhQL169Qy2rVmzBgDQpk2bEpcvHE+TlJSEsLAwxMfHQ6fTwd/fH5MnT0a7du3MXrNKZb2TY0qlosh/LUWhEKAFAOGvHzsgCAKEv4oVIEAURCtXZJggCDbTp8b6y5bqNMaSdZb3+KpsfVphn8e/alMqBQiCXV+8KMJa3/fWZtehpiTbt2/H9u3bUadOHQwaNKjE+RISEgAAp0+fxsiRIxEZGYmbN29i3bp1GDVqFKKjo9GtWzez1aVQCKhRo+RBy5bi5uZs8W2mP3wMlVIJlZEzZ7bg6S8CW/5SeLo2W+vTp/vLlut8mjXrLOvxVdn71NyfR5VSCYVCQHVXF7Ou11ZY4/vemmQXamJiYjBnzhy4uLggOjoarq6uJc4bFBSEcePGYcCAAUXO+PTo0QO9e/fG3Llz0aVLF6OXsMpCpxORlZVrlnVJoVQq4ObmjKwsDbTa4pfsKopCIUAnKFCg1aJAq7XYdqUo7BetVgetVgelUgGtVgcRtnWm5uk6baVPBQjF+ssW6zTEGnUa6i9TVNY+ldpfpSnQaqHTicjMzIVOZ1uf8/Kw1vd9RXFzczYp0Moq1ERHR2PlypVwdXXF6tWrERAQYHT+4OBgBAcHF5vu4+ODbt264bvvvsPvv/+OF154wWw1FhRY/+DSanUWrUOpVDw50sS/fuyAKIr6L04Ros3WLYq2U1vhJQFD/WVLdRpjyTqN9ZdJy1eyPi1vf5W84if/0WpFWfzyf5alv++tTRahJj8/H7Nnz8aOHTvg7e2NNWvWoEmTJuVap4eHBwAgJyfHHCUSERFRBbO9wQJlpNVqMXnyZOzYsQNqtRpbt241OdCMGzcOr7zyiv6up6ddv34dAB/AR0REZC/sPtQsXboUP/74IwICArBlyxbUqVPH5GU9PT2RmJiIbdu2FZl+7Ngx/Prrr+jQoQO8vb3NXTIRERFVALu+/HTnzh2sW7cOgiCgW7duOHDgQLF5PDw80KFDB8THxyMhIQF+fn76MzlRUVE4dOgQ5s+fjytXrsDf3x/Xrl3D119/DW9vb8ydO9fSu0REREQS2XWoOXToEAoKCgAAS5YsMThPixYt0KFDB+zbtw8rVqxAZGSkPtTUqlULMTExWL58OQ4cOIDY2Fh4eHggLCwMkZGRPEtDRERkR+w61ERERCAiIsKkeaOiohAVFVVsupeXF9577z1zl0ZEREQWZvdjaoiIiIgAhhoiIiKSCYYaIiIikgWGGiIiIpIFhhoiIiKSBYYaIiIikgWGGiIiIpIFhhoiIiKSBYYaIiIikgWGGiIiIpIFhhoiIiKSBYYaIiIikgW7fqElERFRZSEIAhQKwaR5C+dTKAQolZY/f6HTiRBF0eLbZaghIiKycYIgwMHZAXla04KCFkD6w8fQCQqr/KZ3VArI1+RbPNgw1BAREdk4hUJAnlZE9M9XkZKpKX0BAVAplSjQagELnzCpXd0Zk0IaQ6kQoDUxhJkLQw0REZGdSMnUICnDtkONNXGgMBEREckCQw0RERHJAkMNERERyQJDDREREckCQw0RERHJAu9+snP28DAmhUKA1mJbIyIqG0Eo/H603X/n83vUNAw1dsxuHsakEAArPFmSiKg0bs4OcFAqkCfCljMNv0dNxFBjx+zlYUz+Pu6IeKm+5TZIRGQiF0cl8rQ6079HrYTfo6ZhqJEBW38YU+3qVSy3MSIiCUz+HrUSfo+axpZPthERERGZjKGGiIiIZIGhhoiIiGSBoYaIiIhkgaGGiIiIZIGhhoiIiGSBoYaIiIhkgaGGiIiIZIGhhoiIiGSBoYaIiIhkgaGGiIiIZIGh5i8ZGRl4//330blzZwQEBKBv376IiYmxdllERERkIr7QEkBubi5GjhyJq1evIiIiAg0bNsQPP/yAd955B2lpaRg3bpy1SyQiIqJSMNQA2Lx5My5fvoyPPvoIffr0AQAMHDgQo0ePxooVKxAaGoo6depYuUoiIiIyhpefAOzYsQNeXl7o3bu3fppCocCoUaOQn5+PXbt2WbE6IiIiMkWlDzXZ2dm4ceMGAgICIAhCkbbAwEAAwPnz561RGhEREZWBIIqiaO0irOnatWt49dVXMWTIELz77rvF2lu0aIH69etjx44d5d6WKIrQ6czX3YIAiAAyNQXQ6nSmLQMBIiz7V+6oVMC1iqpMdVrLs7Vao79MYat9+mx/2Wqdz7JWnVKOr8rcpxXxeZRzf1rr+0upUKC6swoCAHMlDIVCKHbiwZBKP6YmOzsbAODi4mKw3dnZGRqNxizbEgQBSmXpfyllVbOqo9nXWRHspU7AfmplneZlL3UC9lMr6zQve6nTWir95afSTlSJomhSOiQiIiLrqvShpmrVqgBQ4tkYjUYDNzc3S5ZEREREElT6UOPj4wNBEJCamlqsLTs7G7m5uahdu7YVKiMiIqKyqPShxtXVFY0aNcKFCxeKtZ07dw7Ak8HCREREZNsqfagBgL59++LevXvYvXu3fppOp8O6devg6OiIV1991YrVERERkSkq/S3dAPDo0SO89tpruHXrFoYOHYoGDRpgz549+O233zB9+nSMGjXK2iUSERFRKRhq/nL//n18/PHH2L9/P3JyctCgQQMMHz4c/fr1s3ZpREREZAKGGiIiIpIFjqkhIiIiWWCoISIiIllgqCEiIiJZYKghIiIiWWCoISIiIllgqCEiIiJZYKghIiIiWWCoISIiIllgqCEiIiJZUFm7ACqb27dvY+nSpThx4gSys7PRuHFjDBs2DH369Cky308//YQNGzbg0qVLKCgogK+vL1577TUMGzYMCkXpWXbWrFnYvn27wbaFCxciLCzMLPtT0Uztry5duuDu3bsG1/Hzzz/jueeeM7qdjIwMrFixAvv370d6ejp8fX0xbNgwDBgwwGz7Ygml9df27dsxa9Yso+vo378/Fi1aZHQeuRxfT9NqtRg6dChOnTqFS5cuQaX639drcnIyli5diqNHjyI7Oxt+fn4YO3YsQkJCTFq3RqPBf/7zH+zevRupqamoU6cOBg4ciOHDh0OpVFbULlUoY/118uRJrFq1CufOnYNGo4GPjw969eqF8ePHw9HRsdR1r1ixAsuXLzfYFhkZiaioKLPth6UY66+hQ4fi+PHjBpfbuHEj2rRpY3Tdcjq+GGrsyN27dzFw4ED9we3h4YE9e/Zg6tSpuHv3LsaNGwcA+O677zB9+nQ0atQI48ePh7OzM/bt24eFCxfi8uXLWLx4canbio+PR7169Qx++Fu0aGH2fasIpvZXdnY27t69i5dffhm9evUqtp6aNWsa3U5ubi5GjhyJq1evIiIiAg0bNsQPP/yAd955B2lpafrt2DpT+qt169YlHj/Lli1DcnIyunXrVuq25HB8PWvVqlU4depUsel//vknhgwZggcPHmDo0KGoVasWYmJiMGHCBHz00UfFAvazdDodJk2ahEOHDuG1115DQEAAjhw5gsWLFyMxMRHvv/9+Re1ShSqpv44fP47hw4fD09MTw4cPR40aNXD06FF8+umnOHXqFNavX1/qL9r4+Hi4urpizpw5xdr8/PzMtg+WVFJ/AUBCQgICAwMxePDgYm2NGjUyul7ZHV8i2Y3JkyeLfn5+4tmzZ/XTCgoKxH79+onNmjUTHzx4ID569Ehs3ry52L17d1Gj0RRZPjIyUlSr1eLp06eNbic/P1/09/cXJ0+eXCH7YSmm9JcoiuKJEydEtVotfvPNN5K2s3r1alGtVos7d+7UT9NqteKIESPEpk2bisnJyeXbEQsxtb8M+fLLL0W1Wi1+9NFHpW5HLsfX086dOye++OKLor+/v6hWq8X8/Hx925w5c0S1Wi2ePHlSP02j0Yi9e/cW27RpI+bk5Bhd9/fffy+q1Wrxs88+KzL97bffFtVqdZG/L3thrL+6d+8uBgcHi2lpaUWWWbBggahWq8Vdu3aVuv6QkBBx0KBBZq/bWoz1V3JysqhWq8WPP/5Y0rrldnxxTI0dUSgU6Ny5MwIDA/XTlEolXnrpJTx+/BjXr1/HmTNnkJOTg9DQUFSpUqXI8qGhoQCAEydOGN3OzZs3kZeXB7Vabf6dsCBT+gt48q8cAGjcuLGk7ezYsQNeXl7o3bt3kW2PGjUK+fn52LVrVzn2wnJM7a9npaamYvHixWjYsKFJp/XlcnwVysnJwdSpU9GxY0cEBQUVadNqtdi5cycCAwPRsmVL/fQqVapg6NChyMjIwMGDB42uPzY2Fg4ODhgyZEiR6WPGjAGAEi/j2Spj/XXnzh0kJiaia9eu8PDwKNLWr18/ACjxMsvT609KSqoUxxdQ/u8vuR1fvPxkRz788EOD0y9fvgyFQoG6deuiRo0a2LNnD6pXr15svrS0NAAodUxNfHw8gP99SDQaDRwdHe3u2qop/QUU39+cnBy4uLhAEIRSt5GdnY0bN26gS5cuxeYvDAfnz5+XvA+WZGp/PWvJkiXIzc3FnDlzTBrvIJfjq9D8+fORnZ2NefPm4Z///GeRtqtXryI3N7dIUCwUEBAAADh37pzBy56Fzp8/j0aNGsHV1bXIdF9fX1SvXt1ujq9Cxvqrdu3a2Lt3L5ycnIotV/j9VdpxkpCQAFEU9cfX48ePoVAo4ODgYKY9sCxj/QUU/zzl5uaiSpUqJo2dBOR3fPFMjZ3Kzs7GhQsXMGPGDMTFxSEiIgK1a9eGk5MTGjVqBE9PzyLz5+fnY8OGDQBQ6qCxwg/JL7/8gs6dOyMoKAiBgYGYMGECbt++XSH7U9FK6i/gyf5Wq1YNixcvRuvWrdGiRQsEBwdj3rx5yM3NNbre1NRUiKKIOnXqFGtzdXVF1apVkZSUVCH7VJGM9dfTrl27hp07d6JDhw5o27atSeuW0/H1448/4ttvv8X7779f7DMHPDk+ABg8Pgr709jxodFo8ODBA4PLA0CtWrXs6vgqrb8cHBzg6+trcH/Xrl0LwPTvr4sXL6Jnz54IDAxEYGAghg0bhkuXLplhLyyntP4C/re/MTExaN++PZo3b46WLVti+vTpSE9PN7p+uR1fAM/U2K1p06bhwIEDAJ6cEZg4cWKJ84qiiDlz5uDmzZsICQlBs2bNjK678HTm2bNnMWHCBLi7u+P06dPYtGkTTp8+jW3btqFevXrm2xkLKKm/dDodrl69Co1Gg7S0NLz33nvQarXYt28fNm3ahAsXLmDTpk0lnoHIzs4GALi4uBhsd3Z2hkajqYA9qlimHl9ffPEFRFHE2LFjTV63XI6v1NRUvPvuuxgwYAC6du1qcB5jx4ezszMAGD0+5HR8mdJfJVm+fDni4uLQtGlTdO/e3ei8hcfXqVOnMGLECNSuXRtXrlzBunXrEB4ejk2bNhk8c2ZrTO2vwv2Nj4/H9OnT4eTkhCNHjmDbtm04c+YMtm3bBnd3d4PLyun4KsRQY6def/11DBgwABcuXMCGDRsQGhqKLVu2oH79+kXm02q1mDNnDrZv344GDRpgwYIFpa67d+/eCAgIwLhx4/S/zLt164bmzZsjKioKS5YswdKlSytitypMSf3l7e2NyMhIVK1aFeHh4fr5e/fujXnz5mHTpk2IiYlBRESEwfWKomh0u6IomnQZy9aYcnxlZ2dj586dCAgIQHBwsMnrlsPxJYoiZsyYgWrVquHtt982Ol9pbcaOD7kcX6b2lyErVqzAihUr4OnpiWXLlpV6WaVTp05wd3fHiBEj9L/MQ0JC0KlTJ7zxxhuYN28etm3bJnVXLKIs/RUREQGNRoMxY8boj4UePXqgYcOGWLRoEdasWYNp06aVuJ3S6rCH4+tpDDV2qvD5Fl27dkWzZs0wceJELF++vMi4iJycHEyePBkHDx5E48aNsW7duhIT+9MKB+Q9q3v37qhTpw4OHz5sjl2wKGP9NXr0aIPLvPnmm9i0aRMOHz5cYqipWrUqgJL/ta3RaEp9xo0tMuX4OnjwIB49elTqLcnPksPxtX79esTFxWHlypV4/PgxHj9+DODJZV4AePDgARwcHPTHx6NHj4qto/CYcXNzK3E7pR1fjx49Mrq8rTC1v54eC5ifn49///vfiImJQa1atbB+/XqTzuCFhIQYfP5PQEAAmjdvjpMnTyIrK8um+60s/TV06FCD6xg8eDA+/PBDHD58uMRQI5fj62kMNTIQEhICV1dXXLx4UT/tzz//xFtvvYXLly+jZcuW+PTTT00KNKXx8PDAH3/8Ue71WJOh/jKk8O6LnJycEufx8fGBIAj6sRNPy87ORm5ursGxKPakpP766aefoFAo0LNnT7Nty16OrwMHDkAURUyYMMFge/v27eHj44NVq1YBAFJSUorNU3jMGDs+XF1dUaNGDYPHV+F6nz07a4tM7a/9+/cDAB4+fIh//OMfOHz4MBo1aoQ1a9bAx8en3HU8/Zm25V/WZe0vQxwdHeHm5mb0+0sux9fTGGrsRFpaGgYPHgx/f38sWbKkSFt+fj4eP36sv0aflpaGIUOGIDExET179sTixYtNuiulcNkRI0agQYMGiI6OLradW7du2cV4B1P765dffsHChQsxcOBAjBw5ssh8165dAwA8//zzJW7H1dUVjRo1woULF4q1nTt3DoB9PEyuLMdXoRMnTqBJkybw8vIq03bkcHzNmDEDWVlZxaYvWrQICQkJ+Pzzz+Hs7IyGDRuiWrVqBu8gMfX4CAgIwG+//QaNRlPk7+DmzZvIyspC8+bNy7k3Fc/U/gKe3L0zevRonDlzBsHBwVi5cqXJAUSn02HAgAFwdHTE119/Xaz9+vXrcHFxKdMxaw2m9teVK1cwdepUtG/fvthlqvT0dGRkZKBp06ZGtyWH4+tpvPvJTnh6ekIQBOzbt0//y7bQunXrkJ+fj65du0Kr1WLSpElITEzEoEGD8Mknn5gcaIAn/5LJy8vD/v37ceXKlSJtq1evRnZ2Nl577TWz7FNFMrW//va3v+H27dvYsmULHj58qJ+noKAAy5YtA/Dksf/G9O3bF/fu3cPu3bv103Q6HdatWwdHR0e8+uqrZtyzimFqfxVKTk5Genp6qYPOnyWX48vf3x/t2rUr9lN4+eSll15Cy5YtoVKp0KtXL5w+fRqnT5/WL//o0SNs3rwZnp6e6NSpk9Ft9e3bF3l5edi4cWOR6WvWrAEAu3ilhKn9BQCzZ8/GmTNn0LlzZ3z++edlOqOiUChQvXp1nDlzptjzf3bs2IFr166hT58+RV4xYItM7S9fX1+kpqYiNja2yNlAURT1/zgp7fiQw/H1NEEsbaQQ2Yxjx45h9OjRcHV1xeDBg1GjRg0cO3YMe/fuRYsWLbBhwwb897//xfTp0+Hu7o6ZM2caHFTn5+eHJk2aAACOHDmCtLQ0tG/fXn/L4G+//YYxY8bA2dkZERER8Pb2RlxcHH788Ue0adMGa9euLVNQshZT+svJyQkrV65EdHQ0GjRogIEDB0IQBOzatQuXLl3CuHHjijwbwlB/PXr0CK+99hpu3bqFoUOHokGDBtizZw9+++03TJ8+HaNGjbJWF5SJqf0FPOmHkSNHYsqUKXjrrbdKXKecjy9DCt/B8/S7ef7880/0798fGo0GI0aMQM2aNRETE4PLly/j448/LvKMmjNnzuD27dto0aKF/oyVKIoYPnw4jh07hoEDB6JZs2Y4dOgQ9u7di8GDBxt8FYC9eLa/Tp48icGDB8PR0RGzZs3Sj/l4Wr169fRntwz11++//46IiAjk5+dj0KBBaNCgAc6fP4/Y2Fg0btwYmzdvNvgcL3tg6PjasWMHZs6cCW9vb4SHh8PV1RU//fQT4uLi0KdPH3z00Uf65SvF8WXBpxeTGVy8eFEcN26c2LJlS7Fp06Zijx49xJUrV4qPHz8WRVEU//GPf4hqtdroz9OP0x4yZIioVqvFuLi4Its5f/68OHbsWLFVq1b67Xz66af67diL0vqr0Pfffy8OHDhQDAgIEIOCgsSBAweKu3fvLra+kvorPT1dfOedd8S2bduKAQEBYmhoqBgbG1uRu1YhTO2vnTt3imq1Wvzyyy+Nrk/ux9ezCvf36cfYi6Io3r59W/zHP/4htm7dWgwKChIHDRokHjx4sNjyM2bMENVqtfjtt98WmZ6TkyMuWrRI7NSpk+jv7y/26NFDXL9+vajVait0fyras/21ePHiUr+/pkyZol++pP66efOmOHnyZPGll14SmzZtKnbp0kX84IMPxKysLIvun7mVdHwdOXJEHDZsmBgUFCQ2a9ZMDA0NFTdv3lzs+KgMxxfP1BAREZEscEwNERERyQJDDREREckCQw0RERHJAkMNERERyQJDDREREckCQw0RERHJAkMNERERyQJDDREREckCQw0RURnweaVEtouhhqgSWL58Ofz8/PDJJ5+UOm9SUhL8/PyKvGjx2LFj8PPzQ3h4uNFpUnTp0gV+fn64detWudZjCbt378bkyZOLTDNXPxBR+THUEBGZ4MSJE5gyZUqRtyETkW2x7fevE5HF1apVC3v27IGDg4O1S7EpOp3O2iUQUSkYaoioCAcHBzRq1MjaZRARlRkvPxFVMnv37kX//v3RrFkzdOzYEf/617+Qmpqqbzc0psYatFotvvnmG7z++uto3rw5mjdvjkGDBmH79u3FButu374dfn5+2LBhA86dO4fRo0ejdevWCAoKQnh4OPbv329wGzdu3MDUqVPRqVMnBAYG4rXXXsOePXvw3Xffwc/PD8uXLwcAzJw5E8OGDQMAnD59Gn5+fhg6dKjB9U2aNAlt2rRBYGAgwsLC8N1335W7LwrHRB04cAAHDhzAG2+8gaCgILz00kuYNm0a7t+/DwDYtm0b+vTpg8DAQLzyyitYuXIl8vPzi6zLz88PYWFhyMzMxLx589CxY0cEBASgb9++2L17NwDg3r17mDJlCtq0aYPg4GCMGDEC8fHx5d4PoorGMzVElcjevXuxatUqNGzYEJ07d8bly5fx9ddf4+eff8ZXX32FevXqWbtEAEBBQQEiIyNx4MABVKtWDS1atIBKpcLx48cxa9YsHD9+HIsWLSq2XFxcHD766CN4eXkhODgYSUlJOH36NMaPH4/o6Gi88sor+nnPnDmDMWPGIDs7G02aNEFQUBAuXbqEf/7znwgKCiqy3ubNmyM1NRVHjx5FzZo10b59+2Jns5KSkvD666/DyckJrVq1QmpqKi5cuIDp06fj4cOHGDx4cLn75ZtvvsGBAwfwwgsvoF27djh9+jR27tyJ69evo127dvj888/RvHlzvPTSSzhy5Aiio6ORlZWFWbNmFVlPTk4OBg0ahD/++ANt2rTB/fv3cfbsWUyZMgUZGRlYvXo1FAoFWrZsievXr+Po0aOIiIjADz/8gFq1apV7P4gqjEhEshcdHS2q1WpRrVaLH3zwgajT6URRFMX8/Hzx7bffFtVqtThy5EhRFEXxzp07olqtFjt27KhfPi4uTlSr1eIbb7xhdJoUnTt3FtVqtZiYmFis3mHDhonp6en66X/++afYr18/Ua1Wi1u3btVP//bbb/X7t2DBAjEvL0/ftnDhQlGtVothYWH6aY8fPxa7d+8uqtVqcePGjfrp+fn54r/+9S/9uqKjo0vd38LparVanDhxoqjRaPRtq1atEtVqtdilS5dy9dHTf3+bNm3ST09JSREDAwNFtVotvvDCC2JcXJy+7ZdffhHVarXYokULUavV6qcXrqdXr15iWlqafvr777+vbxs7dqx+P/Lz88Xw8HBRrVaLa9euLdd+EFU0Xn4iqkSef/55TJ48GYIgAABUKhXmzJkDDw8PHD58GLdv37ZyhUBeXh6++OILODg44MMPP0TNmjX1bZ6enpg3bx4A4PPPPy+2rIeHB6ZNm1ZkkHPhZaOrV6/qp/3yyy9ITExEhw4dilxGUqlUmD17Nnx9fctct1KpxPvvv48qVaropw0fPhwKhQJJSUl4+PBhmdf5LLVajSFDhuj/XKtWLbRu3RoA0LNnT7Rp00bf1rFjR7i4uODhw4dIT08vtq5JkybBw8ND/+e+ffvq/3/mzJn6/VCpVOjSpQsA2MVt91S5MdQQVSI9e/aESlX0qrOTkxPatWsHADh+/Lg1yiri8uXLyM7ORsOGDeHt7V2svWnTpvDw8MDNmzfx559/Fmt7dv8K1/H48WP9HUxHjx4FAHTr1q3Y+lUqlcHppfH19UWNGjWKTHNyctKHsuzs7DKv81mBgYHFphWuv0mTJkWmC4IAV1dXAE/2/VnPXmIrrN3Z2blYqHNzcwPwJHAS2TKOqSGqRHx8fAxOr1OnDgAUGTBsLcnJyQCAhIQE+Pn5GZ333r178PLy0v+58Jfv054OOTqdDgqFAvfu3QPwv/1+1nPPPVfmug1tG3hyBgd4MvC5vKpXr15sWuFZN3d39xLbTFlX4byG9sPYeohsCUMNUSXi6OhotN0Wnk1TeDalbt26aNmypdF5q1atWuTPpv7yLbwjSCzhlQclTTfGEr/4nz0LZSvrIrIVPKqJKpE//vjD4PS7d+8CKPnMhSUVnnmpXbs2PvroowrZRuF+Fu73s/jUYCL7xDE1RJXI4cOHi03LycnB4cOHoVAo0KpVKytUVVSzZs1QpUoVxMfHGwxhqampeOWVVzB8+HDk5ORI2kbbtm0BAAcOHCjWJoqiwefa8BIMke1jqCGqRI4dO4aNGzfq/5yXl4fZs2cjMzMTPXv2tIkzNS4uLhg4cCByc3Mxbdq0Infu5OTkYObMmUhMTETVqlWLXX4yVbdu3eDj44NDhw5hy5Yt+umiKGLp0qX4/fffARQNMk5OTgBglruYiKhi8PITUSXSvHlzzJ8/H7GxsahXrx7OnTuHlJQUqNVqvPvuu9YuT2/KlCm4cuUK4uLi0K1bNzRr1gzOzs44c+YMHjx4AF9fX7z33nuS1+/o6IjFixdj5MiReO+997B161b4+voiPj4eiYmJqF+/Pm7fvl1k3Mlzzz0HpVKJ33//HW+++Sb8/Pzw9ttvm2N3ichMeKaGqBIJDw/H/Pnz8fjxY+zfvx8KhQKjRo3CV199Vex2ZGuqUqUK1q1bh3feeQcNGzbE+fPncezYMXh7eyMqKgrbtm0r8owVKVq1aoWtW7eia9euSElJwf79+1GtWjWsXLlS/1yWatWq6ef38PDA/Pnz8dxzz+HUqVMGL10RkXUJopRh/kREdiw9PR0PHjxA3bp14ezsXKx9/Pjx2L9/Pz7//HN06NDBChUSkRQ8U0NElU5CQgJ69eqFYcOG4dGjR0XaDhw4gIMHD6JmzZo2MXCaiEzHMzVEZBZTp04t8zIVdct2aQoKChAeHo7z58/D3d0dQUFBcHJywq1btxAfH48qVapg+fLlZn9T+WeffYbr16+XaZnx48cXe3kmERnGUENEZlHa038NSUhIqIBKTJObm4utW7di9+7duHPnDnJzc+Hl5YW2bdti5MiRFRIkhg4dWuZXUWzcuLHIO52IqGQMNURERCQLHFNDREREssBQQ0RERLLAUENERESywFBDREREssBQQ0RERLLAUENERESywFBDREREssBQQ0RERLLw/0TKTH88aSCZAAAAAElFTkSuQmCC",
          "text/plain": "<Figure size 600x400 with 1 Axes>"
         },
         "metadata": {},
         "output_type": "display_data"
        }
       ]
      }
     },
     "6e789bcbe9ad4d4ca6806b62e966cd40": {
      "model_module": "@jupyter-widgets/controls",
      "model_module_version": "1.5.0",
      "model_name": "DropdownModel",
      "state": {
       "_options_labels": [
        "Red",
        "Green",
        "Blue"
       ],
       "description": "color",
       "index": 0,
       "layout": "IPY_MODEL_8c483d86d99a4ad39908fad9af201f00",
       "style": "IPY_MODEL_1fbe2cb524ec4bfda7daebcc3c13739f"
      }
     },
     "7075f26a256b4dc69babcc68701bc4c1": {
      "model_module": "@jupyter-widgets/controls",
      "model_module_version": "1.5.0",
      "model_name": "SliderStyleModel",
      "state": {
       "description_width": ""
      }
     },
     "74015b011722462cbb45ec76065f7113": {
      "model_module": "@jupyter-widgets/controls",
      "model_module_version": "1.5.0",
      "model_name": "DropdownModel",
      "state": {
       "_options_labels": [
        "10",
        "20",
        "30"
       ],
       "description": "sample_size",
       "index": 0,
       "layout": "IPY_MODEL_f2c188510df44c7eb0b23c1cff2adf56",
       "style": "IPY_MODEL_b21fa9b8a0d840dcaec94062f3b4db04"
      }
     },
     "7c22a9d69c254b1496d53cc5e8ec6804": {
      "model_module": "@jupyter-widgets/base",
      "model_module_version": "1.2.0",
      "model_name": "LayoutModel",
      "state": {}
     },
     "85b04b733f5d4d879fbfd45c6f2c8778": {
      "model_module": "@jupyter-widgets/controls",
      "model_module_version": "1.5.0",
      "model_name": "DropdownModel",
      "state": {
       "_options_labels": [
        "5",
        "10"
       ],
       "description": "b",
       "index": 0,
       "layout": "IPY_MODEL_224f0f632f474691ae0af1211a9cb4ec",
       "style": "IPY_MODEL_4e2dc36b154f4487a2eb291b3ad2df68"
      }
     },
     "8c483d86d99a4ad39908fad9af201f00": {
      "model_module": "@jupyter-widgets/base",
      "model_module_version": "1.2.0",
      "model_name": "LayoutModel",
      "state": {}
     },
     "925e80cd03fd4ba38a6b62ce8890da95": {
      "model_module": "@jupyter-widgets/controls",
      "model_module_version": "1.5.0",
      "model_name": "SliderStyleModel",
      "state": {
       "description_width": ""
      }
     },
     "9a7d8414beef4901b04fa3eb19cdda9d": {
      "model_module": "@jupyter-widgets/controls",
      "model_module_version": "1.5.0",
      "model_name": "IntSliderModel",
      "state": {
       "description": "num_bins",
       "layout": "IPY_MODEL_fac2751d706a4e8aae86874d54b1ad14",
       "max": 20,
       "min": 1,
       "style": "IPY_MODEL_f1d483921c0549bbb94afb77c7b78e8d",
       "value": 10
      }
     },
     "a5580934efe94c9dbd183481cfa330e8": {
      "model_module": "@jupyter-widgets/base",
      "model_module_version": "1.2.0",
      "model_name": "LayoutModel",
      "state": {}
     },
     "ae9403dd5aff4fbfbd6560dd0ed75e7c": {
      "model_module": "@jupyter-widgets/controls",
      "model_module_version": "1.5.0",
      "model_name": "VBoxModel",
      "state": {
       "_dom_classes": [
        "widget-interact"
       ],
       "children": [
        "IPY_MODEL_9a7d8414beef4901b04fa3eb19cdda9d",
        "IPY_MODEL_6cd42e6ca6034e49be53cc255655f685"
       ],
       "layout": "IPY_MODEL_3056ca572aaa40b4b94b011a4cb97e92"
      }
     },
     "b18873694ccf4287864924b83c29dc7a": {
      "model_module": "@jupyter-widgets/base",
      "model_module_version": "1.2.0",
      "model_name": "LayoutModel",
      "state": {}
     },
     "b21fa9b8a0d840dcaec94062f3b4db04": {
      "model_module": "@jupyter-widgets/controls",
      "model_module_version": "1.5.0",
      "model_name": "DescriptionStyleModel",
      "state": {
       "description_width": ""
      }
     },
     "bbe002482994422fbde604083c4061d6": {
      "model_module": "@jupyter-widgets/controls",
      "model_module_version": "1.5.0",
      "model_name": "VBoxModel",
      "state": {
       "_dom_classes": [
        "widget-interact"
       ],
       "children": [
        "IPY_MODEL_5f3bddc607114a63998890b4f0690261",
        "IPY_MODEL_85b04b733f5d4d879fbfd45c6f2c8778",
        "IPY_MODEL_e24bcda116cf4161bbd79c860db9a3fc"
       ],
       "layout": "IPY_MODEL_c19ed22b8c5740f8b8dab83a88186ef6"
      }
     },
     "c19ed22b8c5740f8b8dab83a88186ef6": {
      "model_module": "@jupyter-widgets/base",
      "model_module_version": "1.2.0",
      "model_name": "LayoutModel",
      "state": {}
     },
     "d16f22f3c3eb4d71b419770ea5a46f2d": {
      "model_module": "@jupyter-widgets/base",
      "model_module_version": "1.2.0",
      "model_name": "LayoutModel",
      "state": {}
     },
     "e24bcda116cf4161bbd79c860db9a3fc": {
      "model_module": "@jupyter-widgets/output",
      "model_module_version": "1.0.0",
      "model_name": "OutputModel",
      "state": {
       "layout": "IPY_MODEL_118970ddaa944aed98505496d0007401",
       "outputs": [
        {
         "name": "stdout",
         "output_type": "stream",
         "text": "\nSum =  115\n"
        }
       ]
      }
     },
     "ed49e8f15cc34d428b6ee47be3595d0c": {
      "model_module": "@jupyter-widgets/base",
      "model_module_version": "1.2.0",
      "model_name": "LayoutModel",
      "state": {}
     },
     "f1406f4519d6438e84d226d2d8f451a6": {
      "model_module": "@jupyter-widgets/controls",
      "model_module_version": "1.5.0",
      "model_name": "VBoxModel",
      "state": {
       "_dom_classes": [
        "widget-interact"
       ],
       "children": [
        "IPY_MODEL_6e789bcbe9ad4d4ca6806b62e966cd40",
        "IPY_MODEL_02f25f347ac44ca488b01e78c5b60030"
       ],
       "layout": "IPY_MODEL_d16f22f3c3eb4d71b419770ea5a46f2d"
      }
     },
     "f1d483921c0549bbb94afb77c7b78e8d": {
      "model_module": "@jupyter-widgets/controls",
      "model_module_version": "1.5.0",
      "model_name": "SliderStyleModel",
      "state": {
       "description_width": ""
      }
     },
     "f2c188510df44c7eb0b23c1cff2adf56": {
      "model_module": "@jupyter-widgets/base",
      "model_module_version": "1.2.0",
      "model_name": "LayoutModel",
      "state": {}
     },
     "f4350a7edc10487d9eb25dc8f1c7a6ff": {
      "model_module": "@jupyter-widgets/output",
      "model_module_version": "1.0.0",
      "model_name": "OutputModel",
      "state": {
       "layout": "IPY_MODEL_a5580934efe94c9dbd183481cfa330e8",
       "outputs": [
        {
         "data": {
          "image/png": "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",
          "text/plain": "<Figure size 600x400 with 1 Axes>"
         },
         "metadata": {},
         "output_type": "display_data"
        }
       ]
      }
     },
     "fac2751d706a4e8aae86874d54b1ad14": {
      "model_module": "@jupyter-widgets/base",
      "model_module_version": "1.2.0",
      "model_name": "LayoutModel",
      "state": {}
     }
    },
    "version_major": 2,
    "version_minor": 0
   }
  }
 },
 "nbformat": 4,
 "nbformat_minor": 5
}
