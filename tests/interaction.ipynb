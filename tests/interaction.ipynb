{
 "cells": [
  {
   "cell_type": "code",
   "execution_count": null,
   "id": "d6c6f2a5-0707-4d98-b331-0eb51be00c31",
   "metadata": {
    "tags": []
   },
   "outputs": [],
   "source": [
    "from datascience import *"
   ]
  },
  {
   "cell_type": "code",
   "execution_count": null,
   "id": "c377825d-62ba-4b73-8718-c2cbda462fb3",
   "metadata": {
    "tags": []
   },
   "outputs": [],
   "source": [
    "from cs104 import *\n",
    "import numpy as np\n",
    "%matplotlib inline"
   ]
  },
  {
   "cell_type": "code",
   "execution_count": null,
   "id": "52cf6ae7-c109-47f1-b6c8-0ebaac1484b6",
   "metadata": {
    "tags": []
   },
   "outputs": [],
   "source": [
    "def visualize_distributions(N, sample_size, num_trials):\n",
    "    \"\"\"A single function to run our simulation for a given N, sample_size, and num_trials.\"\"\"\n",
    "    population = np.arange(1, N+1)\n",
    "    \n",
    "    # Builds up our outcomes table one row at a time.  We do this to ensure\n",
    "    # we can apply both statistics to the same samples.\n",
    "    outcomes_table = Table([\"Max\", \"2*Mean\"])\n",
    "    \n",
    "    for i in np.arange(num_trials):\n",
    "        sample = np.random.choice(population, sample_size)\n",
    "        outcomes_table.append(make_array(max(sample), 2 * np.mean(sample)))\n",
    "        \n",
    "    outcomes_table.hist(bins=np.arange(1, 2 * N, 10),\n",
    "                        xlim=(0,800),\n",
    "                        ylim=(0,0.1),\n",
    "                        xlabel='Predicted N',\n",
    "                        title='Snoopy Fleet')\n",
    "    "
   ]
  },
  {
   "cell_type": "code",
   "execution_count": null,
   "id": "f529ed8b-c80c-4cb9-8967-987259148d13",
   "metadata": {
    "tags": []
   },
   "outputs": [],
   "source": [
    "cs104.interact(visualize_distributions, N = 50, sample_size=cs104.Choice(10,20,30), num_trials=cs104.Slider(100,1000))\n",
    "# visualize_distributions(100, 500, 100)"
   ]
  },
  {
   "cell_type": "code",
   "execution_count": null,
   "id": "7863c26e-4831-41ed-b44f-83e8ddeb7497",
   "metadata": {
    "tags": []
   },
   "outputs": [],
   "source": [
    "cs104.interact(visualize_distributions, N = cs104.Fixed(50), sample_size=cs104.Choice(10,20,30), num_trials=cs104.Slider(100))\n"
   ]
  },
  {
   "cell_type": "code",
   "execution_count": null,
   "id": "41f765cd-42c1-41ab-a89c-959781533540",
   "metadata": {
    "tags": []
   },
   "outputs": [],
   "source": [
    "cs104.interact(visualize_distributions, N = cs104.Fixed(50), sample_size=cs104.Choice(10,20,30), num_trials=cs104.Slider(1,2,3))\n"
   ]
  },
  {
   "cell_type": "code",
   "execution_count": null,
   "id": "735f5d48-5ae0-4a5a-8b6e-64ecdb01c7ae",
   "metadata": {
    "tags": []
   },
   "outputs": [],
   "source": [
    "cs104.interact(visualize_distributions, N = cs104.Fixed(50), sample_size=cs104.Choice(10,20,30), num_trials=cs104.Slider([1,2]))\n"
   ]
  },
  {
   "cell_type": "code",
   "execution_count": null,
   "id": "ec3287be-42b1-4043-884f-53845463ed9f",
   "metadata": {
    "tags": []
   },
   "outputs": [],
   "source": [
    "cs104.interact(visualize_distributions, N = cs104.Fixed(50), sample_size=cs104.Choice(10,20,30), num_trials=cs104.Slider([1,2],step=2))\n"
   ]
  },
  {
   "cell_type": "code",
   "execution_count": null,
   "id": "ed5ffc34-c098-4443-92f2-c23ebba3f07f",
   "metadata": {
    "tags": []
   },
   "outputs": [],
   "source": [
    "cs104.interact(visualize_distributions, N = cs104.Fixed(50), sample_size=cs104.Choice(10,20,30), num_trials=cs104.Slider([1,2]))\n"
   ]
  },
  {
   "cell_type": "code",
   "execution_count": null,
   "id": "17503a6b-bc34-48c8-825a-d630a4bb803d",
   "metadata": {
    "tags": []
   },
   "outputs": [],
   "source": [
    "def gen():\n",
    "    N, sample_size, num_trials = 100, 10, 0\n",
    "#    yield locals()\n",
    "    for i in np.arange(0,30,2):\n",
    "        num_trials = i\n",
    "        yield locals()\n",
    "    \n",
    "cs104.animate(visualize_distributions, gen, interval=500)"
   ]
  },
  {
   "cell_type": "code",
   "execution_count": null,
   "id": "93445d8a-0bf8-4bfc-9628-9527f81efebb",
   "metadata": {
    "tags": []
   },
   "outputs": [],
   "source": [
    "def gen():\n",
    "    N, sample_size, num_trials = 100, 10, 500\n",
    "#     yield locals()\n",
    "    for i in np.arange(100,500,50):\n",
    "        N = i\n",
    "        yield locals()\n",
    "    \n",
    "cs104.video(visualize_distributions, gen, interval=500)"
   ]
  },
  {
   "cell_type": "code",
   "execution_count": null,
   "id": "367f0749-436b-4656-bb5f-f7518bcac333",
   "metadata": {},
   "outputs": [],
   "source": [
    "def f(x,y,z):\n",
    "    return 5"
   ]
  },
  {
   "cell_type": "code",
   "execution_count": null,
   "id": "e17f6c40-fa93-458b-89ca-a3290258dc98",
   "metadata": {},
   "outputs": [],
   "source": [
    "from cs104 import *"
   ]
  },
  {
   "cell_type": "code",
   "execution_count": null,
   "id": "5e3d9f4b-dec8-434a-8589-a5c83843550f",
   "metadata": {},
   "outputs": [],
   "source": [
    "interact(f, x = 50, y = Slider(1,100), z = CheckBox(False))"
   ]
  },
  {
   "cell_type": "code",
   "execution_count": null,
   "id": "481328c7-a4c2-4a66-8292-82979cdea019",
   "metadata": {
    "tags": []
   },
   "outputs": [],
   "source": [
    "Table.read_table(\"fertility.csv\")"
   ]
  },
  {
   "cell_type": "code",
   "execution_count": null,
   "id": "a1927ec5-5712-4317-88f5-c71eaca303a4",
   "metadata": {
    "tags": []
   },
   "outputs": [],
   "source": [
    "Table.read_table(\"happiness.csv\")"
   ]
  },
  {
   "cell_type": "code",
   "execution_count": null,
   "id": "917c4251-9890-41a9-8859-72ef6336f070",
   "metadata": {
    "tags": []
   },
   "outputs": [],
   "source": [
    "  marbles = Table().with_columns(\n",
    "            'Color', make_array('Red', 'Green', 'Blue',\n",
    "                                'Red', 'Green', 'Green'),\n",
    "            'Shape', make_array('Round', 'Rectangular', 'Rectangular',\n",
    "                                'Round', 'Rectangular', 'Round'),\n",
    "            'Amount', make_array(4, 6, 12, 7, 9, 2),\n",
    "            'Price', make_array(1.30, 1.20, 2.00, 1.75, 0, 3.00))\n"
   ]
  },
  {
   "cell_type": "code",
   "execution_count": null,
   "id": "ca85cfc4-ac67-49b6-a26c-e1a8b67ad094",
   "metadata": {
    "tags": []
   },
   "outputs": [],
   "source": [
    "def marbles_with_color(color):\n",
    "    return marbles.where('Color', color)\n",
    "\n",
    "interact(marbles_with_color, color = Choice('Red', 'Green', 'Blue'))"
   ]
  },
  {
   "cell_type": "code",
   "execution_count": null,
   "id": "0745cde0-872c-4328-a06a-17a4b511a4d3",
   "metadata": {
    "tags": []
   },
   "outputs": [],
   "source": [
    "trees = Table.read_table('https://www.cs.williams.edu/~cs104/data/hopkins-plot-0011.csv')\n",
    "trees"
   ]
  },
  {
   "cell_type": "code",
   "execution_count": null,
   "id": "2198b281-4190-4396-a965-43786297cf18",
   "metadata": {
    "tags": []
   },
   "outputs": [],
   "source": [
    "def plot_genus(genus):\n",
    "    trees.where('genus', genus).barh('common name', 'count')\n",
    "    \n",
    "interact(plot_genus, genus=Choice('Acer', 'Betula', 'Fagus', 'Quercus'))"
   ]
  },
  {
   "cell_type": "code",
   "execution_count": null,
   "id": "9e1aaa99-e7f0-47cc-924d-5f5af01e768c",
   "metadata": {
    "tags": []
   },
   "outputs": [],
   "source": [
    "def plot_genus(genus):\n",
    "    trees.where('genus', genus).barh('common name', 'count')\n",
    "\n",
    "print()\n",
    "print()\n",
    "    \n",
    "interact(plot_genus, genus=Choice('Acer', 'Betula'))\n"
   ]
  },
  {
   "cell_type": "code",
   "execution_count": null,
   "id": "dc7f789f-bf77-423e-965e-3e2b80402fbd",
   "metadata": {
    "tags": []
   },
   "outputs": [],
   "source": [
    "import seaborn\n",
    "df = seaborn.load_dataset(\"penguins\")\n",
    "bills = Table.from_df(df).where('species', \"Adelie\")\n"
   ]
  },
  {
   "cell_type": "code",
   "execution_count": null,
   "id": "07d05e6d-7c67-4e13-b5f4-c2cec2d63de5",
   "metadata": {
    "tags": []
   },
   "outputs": [],
   "source": [
    "bills"
   ]
  },
  {
   "cell_type": "code",
   "execution_count": null,
   "id": "46c330e4-364a-4fed-b251-26d4ce58854b",
   "metadata": {
    "tags": []
   },
   "outputs": [],
   "source": [
    "def length_hist(num_bins):\n",
    "    bills.hist('bill_length_mm', bins=num_bins)\n",
    "\n",
    "interact(length_hist, num_bins=Slider(1,20))"
   ]
  },
  {
   "cell_type": "code",
   "execution_count": null,
   "id": "8d77f3df-c60f-4e8d-a4e6-3c82cec8207c",
   "metadata": {},
   "outputs": [],
   "source": [
    "def sum_three(a,b,c):\n",
    "    print()\n",
    "    print(\"Sum = \", a + b + c)\n",
    "\n",
    "print()\n",
    "print()\n",
    "    \n",
    "interact(sum_three, a=Slider(1,20), b=Choice(5,10), c=100)\n",
    "\n",
    "print()"
   ]
  },
  {
   "cell_type": "code",
   "execution_count": null,
   "id": "d9219018-7435-43d5-afd5-70912587812f",
   "metadata": {},
   "outputs": [],
   "source": []
  }
 ],
 "metadata": {
  "kernelspec": {
   "display_name": "Python 3 (ipykernel)",
   "language": "python",
   "name": "python3"
  },
  "language_info": {
   "codemirror_mode": {
    "name": "ipython",
    "version": 3
   },
   "file_extension": ".py",
   "mimetype": "text/x-python",
   "name": "python",
   "nbconvert_exporter": "python",
   "pygments_lexer": "ipython3",
   "version": "3.9.15"
  }
 },
 "nbformat": 4,
 "nbformat_minor": 5
}
