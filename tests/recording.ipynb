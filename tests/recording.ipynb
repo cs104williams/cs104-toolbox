{
 "cells": [
  {
   "cell_type": "code",
   "execution_count": null,
   "id": "c3e69e2c-cca0-483e-bdda-42ee2e57ff8d",
   "metadata": {},
   "outputs": [],
   "source": [
    "import cs104\n",
    "from datascience import *\n",
    "import numpy as np\n",
    "%matplotlib inline"
   ]
  },
  {
   "cell_type": "code",
   "execution_count": null,
   "id": "998bc5f8-b5be-42da-a58c-19c281161a69",
   "metadata": {},
   "outputs": [],
   "source": [
    "\n",
    "def visualize_distributions(N, sample_size, num_trials):\n",
    "    \"\"\"A single function to run our simulation for a given N, sample_size, and num_trials.\"\"\"\n",
    "    population = np.arange(1, N+1)\n",
    "    \n",
    "    # Builds up our outcomes table one row at a time.  We do this to ensure\n",
    "    # we can apply both statistics to the same samples.\n",
    "    outcomes_table = Table([\"Max\", \"2*Mean\"])\n",
    "    \n",
    "    for i in np.arange(num_trials):\n",
    "        sample = np.random.choice(population, sample_size)\n",
    "        outcomes_table.append(make_array(max(sample), 2 * np.mean(sample)))\n",
    "        \n",
    "    outcomes_table.hist(bins=np.arange(1, 2 * N, 10),\n",
    "                        xlim=(0,800),\n",
    "                        ylim=(0,0.1),\n",
    "                        xlabel='Predicted N',\n",
    "                        title='Snoopy Fleet')\n",
    "\n",
    "cs104.record(visualize_distributions, N=(1,100,5), sample_size=(10,50), num_trials=(1,10000,1000))"
   ]
  },
  {
   "cell_type": "code",
   "execution_count": null,
   "id": "367f0749-436b-4656-bb5f-f7518bcac333",
   "metadata": {},
   "outputs": [],
   "source": [
    "def gen():\n",
    "    yield {'_caption': '', 'N': 46, 'sample_size': 30, 'num_trials': 4001}\n",
    "    yield {'_caption': '', 'N': 46, 'sample_size': 29, 'num_trials': 4001}\n",
    "    yield {'_caption': '', 'N': 46, 'sample_size': 23, 'num_trials': 4001}\n",
    "    yield {'_caption': '', 'N': 46, 'sample_size': 24, 'num_trials': 4001}\n",
    "    yield {'_caption': '', 'N': 46, 'sample_size': 25, 'num_trials': 4001}\n",
    "    yield {'_caption': '', 'N': 46, 'sample_size': 26, 'num_trials': 4001}\n",
    "    yield {'_caption': '', 'N': 46, 'sample_size': 28, 'num_trials': 4001}\n",
    "    yield {'_caption': '', 'N': 46, 'sample_size': 32, 'num_trials': 4001}\n",
    "    yield {'_caption': '', 'N': 46, 'sample_size': 35, 'num_trials': 4001}\n",
    "    yield {'_caption': '', 'N': 46, 'sample_size': 34, 'num_trials': 4001}\n",
    "    yield {'_caption': '', 'N': 46, 'sample_size': 33, 'num_trials': 4001}\n",
    "    yield {'_caption': '', 'N': 46, 'sample_size': 28, 'num_trials': 4001}\n",
    "    yield {'_caption': '', 'N': 46, 'sample_size': 24, 'num_trials': 4001}\n",
    "    pass\n",
    "\n",
    "cs104.animate(visualize_distributions, gen)"
   ]
  },
  {
   "cell_type": "code",
   "execution_count": null,
   "id": "b115ccf1-7536-4404-8761-4583a205a13a",
   "metadata": {},
   "outputs": [],
   "source": []
  }
 ],
 "metadata": {
  "kernelspec": {
   "display_name": "Python 3 (ipykernel)",
   "language": "python",
   "name": "python3"
  },
  "language_info": {
   "codemirror_mode": {
    "name": "ipython",
    "version": 3
   },
   "file_extension": ".py",
   "mimetype": "text/x-python",
   "name": "python",
   "nbconvert_exporter": "python",
   "pygments_lexer": "ipython3",
   "version": "3.9.15"
  },
  "vscode": {
   "interpreter": {
    "hash": "aee8b7b246df8f9039afb4144a1f6fd8d2ca17a180786b69acc140d282b71a49"
   }
  }
 },
 "nbformat": 4,
 "nbformat_minor": 5
}
