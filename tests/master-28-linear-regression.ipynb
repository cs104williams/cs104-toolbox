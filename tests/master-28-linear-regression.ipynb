{
 "cells": [
  {
   "cell_type": "code",
   "execution_count": null,
   "metadata": {},
   "outputs": [],
   "source": [
    "import os\n",
    "os.environ['LECTURE_NUMBER'] = '28'"
   ]
  },
  {
   "cell_type": "markdown",
   "metadata": {},
   "source": [
    "# Linear Regression"
   ]
  },
  {
   "cell_type": "code",
   "execution_count": null,
   "metadata": {
    "tags": []
   },
   "outputs": [],
   "source": [
    "from datascience import * \n",
    "from cs104 import *\n",
    "import numpy as np\n",
    "%matplotlib inline"
   ]
  },
  {
   "cell_type": "code",
   "execution_count": null,
   "metadata": {
    "tags": []
   },
   "outputs": [],
   "source": [
    "# HIDE_INPUT\n",
    "\n",
    "def plot_line(a, b, x): \n",
    "    \"\"\"\n",
    "    Plots a line using the give slope and intercept over the\n",
    "    range of x-values in the x array.\n",
    "    \"\"\"\n",
    "    xlims = make_array(min(x), max(x))\n",
    "    plot = Plot()\n",
    "    plot.line(xlims, a * xlims + b, lw=4, clip_on=False)\n",
    "\n",
    "def line_predictions(a, b, x): \n",
    "    \"\"\"\n",
    "    Computes the prediction  y_hat = a * x + b\n",
    "    where a and b are the slope and intercept and x is the set of x-values.\n",
    "    \"\"\"\n",
    "    return a * x + b\n",
    "\n",
    "def visualize_scatter_with_line_and_residuals(table, x_label, y_label, a, b):\n",
    "    \"\"\"\n",
    "    Draw a scatter plot, a line, and the line segments capturing the residuals \n",
    "    for some of the points.\n",
    "    \"\"\"\n",
    "    y_hat = line_predictions(a, b, table.column(x_label))\n",
    "    prediction_table = table.with_columns(y_label + '_hat', y_hat)\n",
    "    plot = table.scatter(x_label, y_label, title='a = ' + str(round(a,3)) + '; b = ' + str(round(b,3)))\n",
    "    xlims = make_array(min(table.column(x_label)), max(table.column(x_label)))\n",
    "    plot.line(xlims, a * xlims + b, lw=4, color=\"C0\")\n",
    "    \n",
    "    every10th = prediction_table.sort(x_label).take(np.arange(0, \n",
    "                                                           prediction_table.num_rows, \n",
    "                                                           prediction_table.num_rows // 10))\n",
    "    for row in every10th.rows:\n",
    "        x = row.item(x_label)\n",
    "        y = row.item(y_label)\n",
    "        plot.line([x, x], [y, a * x + b], color='r', lw=2)    \n",
    "        plot.dot(x,y,color='C0',s=70)\n",
    "\n",
    "    return plot\n",
    "\n",
    "def mean_squared_error(table, x_label, y_label, a, b): \n",
    "    y_hat = line_predictions(a, b, table.column(x_label))\n",
    "    residual = table.column(y_label) - y_hat\n",
    "    return np.mean(residual**2)\n",
    "\n",
    "def visualize_scatter_with_line_and_mse(table, x_label, y_label, a, b):\n",
    "    plot = visualize_scatter_with_line_and_residuals(table, x_label, y_label, a, b)\n",
    "    mse = mean_squared_error(x_y_table, x_label, y_label, a, b)\n",
    "    plot.set_title('a = ' + str(round(a,3)) + \n",
    "                '; b = ' + str(round(b,3)) + \n",
    "                '\\n mse = ' + str(round(mse,3)))\n",
    "\n",
    "    \n",
    "## MSE HEAT\n",
    "\n",
    "def plot_regression_line_and_mse_heat(table, x_label, y_label, a, b, show_mse='2d', fig=None):\n",
    "        \"\"\"\n",
    "        Left plot: the scatter plot with line y=ax+b\n",
    "        Right plot: None, 2D heat map of MSE, or 3D surface plot of MSE \n",
    "        \"\"\"\n",
    "\n",
    "        a_space = np.linspace(-0.5, 0.5, 200)\n",
    "        b_space = np.linspace(-35, -8, 200)\n",
    "        a_space, b_space = np.meshgrid(a_space, b_space)\n",
    "        broadcasted = np.broadcast(a_space, b_space)\n",
    "        mses = np.empty(broadcasted.shape)\n",
    "        mses.flat = [mean_squared_error(table, 'x', 'y', a, b) for (a,b) in broadcasted]\n",
    "        \n",
    "        if fig is None:\n",
    "            fig = Figure(1,2)\n",
    "\n",
    "        ax = fig.axes()\n",
    "\n",
    "        #Plot the scatter plot and best fit line on the left\n",
    "        with Plot(ax[0]):\n",
    "            plot_scatter_with_line(table, x_label, y_label, a, b)\n",
    "\n",
    "        if show_mse == '2d':\n",
    "            with Plot(ax[1]):\n",
    "                mse = mean_squared_error(table, x_label, y_label, a, b)\n",
    "                ax[1].pcolormesh(a_space, b_space, mses, cmap='viridis', \n",
    "                                 norm=colors.PowerNorm(gamma=0.25,\n",
    "                                                       vmin=mses.min(), \n",
    "                                                       vmax=mses.max()));\n",
    "                ax[1].scatter(a,b,s=100,color='red');\n",
    "                ax[1].set_xlabel('a')\n",
    "                ax[1].set_ylabel('b')\n",
    "                ax[1].set_title('Mean Squared Error: ' + str(np.round(mse, 3)))\n",
    "\n",
    "        elif show_mse == \"3d\": \n",
    "            ax[1] = plots.subplot(1, 2, 2, projection='3d')\n",
    "            with Plot(ax[1]):\n",
    "                ax[1].plot_surface(a_space, b_space, mses,\n",
    "                                cmap='viridis', \n",
    "                                antialiased=False, \n",
    "                                linewidth=0,\n",
    "                                norm = colors.PowerNorm(gamma=0.25,vmin=mses.min(), vmax=mses.max()))\n",
    "\n",
    "                ax[1].plot([a],[b],[mean_squared_error(table, x_label, y_label, a, b)], 'ro',zorder=3);\n",
    "                ax[1].set_xlabel('a')\n",
    "                ax[1].set_ylabel('b')\n",
    "                ax[1].set_title('Mean Squared Error')      \n",
    "\n",
    "def visualize_regression_line_and_mse_heat(table, x_label, y_label, show_mse=None):\n",
    "    \n",
    "    a_space = np.linspace(-0.5, 0.5, 200)\n",
    "    b_space = np.linspace(-35, -8, 200)\n",
    "    a_space, b_space = np.meshgrid(a_space, b_space)\n",
    "    broadcasted = np.broadcast(a_space, b_space)\n",
    "    mses = np.empty(broadcasted.shape)\n",
    "    mses.flat = [mean_squared_error(table, 'x', 'y', a, b) for (a,b) in broadcasted]\n",
    "    \n",
    "    def visualize_regression_line_and_mse_heat_helper(a, b, show_mse=show_mse, fig=None):\n",
    "        \"\"\"\n",
    "        Left plot: the scatter plot with line y=ax+b\n",
    "        Right plot: None, 2D heat map of MSE, or 3D surface plot of MSE \n",
    "        \"\"\"\n",
    "\n",
    "        if fig is None:\n",
    "            fig = Figure(1,2)\n",
    "\n",
    "        ax = fig.axes()\n",
    "\n",
    "        #Plot the scatter plot and best fit line on the left\n",
    "        with Plot(ax[0]):\n",
    "            plot_scatter_with_line(table, x_label, y_label, a, b)\n",
    "\n",
    "        if show_mse == '2d':\n",
    "            with Plot(ax[1]):\n",
    "                mse = mean_squared_error(table, x_label, y_label, a, b)\n",
    "                ax[1].pcolormesh(a_space, b_space, mses, cmap='viridis', \n",
    "                                 norm=colors.PowerNorm(gamma=0.25,\n",
    "                                                       vmin=mses.min(), \n",
    "                                                       vmax=mses.max()));\n",
    "                ax[1].scatter(a,b,s=100,color='red');\n",
    "                ax[1].set_xlabel('a')\n",
    "                ax[1].set_ylabel('b')\n",
    "                ax[1].set_title('Mean Squared Error: ' + str(np.round(mse, 3)))\n",
    "\n",
    "        elif show_mse == \"3d\": \n",
    "            ax[1] = plots.subplot(1, 2, 2, projection='3d')\n",
    "            with Plot(ax[1]):\n",
    "                ax[1].plot_surface(a_space, b_space, mses,\n",
    "                                cmap='viridis', \n",
    "                                antialiased=False, \n",
    "                                linewidth=0,\n",
    "                                norm = colors.PowerNorm(gamma=0.25,vmin=mses.min(), vmax=mses.max()))\n",
    "\n",
    "                ax[1].plot([a],[b],[mean_squared_error(table, x_label, y_label, a, b)], 'ro',zorder=3);\n",
    "                ax[1].set_xlabel('a')\n",
    "                ax[1].set_ylabel('b')\n",
    "                ax[1].set_title('Mean Squared Error')\n",
    "            \n",
    "    interact(visualize_regression_line_and_mse_heat_helper, \n",
    "                a = Slider(-0.5,0.5,0.01),\n",
    "                b = Slider(-35,-8,0.1),\n",
    "                fig = Fixed(None),\n",
    "                show_mse=Choice([None, \"2d\", \"3d\"]))            "
   ]
  },
  {
   "cell_type": "markdown",
   "metadata": {
    "tags": []
   },
   "source": [
    "## 1. Lines on scatter plots"
   ]
  },
  {
   "cell_type": "code",
   "execution_count": null,
   "metadata": {
    "tags": []
   },
   "outputs": [],
   "source": [
    "#load data from the lecture 7 and clean it up \n",
    "greenland_climate = Table().read_table('../../../lectures/data/climate_upernavik.csv')\n",
    "greenland_climate = greenland_climate.relabeled('Precipitation (millimeters)', \n",
    "                                                \"Precip (mm)\")\n",
    "tidy_greenland = greenland_climate.where('Air temperature (C)', \n",
    "                                         are.not_equal_to(999.99))\n",
    "tidy_greenland = tidy_greenland.where('Sea level pressure (mbar)', \n",
    "                                      are.not_equal_to(9999.9))\n",
    "feb = tidy_greenland.where('Month', are.equal_to(2))\n"
   ]
  },
  {
   "cell_type": "code",
   "execution_count": null,
   "metadata": {
    "tags": []
   },
   "outputs": [],
   "source": [
    "x = feb.column('Year') - 1880 \n",
    "y = feb.column('Air temperature (C)')\n",
    "x_y_table = Table().with_columns(\"x\", x, \"y\", y)"
   ]
  },
  {
   "cell_type": "code",
   "execution_count": null,
   "metadata": {
    "tags": []
   },
   "outputs": [],
   "source": [
    "html_interact(plot_scatter_with_line, \n",
    "         table = Fixed(x_y_table),\n",
    "         x_label = Fixed('x'),\n",
    "         y_label = Fixed('y'),\n",
    "        a = Slider(-0.5,0.5,0.125),\n",
    "         b = Slider(-35,-8,0.02))"
   ]
  },
  {
   "cell_type": "markdown",
   "metadata": {},
   "source": [
    "## 2. Predict and evaluate"
   ]
  },
  {
   "cell_type": "code",
   "execution_count": null,
   "metadata": {
    "tags": []
   },
   "outputs": [],
   "source": [
    "html_interact(visualize_scatter_with_line_and_residuals, \n",
    "        table = Fixed(x_y_table),\n",
    "        x_label = Fixed('x'),\n",
    "        y_label = Fixed('y'),                     \n",
    "        a = Slider(-0.5,0.5,0.125),\n",
    "        b = Slider(-35,-8,2))"
   ]
  },
  {
   "cell_type": "markdown",
   "metadata": {},
   "source": [
    "## 3. Fit the Best Line Manually"
   ]
  },
  {
   "cell_type": "code",
   "execution_count": null,
   "metadata": {
    "tags": []
   },
   "outputs": [],
   "source": [
    "# REMOVE_INPUT\n",
    "def visualize_regression_line_and_mse_heat(table, x_label, y_label, show_mse=None):\n",
    "    \n",
    "    a_space = np.linspace(-0.5, 0.5, 200)\n",
    "    b_space = np.linspace(-35, -8, 200)\n",
    "    a_space, b_space = np.meshgrid(a_space, b_space)\n",
    "    broadcasted = np.broadcast(a_space, b_space)\n",
    "    mses = np.empty(broadcasted.shape)\n",
    "    mses.flat = [mean_squared_error(table, 'x', 'y', a, b) for (a,b) in broadcasted]\n",
    "    \n",
    "    def visualize_regression_line_and_mse_heat_helper(a, b, show_mse=show_mse):\n",
    "        \"\"\"\n",
    "        Left plot: the scatter plot with line y=ax+b\n",
    "        Right plot: None, 2D heat map of MSE, or 3D surface plot of MSE \n",
    "        \"\"\"\n",
    "\n",
    "        fig = Figure(1,2)\n",
    "\n",
    "        ax = fig.axes()\n",
    "\n",
    "        #Plot the scatter plot and best fit line on the left\n",
    "        with Plot(ax[0]):\n",
    "            plot_scatter_with_line(table, x_label, y_label, a, b)\n",
    "\n",
    "        if show_mse == '2d':\n",
    "            with Plot(ax[1]):\n",
    "                mse = mean_squared_error(table, x_label, y_label, a, b)\n",
    "                ax[1].pcolormesh(a_space, b_space, mses, cmap='viridis', \n",
    "                                 norm=colors.PowerNorm(gamma=0.25,\n",
    "                                                       vmin=mses.min(), \n",
    "                                                       vmax=mses.max()));\n",
    "                ax[1].scatter(a,b,s=100,color='red');\n",
    "                ax[1].set_xlabel('a')\n",
    "                ax[1].set_ylabel('b')\n",
    "                ax[1].set_title('Mean Squared Error: ' + str(np.round(mse, 3)))\n",
    "\n",
    "        elif show_mse == \"3d\": \n",
    "            ax[1] = plots.subplot(1, 2, 2, projection='3d')\n",
    "            with Plot(ax[1]):\n",
    "                ax[1].plot_surface(a_space, b_space, mses,\n",
    "                                cmap='viridis', \n",
    "                                antialiased=False, \n",
    "                                linewidth=0,\n",
    "                                norm = colors.PowerNorm(gamma=0.25,vmin=mses.min(), vmax=mses.max()))\n",
    "\n",
    "                ax[1].plot([a],[b],[mean_squared_error(table, x_label, y_label, a, b)], 'ro',zorder=3);\n",
    "                ax[1].set_xlabel('a')\n",
    "                ax[1].set_ylabel('b')\n",
    "                ax[1].set_title('Mean Squared Error')\n",
    "                \n",
    "        return fig\n",
    "            \n",
    "    return html_interact(visualize_regression_line_and_mse_heat_helper, \n",
    "                a = Slider(-0.25,0.25,0.125),\n",
    "                b = Slider(-30,-15,2),\n",
    "                show_mse=Choice([\"2d\", \"3d\"]))            \n",
    "\n",
    "visualize_regression_line_and_mse_heat(x_y_table, 'x', 'y')"
   ]
  },
  {
   "cell_type": "code",
   "execution_count": null,
   "metadata": {},
   "outputs": [],
   "source": []
  }
 ],
 "metadata": {
  "execution": {
   "timeout": 600
  },
  "kernelspec": {
   "display_name": "Python 3 (ipykernel)",
   "language": "python",
   "name": "python3"
  },
  "language_info": {
   "codemirror_mode": {
    "name": "ipython",
    "version": 3
   },
   "file_extension": ".py",
   "mimetype": "text/x-python",
   "name": "python",
   "nbconvert_exporter": "python",
   "pygments_lexer": "ipython3",
   "version": "3.11.0"
  },
  "vscode": {
   "interpreter": {
    "hash": "aee8b7b246df8f9039afb4144a1f6fd8d2ca17a180786b69acc140d282b71a49"
   }
  },
  "widgets": {
   "application/vnd.jupyter.widget-state+json": {
    "state": {},
    "version_major": 2,
    "version_minor": 0
   }
  }
 },
 "nbformat": 4,
 "nbformat_minor": 4
}
