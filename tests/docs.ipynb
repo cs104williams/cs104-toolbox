{
 "cells": [
  {
   "cell_type": "code",
   "execution_count": null,
   "id": "4a2ae286-bfa7-4dd0-a4db-31f0904626b4",
   "metadata": {
    "tags": []
   },
   "outputs": [],
   "source": [
    "from datascience import *\n",
    "import numpy as np\n",
    "from cs104 import *"
   ]
  },
  {
   "cell_type": "code",
   "execution_count": null,
   "id": "6c925591-66d3-4a0e-9663-6e69c0d6151c",
   "metadata": {},
   "outputs": [],
   "source": [
    "Table().with_columns(\"A\", [1,2,3], \"B\", [1,2])"
   ]
  },
  {
   "cell_type": "code",
   "execution_count": null,
   "id": "c3b7e5b2-24fd-4048-86b2-3ac8f569af51",
   "metadata": {
    "tags": []
   },
   "outputs": [],
   "source": [
    "np.random.choice(-1)"
   ]
  },
  {
   "cell_type": "code",
   "execution_count": null,
   "id": "2604558a-793a-4907-9818-1d8dbc9849cb",
   "metadata": {},
   "outputs": [],
   "source": [
    "Table(1,\"A\")"
   ]
  },
  {
   "cell_type": "code",
   "execution_count": null,
   "id": "0e0c6989-ffdd-40ae-9bdc-4743186882f6",
   "metadata": {},
   "outputs": [],
   "source": [
    "\"A\".replace(None)"
   ]
  },
  {
   "cell_type": "code",
   "execution_count": null,
   "id": "fc4d73af-279a-45b7-978b-1e51f9e2e77d",
   "metadata": {},
   "outputs": [],
   "source": [
    "Table().with_columns(\"A\", [1,2,3]).where(\"A\", are.equal_to([3,5]))"
   ]
  },
  {
   "cell_type": "code",
   "execution_count": null,
   "id": "0f933424-374d-4bf3-9872-deb172bb30d5",
   "metadata": {},
   "outputs": [],
   "source": []
  }
 ],
 "metadata": {
  "kernelspec": {
   "display_name": "Python 3 (ipykernel)",
   "language": "python",
   "name": "python3"
  },
  "language_info": {
   "codemirror_mode": {
    "name": "ipython",
    "version": 3
   },
   "file_extension": ".py",
   "mimetype": "text/x-python",
   "name": "python",
   "nbconvert_exporter": "python",
   "pygments_lexer": "ipython3",
   "version": "3.9.13"
  }
 },
 "nbformat": 4,
 "nbformat_minor": 5
}
