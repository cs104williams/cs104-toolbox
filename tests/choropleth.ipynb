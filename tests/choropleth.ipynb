{
 "cells": [
  {
   "cell_type": "code",
   "execution_count": null,
   "id": "c3e69e2c-cca0-483e-bdda-42ee2e57ff8d",
   "metadata": {},
   "outputs": [],
   "source": [
    "from cs104 import *\n",
    "from datascience import *\n",
    "import numpy as np\n",
    "%matplotlib inline"
   ]
  },
  {
   "cell_type": "code",
   "execution_count": null,
   "id": "bcf35c13-7a4f-4917-86f2-ddca4265e3d4",
   "metadata": {},
   "outputs": [],
   "source": [
    "unemployment = Table.read_table('us-unemployment.csv')\n",
    "States.map_table(unemployment, palette='BuPu')"
   ]
  },
  {
   "cell_type": "code",
   "execution_count": null,
   "id": "f709e87c-d8ee-4068-a553-ac8c3c86ff92",
   "metadata": {},
   "outputs": [],
   "source": [
    "url = 'https://raw.githubusercontent.com/python-visualization/folium/master/examples/data/us-states.json'\n",
    "states = Map.read_geojson(url)\n",
    "unemployment = Table.read_table('us-unemployment.csv')\n",
    "states.color(unemployment, palette='BuPu')"
   ]
  },
  {
   "cell_type": "code",
   "execution_count": null,
   "id": "140d6ec0-923a-4713-b6ed-bf4c557f1f63",
   "metadata": {},
   "outputs": [],
   "source": [
    "# Reading in GeoJSON from link\n",
    "url = \"https://raw.githubusercontent.com/python-visualization/folium/master/examples/data/world-countries.json\"\n",
    "countries = Map.read_geojson(url)\n",
    "\n",
    "t = Table.read_table(\"fertility.csv\").where('time', 1960)\n",
    "t = t.with_columns('geo', t.apply(lambda x: x.upper(), 'geo'))\n",
    "t = t.select(0,2)\n",
    "countries.color(t).show()"
   ]
  },
  {
   "cell_type": "code",
   "execution_count": null,
   "id": "8e20b148-03ef-4d16-abe5-0d13b15dde2c",
   "metadata": {},
   "outputs": [],
   "source": [
    "# url = \"https://raw.githubusercontent.com/python-visualization/folium/master/examples/data/world-countries.json\"\n",
    "# countries = Map.read_geojson(url)\n",
    "\n",
    "# class Countries:\n",
    "#     def map_table(table, geo_column, values_column, title='', **kwargs):\n",
    "#         t = Table().with_columns(\"geo\", table.apply(lambda x: x.upper(), geo_column),\n",
    "#                                  \"values\", table.column(values_column))\n",
    "#         countries.color(t, bins=[0,1,2,3,4,5,6,7,8,9], legend_name=title).show()\n",
    "        \n",
    "        "
   ]
  },
  {
   "cell_type": "code",
   "execution_count": null,
   "id": "14d9a8d9-41cc-4095-a2ec-8a6b14663461",
   "metadata": {},
   "outputs": [],
   "source": [
    "Countries.map_table(Table.read_table(\"fertility.csv\").where('time', 1960).select(0,2), bins=np.arange(0,10))"
   ]
  },
  {
   "cell_type": "code",
   "execution_count": null,
   "id": "4fafa84f-bca3-4201-8f68-91b9b09a4464",
   "metadata": {},
   "outputs": [],
   "source": [
    "\n",
    "from ipywidgets import interact, interactive, fixed, interact_manual\n",
    "import ipywidgets as widgets\n",
    "\n",
    "fert = Table.read_table(\"fertility.csv\")\n",
    "\n",
    "def by_year(year):\n",
    "    Countries.map_table(Table.read_table(\"fertility.csv\").where('time', year).select(0,2), bins=np.arange(0,10)).show()\n",
    "    \n",
    "_ = interact(by_year, year = (1800,2020,1))"
   ]
  },
  {
   "cell_type": "code",
   "execution_count": null,
   "id": "32eb538d-6566-4903-986f-0a0a0640911b",
   "metadata": {},
   "outputs": [],
   "source": []
  }
 ],
 "metadata": {
  "kernelspec": {
   "display_name": "Python 3 (ipykernel)",
   "language": "python",
   "name": "python3"
  },
  "language_info": {
   "codemirror_mode": {
    "name": "ipython",
    "version": 3
   },
   "file_extension": ".py",
   "mimetype": "text/x-python",
   "name": "python",
   "nbconvert_exporter": "python",
   "pygments_lexer": "ipython3",
   "version": "3.9.13"
  }
 },
 "nbformat": 4,
 "nbformat_minor": 5
}
