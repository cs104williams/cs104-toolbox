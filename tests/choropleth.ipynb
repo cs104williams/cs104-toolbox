{
 "cells": [
  {
   "cell_type": "code",
   "execution_count": null,
   "id": "c3e69e2c-cca0-483e-bdda-42ee2e57ff8d",
   "metadata": {},
   "outputs": [],
   "source": [
    "from cs104 import *\n",
    "from datascience import *\n",
    "import numpy as np\n",
    "%matplotlib inline"
   ]
  },
  {
   "cell_type": "code",
   "execution_count": null,
   "id": "bcf35c13-7a4f-4917-86f2-ddca4265e3d4",
   "metadata": {},
   "outputs": [],
   "source": [
    "unemployment = Table.read_table('us-unemployment.csv')\n",
    "States.map_table(unemployment, palette='BuPu')"
   ]
  },
  {
   "cell_type": "code",
   "execution_count": null,
   "id": "14d9a8d9-41cc-4095-a2ec-8a6b14663461",
   "metadata": {},
   "outputs": [],
   "source": [
    "Countries.map_table(Table.read_table(\"fertility.csv\").where('time', 1960).select(0,2), bins=np.arange(0,10))"
   ]
  },
  {
   "cell_type": "code",
   "execution_count": null,
   "id": "4fafa84f-bca3-4201-8f68-91b9b09a4464",
   "metadata": {},
   "outputs": [],
   "source": [
    "\n",
    "from ipywidgets import interact, interactive, fixed, interact_manual\n",
    "import ipywidgets as widgets\n",
    "\n",
    "fert = Table.read_table(\"fertility.csv\")\n",
    "\n",
    "def by_year(year):\n",
    "    Countries.map_table(Table.read_table(\"fertility.csv\").where('time', year).select(0,2), bins=np.arange(0,10)).show()\n",
    "    \n",
    "_ = interact(by_year, year = (1800,2020,1))"
   ]
  },
  {
   "cell_type": "code",
   "execution_count": null,
   "id": "25eeb0a6-0d53-4f44-b468-184a97689132",
   "metadata": {},
   "outputs": [],
   "source": []
  }
 ],
 "metadata": {
  "kernelspec": {
   "display_name": "Python 3 (ipykernel)",
   "language": "python",
   "name": "python3"
  },
  "language_info": {
   "codemirror_mode": {
    "name": "ipython",
    "version": 3
   },
   "file_extension": ".py",
   "mimetype": "text/x-python",
   "name": "python",
   "nbconvert_exporter": "python",
   "pygments_lexer": "ipython3",
   "version": "3.9.15"
  }
 },
 "nbformat": 4,
 "nbformat_minor": 5
}
