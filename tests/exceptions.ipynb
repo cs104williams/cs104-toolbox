{
 "cells": [
  {
   "cell_type": "code",
   "execution_count": null,
   "id": "1da78904-5769-4e20-a5dc-ba5069fd27fb",
   "metadata": {
    "tags": []
   },
   "outputs": [],
   "source": [
    "import cs104\n",
    "from datascience import *\n",
    "import numpy as np\n",
    "%matplotlib inline"
   ]
  },
  {
   "cell_type": "code",
   "execution_count": null,
   "id": "25f8e328-5e19-444a-ba4d-52fed5f10db8",
   "metadata": {
    "tags": []
   },
   "outputs": [],
   "source": [
    "finches = Table().read_table(\"finch_beaks_1975_dirty.csv\")"
   ]
  },
  {
   "cell_type": "code",
   "execution_count": null,
   "id": "077f714a-b38a-48a9-a927-c6777c4dc1b2",
   "metadata": {
    "tags": []
   },
   "outputs": [],
   "source": [
    "def f(x):\n",
    "    return g(x)"
   ]
  },
  {
   "cell_type": "code",
   "execution_count": null,
   "id": "47abbf6f-0d69-4986-a489-db9ea258ee31",
   "metadata": {
    "tags": []
   },
   "outputs": [],
   "source": [
    "def g(x):\n",
    "    return int(3) / int(x)"
   ]
  },
  {
   "cell_type": "code",
   "execution_count": null,
   "id": "de26dcbf-fa90-453c-9428-04d274bd8287",
   "metadata": {
    "tags": []
   },
   "outputs": [],
   "source": [
    "# should hide 3 frames inside apply\n",
    "from datascience import *\n",
    "t = Table().with_columns(\"Moo\", make_array(1,2,0))\n",
    "t.apply(g, \"Moo\")"
   ]
  },
  {
   "cell_type": "code",
   "execution_count": null,
   "id": "3389e262-b481-471a-a9b8-c6f89e18212e",
   "metadata": {
    "tags": []
   },
   "outputs": [],
   "source": [
    "# should point to doc for with_columns\n",
    "from datascience import *\n",
    "t = Table().with_columns(\"Moo\", make_array(1,2,0), \"Cow\", [1])"
   ]
  },
  {
   "cell_type": "code",
   "execution_count": null,
   "id": "8adabc3b-05b2-47fb-8f32-61d391e35514",
   "metadata": {
    "tags": []
   },
   "outputs": [],
   "source": [
    "# point to docs, and reasonable error\n",
    "from datascience import *\n",
    "t = Table().with_columns(\"Moo\", make_array(1,2,0))\n",
    "t.column(\"cow\")"
   ]
  },
  {
   "cell_type": "code",
   "execution_count": null,
   "id": "7779de43-3df5-48eb-a8ae-2686a2e58055",
   "metadata": {
    "tags": []
   },
   "outputs": [],
   "source": [
    "# Hide all internal frames for doc/library\n",
    "def h(x):\n",
    "    t = Table().with_columns(\"Moo\", make_array(1,2,0))\n",
    "    t.apply(g, \"Moo\")    \n",
    "    \n",
    "t = Table().with_columns(\"Moo\", make_array(1,2,0))\n",
    "t.apply(h, \"Moo\")"
   ]
  },
  {
   "cell_type": "code",
   "execution_count": null,
   "id": "fa9da91e-d6c4-4853-9be3-e9b7e61ab644",
   "metadata": {},
   "outputs": [],
   "source": []
  },
  {
   "cell_type": "code",
   "execution_count": null,
   "id": "7e504d24-d6fd-441e-9d46-9acd1e3846cd",
   "metadata": {},
   "outputs": [],
   "source": []
  }
 ],
 "metadata": {
  "kernelspec": {
   "display_name": "Python 3 (ipykernel)",
   "language": "python",
   "name": "python3"
  },
  "language_info": {
   "codemirror_mode": {
    "name": "ipython",
    "version": 3
   },
   "file_extension": ".py",
   "mimetype": "text/x-python",
   "name": "python",
   "nbconvert_exporter": "python",
   "pygments_lexer": "ipython3",
   "version": "3.9.13"
  }
 },
 "nbformat": 4,
 "nbformat_minor": 5
}
