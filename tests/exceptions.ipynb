{
 "cells": [
  {
   "cell_type": "code",
   "execution_count": 1,
   "id": "1da78904-5769-4e20-a5dc-ba5069fd27fb",
   "metadata": {},
   "outputs": [],
   "source": [
    "import cs104\n",
    "from datascience import *\n",
    "import numpy as np\n",
    "%matplotlib inline"
   ]
  },
  {
   "cell_type": "code",
   "execution_count": 2,
   "id": "25f8e328-5e19-444a-ba4d-52fed5f10db8",
   "metadata": {},
   "outputs": [],
   "source": [
    "finches = Table().read_table(\"finch_beaks_1975_dirty.csv\")"
   ]
  },
  {
   "cell_type": "code",
   "execution_count": 3,
   "id": "660f569a-e184-489d-9c1a-d71272252af8",
   "metadata": {},
   "outputs": [],
   "source": [
    "def m(y):\n",
    "    assert False\n",
    "\n",
    "def f(x):\n",
    "    finches.apply(m, \"species\")\n",
    "    \n",
    "def g(x):\n",
    "    f(x)"
   ]
  },
  {
   "cell_type": "code",
   "execution_count": 4,
   "id": "c078c676-5e51-4cfb-8951-3a29ea762f3b",
   "metadata": {},
   "outputs": [
    {
     "ename": "AssertionError",
     "evalue": "",
     "output_type": "error",
     "traceback": [
      "\u001b[0;31m---------------------------------------------------------------------------\u001b[0m",
      "\u001b[0;31mAssertionError\u001b[0m                            Traceback (most recent call last)",
      "Input \u001b[0;32mIn [4]\u001b[0m, in \u001b[0;36m<cell line: 1>\u001b[0;34m()\u001b[0m\n\u001b[0;32m----> 1\u001b[0m \u001b[43mfinches\u001b[49m\u001b[38;5;241;43m.\u001b[39;49m\u001b[43mapply\u001b[49m\u001b[43m(\u001b[49m\u001b[43mg\u001b[49m\u001b[43m,\u001b[49m\u001b[43m \u001b[49m\u001b[38;5;124;43m\"\u001b[39;49m\u001b[38;5;124;43mspecies\u001b[39;49m\u001b[38;5;124;43m\"\u001b[39;49m\u001b[43m)\u001b[49m\n",
      "    \u001b[0;31m[... skipping hidden 2 frame]\u001b[0m\n",
      "Input \u001b[0;32mIn [3]\u001b[0m, in \u001b[0;36mg\u001b[0;34m(x)\u001b[0m\n\u001b[1;32m      7\u001b[0m \u001b[38;5;28;01mdef\u001b[39;00m \u001b[38;5;21mg\u001b[39m(x):\n\u001b[0;32m----> 8\u001b[0m     \u001b[43mf\u001b[49m\u001b[43m(\u001b[49m\u001b[43mx\u001b[49m\u001b[43m)\u001b[49m\n",
      "Input \u001b[0;32mIn [3]\u001b[0m, in \u001b[0;36mf\u001b[0;34m(x)\u001b[0m\n\u001b[1;32m      4\u001b[0m \u001b[38;5;28;01mdef\u001b[39;00m \u001b[38;5;21mf\u001b[39m(x):\n\u001b[0;32m----> 5\u001b[0m     \u001b[43mfinches\u001b[49m\u001b[38;5;241;43m.\u001b[39;49m\u001b[43mapply\u001b[49m\u001b[43m(\u001b[49m\u001b[43mm\u001b[49m\u001b[43m,\u001b[49m\u001b[43m \u001b[49m\u001b[38;5;124;43m\"\u001b[39;49m\u001b[38;5;124;43mspecies\u001b[39;49m\u001b[38;5;124;43m\"\u001b[39;49m\u001b[43m)\u001b[49m\n",
      "    \u001b[0;31m[... skipping hidden 2 frame]\u001b[0m\n",
      "Input \u001b[0;32mIn [3]\u001b[0m, in \u001b[0;36mm\u001b[0;34m(y)\u001b[0m\n\u001b[1;32m      1\u001b[0m \u001b[38;5;28;01mdef\u001b[39;00m \u001b[38;5;21mm\u001b[39m(y):\n\u001b[0;32m----> 2\u001b[0m     \u001b[38;5;28;01massert\u001b[39;00m \u001b[38;5;28;01mFalse\u001b[39;00m\n",
      "\u001b[0;31mAssertionError\u001b[0m: "
     ]
    },
    {
     "data": {
      "text/html": [
       "\n",
       "    <div align=\"right\">\n",
       "        <a style='inherit;font-size:12px;' onclick='var x = document.getElementById(\"ac11a3f6946a11ed950802b954e5f2c0\"); if (x.style.display === \"none\") x.style.display = \"block\"; else x.style.display = \"none\";'>Full Details</a>\n",
       "    </div>\n",
       "    <pre style=\"font-size:14px;display:none; background-color:#FFDDDD;\" id=\"ac11a3f6946a11ed950802b954e5f2c0\">---------------------------------------------------------------------------\n",
       "AssertionError                            Traceback (most recent call last)\n",
       "Input In [4], in <cell line: 1>()\n",
       "----> 1 finches.apply(g, \"species\")\n",
       "\n",
       "File ~/other/cs104/libs/datascience/datascience/tables.py:557, in Table.apply(self, fn, *column_or_columns)\n",
       "    555     column_or_columns = column_or_columns[0]\n",
       "    556 rows = zip(*self.select(*column_or_columns).columns)\n",
       "--> 557 return np.array([fn(*row) for row in rows])\n",
       "\n",
       "File ~/other/cs104/libs/datascience/datascience/tables.py:557, in <listcomp>(.0)\n",
       "    555     column_or_columns = column_or_columns[0]\n",
       "    556 rows = zip(*self.select(*column_or_columns).columns)\n",
       "--> 557 return np.array([fn(*row) for row in rows])\n",
       "\n",
       "Input In [3], in g(x)\n",
       "      7 def g(x):\n",
       "----> 8     f(x)\n",
       "\n",
       "Input In [3], in f(x)\n",
       "      4 def f(x):\n",
       "----> 5     finches.apply(m, \"species\")\n",
       "\n",
       "File ~/other/cs104/libs/datascience/datascience/tables.py:557, in Table.apply(self, fn, *column_or_columns)\n",
       "    555     column_or_columns = column_or_columns[0]\n",
       "    556 rows = zip(*self.select(*column_or_columns).columns)\n",
       "--> 557 return np.array([fn(*row) for row in rows])\n",
       "\n",
       "File ~/other/cs104/libs/datascience/datascience/tables.py:557, in <listcomp>(.0)\n",
       "    555     column_or_columns = column_or_columns[0]\n",
       "    556 rows = zip(*self.select(*column_or_columns).columns)\n",
       "--> 557 return np.array([fn(*row) for row in rows])\n",
       "\n",
       "Input In [3], in m(y)\n",
       "      1 def m(y):\n",
       "----> 2     assert False\n",
       "\n",
       "AssertionError: </pre>\n",
       "    "
      ],
      "text/plain": [
       "<IPython.core.display.HTML object>"
      ]
     },
     "metadata": {},
     "output_type": "display_data"
    }
   ],
   "source": [
    "    finches.apply(g, \"species\")"
   ]
  },
  {
   "cell_type": "code",
   "execution_count": null,
   "id": "aa964c2c-f903-4b62-9a4a-7cdd2b38c21c",
   "metadata": {},
   "outputs": [],
   "source": [
    "def f(x):\n",
    "    assert False"
   ]
  },
  {
   "cell_type": "code",
   "execution_count": null,
   "id": "6ce9c951-7215-4209-9c34-5e90b32b28fe",
   "metadata": {},
   "outputs": [],
   "source": [
    "    \n",
    "finches.apply(f, \"species\")"
   ]
  },
  {
   "cell_type": "code",
   "execution_count": null,
   "id": "a64a4059-0e5b-46f1-a053-271abf16cf30",
   "metadata": {},
   "outputs": [],
   "source": []
  },
  {
   "cell_type": "code",
   "execution_count": null,
   "id": "e00b4905-4a64-445e-95fc-43d9a9ac9031",
   "metadata": {},
   "outputs": [],
   "source": [
    "np.array([3,2,1]) * np.array([1,2])"
   ]
  },
  {
   "cell_type": "code",
   "execution_count": null,
   "id": "695f5363-27c0-4207-b028-ef0809391da8",
   "metadata": {},
   "outputs": [],
   "source": []
  },
  {
   "cell_type": "code",
   "execution_count": null,
   "id": "738cb7d4-5cb2-4c0a-a140-ee2e6037b964",
   "metadata": {},
   "outputs": [],
   "source": []
  }
 ],
 "metadata": {
  "kernelspec": {
   "display_name": "Python 3 (ipykernel)",
   "language": "python",
   "name": "python3"
  },
  "language_info": {
   "codemirror_mode": {
    "name": "ipython",
    "version": 3
   },
   "file_extension": ".py",
   "mimetype": "text/x-python",
   "name": "python",
   "nbconvert_exporter": "python",
   "pygments_lexer": "ipython3",
   "version": "3.9.13"
  },
  "vscode": {
   "interpreter": {
    "hash": "aee8b7b246df8f9039afb4144a1f6fd8d2ca17a180786b69acc140d282b71a49"
   }
  }
 },
 "nbformat": 4,
 "nbformat_minor": 5
}
