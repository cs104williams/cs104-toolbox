{
 "cells": [
  {
   "cell_type": "code",
   "execution_count": 1,
   "id": "e3ec467f-d4f0-41bb-957f-54ed45c96ebb",
   "metadata": {},
   "outputs": [],
   "source": [
    "from cs104 import *"
   ]
  },
  {
   "cell_type": "code",
   "execution_count": 2,
   "id": "1f105e45-e58b-426f-95c0-7b33ddb68262",
   "metadata": {},
   "outputs": [],
   "source": [
    "x = 3"
   ]
  },
  {
   "cell_type": "code",
   "execution_count": 3,
   "id": "077f714a-b38a-48a9-a927-c6777c4dc1b2",
   "metadata": {},
   "outputs": [],
   "source": [
    "def f(x):\n",
    "    return g(x)"
   ]
  },
  {
   "cell_type": "code",
   "execution_count": 4,
   "id": "47abbf6f-0d69-4986-a489-db9ea258ee31",
   "metadata": {},
   "outputs": [],
   "source": [
    "def g(x):\n",
    "    return int(3) / int(x)"
   ]
  },
  {
   "cell_type": "code",
   "execution_count": 5,
   "id": "de26dcbf-fa90-453c-9428-04d274bd8287",
   "metadata": {},
   "outputs": [
    {
     "ename": "ZeroDivisionError",
     "evalue": "division by zero",
     "output_type": "error",
     "traceback": [
      "\u001b[0;31m---------------------------------------------------------------------------\u001b[0m",
      "\u001b[0;31mZeroDivisionError\u001b[0m                         Traceback (most recent call last)",
      "\u001b[0;32m/var/folders/hg/75dgl5gs1bj7vl_fv36njtvw000_1x/T/ipykernel_44992/3014613100.py\u001b[0m in \u001b[0;36m<module>\u001b[0;34m\u001b[0m\n\u001b[1;32m      1\u001b[0m \u001b[0;32mfrom\u001b[0m \u001b[0mdatascience\u001b[0m \u001b[0;32mimport\u001b[0m \u001b[0;34m*\u001b[0m\u001b[0;34m\u001b[0m\u001b[0;34m\u001b[0m\u001b[0m\n\u001b[1;32m      2\u001b[0m \u001b[0mt\u001b[0m \u001b[0;34m=\u001b[0m \u001b[0mTable\u001b[0m\u001b[0;34m(\u001b[0m\u001b[0;34m)\u001b[0m\u001b[0;34m.\u001b[0m\u001b[0mwith_columns\u001b[0m\u001b[0;34m(\u001b[0m\u001b[0;34m\"Moo\"\u001b[0m\u001b[0;34m,\u001b[0m \u001b[0mmake_array\u001b[0m\u001b[0;34m(\u001b[0m\u001b[0;36m1\u001b[0m\u001b[0;34m,\u001b[0m\u001b[0;36m2\u001b[0m\u001b[0;34m,\u001b[0m\u001b[0;36m0\u001b[0m\u001b[0;34m)\u001b[0m\u001b[0;34m)\u001b[0m\u001b[0;34m\u001b[0m\u001b[0;34m\u001b[0m\u001b[0m\n\u001b[0;32m----> 3\u001b[0;31m \u001b[0mt\u001b[0m\u001b[0;34m.\u001b[0m\u001b[0mapply\u001b[0m\u001b[0;34m(\u001b[0m\u001b[0mg\u001b[0m\u001b[0;34m,\u001b[0m \u001b[0;34m\"Moo\"\u001b[0m\u001b[0;34m)\u001b[0m\u001b[0;34m\u001b[0m\u001b[0;34m\u001b[0m\u001b[0m\n\u001b[0m",
      "    \u001b[0;31m[... skipping hidden 2 frame]\u001b[0m\n",
      "\u001b[0;32m/var/folders/hg/75dgl5gs1bj7vl_fv36njtvw000_1x/T/ipykernel_44992/2327013840.py\u001b[0m in \u001b[0;36mg\u001b[0;34m(x)\u001b[0m\n\u001b[1;32m      1\u001b[0m \u001b[0;32mdef\u001b[0m \u001b[0mg\u001b[0m\u001b[0;34m(\u001b[0m\u001b[0mx\u001b[0m\u001b[0;34m)\u001b[0m\u001b[0;34m:\u001b[0m\u001b[0;34m\u001b[0m\u001b[0;34m\u001b[0m\u001b[0m\n\u001b[0;32m----> 2\u001b[0;31m     \u001b[0;32mreturn\u001b[0m \u001b[0mint\u001b[0m\u001b[0;34m(\u001b[0m\u001b[0;36m3\u001b[0m\u001b[0;34m)\u001b[0m \u001b[0;34m/\u001b[0m \u001b[0mint\u001b[0m\u001b[0;34m(\u001b[0m\u001b[0mx\u001b[0m\u001b[0;34m)\u001b[0m\u001b[0;34m\u001b[0m\u001b[0;34m\u001b[0m\u001b[0m\n\u001b[0m",
      "\u001b[0;31mZeroDivisionError\u001b[0m: division by zero"
     ]
    },
    {
     "data": {
      "text/html": [
       "\n",
       "    <div align=\"right\">\n",
       "        <a style='inherit;font-size:12px;' onclick='var x = document.getElementById(\"b09b22e4afc711edb07cf01898ea1966\"); if (x.style.display === \"none\") x.style.display = \"block\"; else x.style.display = \"none\";'>Full Details</a>\n",
       "    </div>\n",
       "    <pre style=\"font-size:14px;display:none; color: #3e424d; background-color:#FFDDDD;\" id=\"b09b22e4afc711edb07cf01898ea1966\"><style type=\"text/css\">\n",
       "    .ansi2html-content { display: inline; white-space: pre-wrap; word-wrap: break-word; }\n",
       "    .body_foreground { color: #3e424d; }\n",
       "    .body_background { background-color: #FFDDDD; }\n",
       "    .ansi1 { font-weight: bold; }\n",
       "    .ansi31 { color: #e75c58; }\n",
       "    .ansi32 { color: #00a250; }\n",
       "    .ansi34 { color: #208ffb; }\n",
       "    .ansi36 { color: #60c6c8; }\n",
       "    </style><span class=\"ansi31\">---------------------------------------------------------------------------</span>\n",
       "<span class=\"ansi31\">ZeroDivisionError</span>                         Traceback (most recent call last)\n",
       "<span class=\"ansi32\">/var/folders/hg/75dgl5gs1bj7vl_fv36njtvw000_1x/T/ipykernel_44992/3014613100.py</span> in <span class=\"ansi36\">&lt;module&gt;</span><span class=\"ansi34\"></span>\n",
       "<span class=\"ansi1 ansi32\">      1</span> <span class=\"ansi32\">from</span> datascience <span class=\"ansi32\">import</span> <span class=\"ansi34\">*</span><span class=\"ansi34\"></span><span class=\"ansi34\"></span>\n",
       "<span class=\"ansi1 ansi32\">      2</span> t <span class=\"ansi34\">=</span> Table<span class=\"ansi34\">(</span><span class=\"ansi34\">)</span><span class=\"ansi34\">.</span>with_columns<span class=\"ansi34\">(</span><span class=\"ansi34\">\"Moo\"</span><span class=\"ansi34\">,</span> make_array<span class=\"ansi34\">(</span><span class=\"ansi36\">1</span><span class=\"ansi34\">,</span><span class=\"ansi36\">2</span><span class=\"ansi34\">,</span><span class=\"ansi36\">0</span><span class=\"ansi34\">)</span><span class=\"ansi34\">)</span><span class=\"ansi34\"></span><span class=\"ansi34\"></span>\n",
       "<span class=\"ansi32\">----&gt; 3</span><span class=\"ansi31\"> </span>t<span class=\"ansi34\">.</span>apply<span class=\"ansi34\">(</span>g<span class=\"ansi34\">,</span> <span class=\"ansi34\">\"Moo\"</span><span class=\"ansi34\">)</span><span class=\"ansi34\"></span><span class=\"ansi34\"></span>\n",
       "\n",
       "<span class=\"ansi32\">~/other/cs104/libs/datascience/datascience/tables.py</span> in <span class=\"ansi36\">apply</span><span class=\"ansi34\">(self, fn, *column_or_columns)</span>\n",
       "<span class=\"ansi1 ansi32\">    555</span>                 column_or_columns <span class=\"ansi34\">=</span> column_or_columns<span class=\"ansi34\">[</span><span class=\"ansi36\">0</span><span class=\"ansi34\">]</span><span class=\"ansi34\"></span><span class=\"ansi34\"></span>\n",
       "<span class=\"ansi1 ansi32\">    556</span>             rows <span class=\"ansi34\">=</span> zip<span class=\"ansi34\">(</span><span class=\"ansi34\">*</span>self<span class=\"ansi34\">.</span>select<span class=\"ansi34\">(</span><span class=\"ansi34\">*</span>column_or_columns<span class=\"ansi34\">)</span><span class=\"ansi34\">.</span>columns<span class=\"ansi34\">)</span><span class=\"ansi34\"></span><span class=\"ansi34\"></span>\n",
       "<span class=\"ansi32\">--&gt; 557</span><span class=\"ansi31\">             </span><span class=\"ansi32\">return</span> np<span class=\"ansi34\">.</span>array<span class=\"ansi34\">(</span><span class=\"ansi34\">[</span>fn<span class=\"ansi34\">(</span><span class=\"ansi34\">*</span>row<span class=\"ansi34\">)</span> <span class=\"ansi32\">for</span> row <span class=\"ansi32\">in</span> rows<span class=\"ansi34\">]</span><span class=\"ansi34\">)</span><span class=\"ansi34\"></span><span class=\"ansi34\"></span>\n",
       "<span class=\"ansi1 ansi32\">    558</span> <span class=\"ansi34\"></span>\n",
       "<span class=\"ansi1 ansi32\">    559</span>     <span class=\"ansi32\">def</span> first<span class=\"ansi34\">(</span>self<span class=\"ansi34\">,</span> label<span class=\"ansi34\">)</span><span class=\"ansi34\">:</span><span class=\"ansi34\"></span><span class=\"ansi34\"></span>\n",
       "\n",
       "<span class=\"ansi32\">~/other/cs104/libs/datascience/datascience/tables.py</span> in <span class=\"ansi36\">&lt;listcomp&gt;</span><span class=\"ansi34\">(.0)</span>\n",
       "<span class=\"ansi1 ansi32\">    555</span>                 column_or_columns <span class=\"ansi34\">=</span> column_or_columns<span class=\"ansi34\">[</span><span class=\"ansi36\">0</span><span class=\"ansi34\">]</span><span class=\"ansi34\"></span><span class=\"ansi34\"></span>\n",
       "<span class=\"ansi1 ansi32\">    556</span>             rows <span class=\"ansi34\">=</span> zip<span class=\"ansi34\">(</span><span class=\"ansi34\">*</span>self<span class=\"ansi34\">.</span>select<span class=\"ansi34\">(</span><span class=\"ansi34\">*</span>column_or_columns<span class=\"ansi34\">)</span><span class=\"ansi34\">.</span>columns<span class=\"ansi34\">)</span><span class=\"ansi34\"></span><span class=\"ansi34\"></span>\n",
       "<span class=\"ansi32\">--&gt; 557</span><span class=\"ansi31\">             </span><span class=\"ansi32\">return</span> np<span class=\"ansi34\">.</span>array<span class=\"ansi34\">(</span><span class=\"ansi34\">[</span>fn<span class=\"ansi34\">(</span><span class=\"ansi34\">*</span>row<span class=\"ansi34\">)</span> <span class=\"ansi32\">for</span> row <span class=\"ansi32\">in</span> rows<span class=\"ansi34\">]</span><span class=\"ansi34\">)</span><span class=\"ansi34\"></span><span class=\"ansi34\"></span>\n",
       "<span class=\"ansi1 ansi32\">    558</span> <span class=\"ansi34\"></span>\n",
       "<span class=\"ansi1 ansi32\">    559</span>     <span class=\"ansi32\">def</span> first<span class=\"ansi34\">(</span>self<span class=\"ansi34\">,</span> label<span class=\"ansi34\">)</span><span class=\"ansi34\">:</span><span class=\"ansi34\"></span><span class=\"ansi34\"></span>\n",
       "\n",
       "<span class=\"ansi32\">/var/folders/hg/75dgl5gs1bj7vl_fv36njtvw000_1x/T/ipykernel_44992/2327013840.py</span> in <span class=\"ansi36\">g</span><span class=\"ansi34\">(x)</span>\n",
       "<span class=\"ansi1 ansi32\">      1</span> <span class=\"ansi32\">def</span> g<span class=\"ansi34\">(</span>x<span class=\"ansi34\">)</span><span class=\"ansi34\">:</span><span class=\"ansi34\"></span><span class=\"ansi34\"></span>\n",
       "<span class=\"ansi32\">----&gt; 2</span><span class=\"ansi31\">     </span><span class=\"ansi32\">return</span> int<span class=\"ansi34\">(</span><span class=\"ansi36\">3</span><span class=\"ansi34\">)</span> <span class=\"ansi34\">/</span> int<span class=\"ansi34\">(</span>x<span class=\"ansi34\">)</span><span class=\"ansi34\"></span><span class=\"ansi34\"></span>\n",
       "\n",
       "<span class=\"ansi31\">ZeroDivisionError</span>: division by zero</pre>\n",
       "    "
      ],
      "text/plain": [
       "<IPython.core.display.HTML object>"
      ]
     },
     "metadata": {},
     "output_type": "display_data"
    }
   ],
   "source": [
    "from datascience import *\n",
    "t = Table().with_columns(\"Moo\", make_array(1,2,0))\n",
    "t.apply(g, \"Moo\")"
   ]
  },
  {
   "cell_type": "code",
   "execution_count": null,
   "id": "3389e262-b481-471a-a9b8-c6f89e18212e",
   "metadata": {},
   "outputs": [],
   "source": [
    "from datascience import *\n",
    "t = Table().with_columns(\"Moo\", make_array(1,2,0), \"Cow\", [1])\n",
    "t.apply(g, \"Moo\")"
   ]
  },
  {
   "cell_type": "code",
   "execution_count": null,
   "id": "7779de43-3df5-48eb-a8ae-2686a2e58055",
   "metadata": {},
   "outputs": [],
   "source": [
    "def h(x):\n",
    "    t = Table().with_columns(\"Moo\", make_array(1,2,0))\n",
    "    t.apply(g, \"Moo\")    \n",
    "    \n",
    "t = Table().with_columns(\"Moo\", make_array(1,2,0))\n",
    "t.apply(h, \"Moo\")"
   ]
  },
  {
   "cell_type": "code",
   "execution_count": null,
   "id": "748a985e-38e3-4ae3-af0c-225a3f71e7e7",
   "metadata": {},
   "outputs": [],
   "source": [
    "%%test Part 1.1\n",
    "test_equal(1 + 2, 3)"
   ]
  },
  {
   "cell_type": "code",
   "execution_count": null,
   "id": "61100f93-960a-4347-ad78-54024fef78e8",
   "metadata": {},
   "outputs": [],
   "source": [
    "def f(x):\n",
    "    return 3 / x"
   ]
  },
  {
   "cell_type": "code",
   "execution_count": null,
   "id": "041e1c63-9850-42cd-ac70-5580ae57a4c9",
   "metadata": {},
   "outputs": [],
   "source": []
  },
  {
   "cell_type": "code",
   "execution_count": null,
   "id": "59952521-d30b-4b29-bfd4-79b3ebf891cf",
   "metadata": {},
   "outputs": [],
   "source": []
  },
  {
   "cell_type": "code",
   "execution_count": null,
   "id": "eaea6985-8d33-4d60-9344-633567bd7cd6",
   "metadata": {},
   "outputs": [],
   "source": []
  }
 ],
 "metadata": {
  "kernelspec": {
   "display_name": "Python 3 (ipykernel)",
   "language": "python",
   "name": "python3"
  },
  "language_info": {
   "codemirror_mode": {
    "name": "ipython",
    "version": 3
   },
   "file_extension": ".py",
   "mimetype": "text/x-python",
   "name": "python",
   "nbconvert_exporter": "python",
   "pygments_lexer": "ipython3",
   "version": "3.9.13"
  }
 },
 "nbformat": 4,
 "nbformat_minor": 5
}
