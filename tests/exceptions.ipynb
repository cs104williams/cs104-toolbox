{
 "cells": [
  {
   "cell_type": "code",
   "execution_count": null,
   "id": "1da78904-5769-4e20-a5dc-ba5069fd27fb",
   "metadata": {
    "tags": []
   },
   "outputs": [],
   "source": [
    "import cs104\n",
    "from datascience import *\n",
    "import numpy as np\n",
    "%matplotlib inline"
   ]
  },
  {
   "cell_type": "code",
   "execution_count": null,
   "id": "25f8e328-5e19-444a-ba4d-52fed5f10db8",
   "metadata": {
    "tags": []
   },
   "outputs": [],
   "source": [
    "finches = Table().read_table(\"finch_beaks_1975_dirty.csv\")"
   ]
  },
  {
   "cell_type": "code",
   "execution_count": null,
   "id": "077f714a-b38a-48a9-a927-c6777c4dc1b2",
   "metadata": {
    "tags": []
   },
   "outputs": [],
   "source": [
    "def f(x):\n",
    "    return g(x)"
   ]
  },
  {
   "cell_type": "code",
   "execution_count": null,
   "id": "47abbf6f-0d69-4986-a489-db9ea258ee31",
   "metadata": {
    "tags": []
   },
   "outputs": [],
   "source": [
    "def g(x):\n",
    "    return int(3) / int(x)"
   ]
  },
  {
   "cell_type": "code",
   "execution_count": null,
   "id": "de26dcbf-fa90-453c-9428-04d274bd8287",
   "metadata": {
    "tags": []
   },
   "outputs": [],
   "source": [
    "from datascience import *\n",
    "t = Table().with_columns(\"Moo\", make_array(1,2,0))\n",
    "t.apply(g, \"Moo\")"
   ]
  },
  {
   "cell_type": "code",
   "execution_count": null,
   "id": "3389e262-b481-471a-a9b8-c6f89e18212e",
   "metadata": {},
   "outputs": [],
   "source": [
    "from datascience import *\n",
    "t = Table().with_columns(\"Moo\", make_array(1,2,0), \"Cow\", [1])\n",
    "t.apply(g, \"Moo\")"
   ]
  },
  {
   "cell_type": "code",
   "execution_count": null,
   "id": "7779de43-3df5-48eb-a8ae-2686a2e58055",
   "metadata": {},
   "outputs": [],
   "source": [
    "def h(x):\n",
    "    t = Table().with_columns(\"Moo\", make_array(1,2,0))\n",
    "    t.apply(g, \"Moo\")    \n",
    "    \n",
    "t = Table().with_columns(\"Moo\", make_array(1,2,0))\n",
    "t.apply(h, \"Moo\")"
   ]
  },
  {
   "cell_type": "code",
   "execution_count": null,
   "id": "748a985e-38e3-4ae3-af0c-225a3f71e7e7",
   "metadata": {},
   "outputs": [],
   "source": [
    "%%test Part 1.1\n",
    "test_equal(1 + 2, 3)"
   ]
  },
  {
   "cell_type": "code",
   "execution_count": null,
   "id": "041e1c63-9850-42cd-ac70-5580ae57a4c9",
   "metadata": {},
   "outputs": [],
   "source": []
  },
  {
   "cell_type": "code",
   "execution_count": null,
   "id": "59952521-d30b-4b29-bfd4-79b3ebf891cf",
   "metadata": {},
   "outputs": [],
   "source": []
  },
  {
   "cell_type": "code",
   "execution_count": null,
   "id": "eaea6985-8d33-4d60-9344-633567bd7cd6",
   "metadata": {},
   "outputs": [],
   "source": []
  }
 ],
 "metadata": {
  "kernelspec": {
   "display_name": "Python 3 (ipykernel)",
   "language": "python",
   "name": "python3"
  },
  "language_info": {
   "codemirror_mode": {
    "name": "ipython",
    "version": 3
   },
   "file_extension": ".py",
   "mimetype": "text/x-python",
   "name": "python",
   "nbconvert_exporter": "python",
   "pygments_lexer": "ipython3",
   "version": "3.9.15"
  }
 },
 "nbformat": 4,
 "nbformat_minor": 5
}
