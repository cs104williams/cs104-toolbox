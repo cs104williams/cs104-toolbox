{
 "cells": [
  {
   "cell_type": "code",
   "execution_count": null,
   "id": "1da78904-5769-4e20-a5dc-ba5069fd27fb",
   "metadata": {},
   "outputs": [],
   "source": [
    "from cs104 import *\n",
    "from datascience import *\n",
    "import numpy as np\n",
    "%matplotlib inline"
   ]
  },
  {
   "cell_type": "code",
   "execution_count": null,
   "id": "25f8e328-5e19-444a-ba4d-52fed5f10db8",
   "metadata": {},
   "outputs": [],
   "source": [
    "penguins = Table().read_table('../../../lectures/data/penguins.csv')"
   ]
  },
  {
   "cell_type": "code",
   "execution_count": null,
   "id": "13dc50a2-d78f-48b0-9d0a-574729cc4b1f",
   "metadata": {},
   "outputs": [],
   "source": [
    "a,b = linear_regression(penguins,  \"bill_length_mm\", \"bill_depth_mm\")"
   ]
  },
  {
   "cell_type": "code",
   "execution_count": null,
   "id": "e67decf9-7805-4d1d-a050-2556acd00df3",
   "metadata": {},
   "outputs": [],
   "source": [
    "a,b"
   ]
  },
  {
   "cell_type": "code",
   "execution_count": null,
   "id": "d8e8b395-1db6-4556-aa74-8e2e0345986b",
   "metadata": {
    "tags": []
   },
   "outputs": [],
   "source": [
    "plot_regression_line_and_residuals(penguins, \"bill_length_mm\", \"bill_depth_mm\", a, b)"
   ]
  },
  {
   "cell_type": "code",
   "execution_count": null,
   "id": "739b5294-435d-4c04-b80b-59e8104baa4c",
   "metadata": {},
   "outputs": [],
   "source": [
    "plot_regression_line_and_mse_heat(penguins, \"bill_length_mm\", \"bill_depth_mm\", a, b, show_mse=\"2d\") "
   ]
  },
  {
   "cell_type": "code",
   "execution_count": null,
   "id": "dd434132-7202-49a1-975e-8827219ff78c",
   "metadata": {},
   "outputs": [],
   "source": [
    "plot_regression_line_and_mse_heat(penguins, \"bill_length_mm\", \"bill_depth_mm\", a, b, show_mse=\"3d\") "
   ]
  },
  {
   "cell_type": "code",
   "execution_count": null,
   "id": "b59e1672-62dc-4ccc-90de-7dacfe8aef1a",
   "metadata": {},
   "outputs": [],
   "source": [
    "from ipywidgets import interact, interactive, fixed, interact_manual, FloatSlider\n",
    "import ipywidgets as widgets\n",
    "\n",
    "def visualize_full_mse():\n",
    "    _ = widgets.interact(plot_regression_line_and_mse_heat, \n",
    "                     table = fixed(penguins.where('species', 'Gentoo')),\n",
    "                     x_label = fixed('bill_length_mm'),\n",
    "                     y_label = fixed('bill_depth_mm'),                     \n",
    "                     a = (-1,1,0.01),\n",
    "                     b = (0,30),\n",
    "                     show_mse=[None, \"2d\", \"3d\"],\n",
    "                        a_space=fixed(None), b_space=fixed(None))\n",
    "    \n",
    "visualize_full_mse()"
   ]
  },
  {
   "cell_type": "code",
   "execution_count": null,
   "id": "fb78dd0b-1418-4495-9a3a-0207b3f57e1d",
   "metadata": {},
   "outputs": [],
   "source": []
  }
 ],
 "metadata": {
  "kernelspec": {
   "display_name": "Python 3 (ipykernel)",
   "language": "python",
   "name": "python3"
  },
  "language_info": {
   "codemirror_mode": {
    "name": "ipython",
    "version": 3
   },
   "file_extension": ".py",
   "mimetype": "text/x-python",
   "name": "python",
   "nbconvert_exporter": "python",
   "pygments_lexer": "ipython3",
   "version": "3.9.13"
  },
  "vscode": {
   "interpreter": {
    "hash": "aee8b7b246df8f9039afb4144a1f6fd8d2ca17a180786b69acc140d282b71a49"
   }
  }
 },
 "nbformat": 4,
 "nbformat_minor": 5
}
