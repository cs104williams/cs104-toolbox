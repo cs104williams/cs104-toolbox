{
 "cells": [
  {
   "cell_type": "code",
   "execution_count": null,
   "id": "c3e69e2c-cca0-483e-bdda-42ee2e57ff8d",
   "metadata": {
    "tags": []
   },
   "outputs": [],
   "source": [
    "from datascience import *\n",
    "from cs104 import *\n",
    "import numpy as np\n",
    "%matplotlib inline"
   ]
  },
  {
   "cell_type": "code",
   "execution_count": null,
   "id": "52cf6ae7-c109-47f1-b6c8-0ebaac1484b6",
   "metadata": {
    "tags": []
   },
   "outputs": [],
   "source": [
    "def visualize_distributions(N, sample_size, num_trials):\n",
    "    \"\"\"A single function to run our simulation for a given N, sample_size, and num_trials.\"\"\"\n",
    "    population = np.arange(1, N+1)\n",
    "    \n",
    "    # Builds up our outcomes table one row at a time.  We do this to ensure\n",
    "    # we can apply both statistics to the same samples.\n",
    "    outcomes_table = Table([\"Max\", \"2*Mean\"])\n",
    "    \n",
    "    for i in np.arange(num_trials):\n",
    "        sample = np.random.choice(population, sample_size)\n",
    "        outcomes_table.append(make_array(max(sample), 2 * np.mean(sample)))\n",
    "        \n",
    "    outcomes_table.hist(bins=np.arange(1, 2 * N, 10),\n",
    "                        xlim=(0,800),\n",
    "                        ylim=(0,0.1),\n",
    "                        xlabel='Predicted N',\n",
    "                        title='Snoopy Fleet')\n",
    "    "
   ]
  },
  {
   "cell_type": "code",
   "execution_count": null,
   "id": "5e0aaa7e-8336-4d59-8772-ac940ebdc545",
   "metadata": {},
   "outputs": [],
   "source": []
  },
  {
   "cell_type": "code",
   "execution_count": null,
   "id": "c8a8e926-2df6-40e2-8274-21ba1d81fc4f",
   "metadata": {
    "tags": []
   },
   "outputs": [],
   "source": [
    "interact(visualize_distributions, N = 50, sample_size=Choice(10,20,30), num_trials=Slider(1,2,3))\n"
   ]
  },
  {
   "cell_type": "code",
   "execution_count": null,
   "id": "eac48c9d-5bc4-410e-ac9a-e28f2aaafa8a",
   "metadata": {
    "tags": []
   },
   "outputs": [],
   "source": [
    "interact(visualize_distributions, N = 50)\n"
   ]
  },
  {
   "cell_type": "code",
   "execution_count": null,
   "id": "64837064-6559-416a-be5f-57a8e0bcaf09",
   "metadata": {
    "tags": []
   },
   "outputs": [],
   "source": [
    "interact(visualize_distributions, N = 50, sample_size=Choice(10,20), num_trials=Slider((1,3),step=0.1))"
   ]
  },
  {
   "cell_type": "code",
   "execution_count": null,
   "id": "f529ed8b-c80c-4cb9-8967-987259148d13",
   "metadata": {
    "tags": []
   },
   "outputs": [],
   "source": [
    "cs104.interact(visualize_distributions, N = cs104.Fixed(50), sample_size=cs104.Choice(10,20,30), num_trials=cs104.Slider(100,1000))\n",
    "# visualize_distributions(100, 500, 100)"
   ]
  },
  {
   "cell_type": "code",
   "execution_count": null,
   "id": "7863c26e-4831-41ed-b44f-83e8ddeb7497",
   "metadata": {
    "tags": []
   },
   "outputs": [],
   "source": [
    "cs104.interact(visualize_distributions, N = cs104.Fixed(50), sample_size=cs104.Choice(10,20,30), num_trials=cs104.Slider(100))\n"
   ]
  },
  {
   "cell_type": "code",
   "execution_count": null,
   "id": "41f765cd-42c1-41ab-a89c-959781533540",
   "metadata": {
    "tags": []
   },
   "outputs": [],
   "source": [
    "cs104.interact(visualize_distributions, N = cs104.Fixed(50), sample_size=cs104.Choice(10,20,30), num_trials=cs104.Slider(1,2,3))\n"
   ]
  },
  {
   "cell_type": "code",
   "execution_count": null,
   "id": "735f5d48-5ae0-4a5a-8b6e-64ecdb01c7ae",
   "metadata": {
    "tags": []
   },
   "outputs": [],
   "source": [
    "cs104.interact(visualize_distributions, N = cs104.Fixed(50), sample_size=cs104.Choice(10,20,30), num_trials=cs104.Slider([1,2]))\n"
   ]
  },
  {
   "cell_type": "code",
   "execution_count": null,
   "id": "ec3287be-42b1-4043-884f-53845463ed9f",
   "metadata": {
    "tags": []
   },
   "outputs": [],
   "source": [
    "cs104.interact(visualize_distributions, N = cs104.Fixed(50), sample_size=cs104.Choice(10,20,30), num_trials=cs104.Slider([1,2],step=2))\n"
   ]
  },
  {
   "cell_type": "code",
   "execution_count": null,
   "id": "ed5ffc34-c098-4443-92f2-c23ebba3f07f",
   "metadata": {
    "tags": []
   },
   "outputs": [],
   "source": [
    "cs104.interact(visualize_distributions, N = cs104.Fixed(50), sample_size=cs104.Choice(10,20,30), num_trials=cs104.Slider([1,2]))\n"
   ]
  },
  {
   "cell_type": "code",
   "execution_count": null,
   "id": "17503a6b-bc34-48c8-825a-d630a4bb803d",
   "metadata": {
    "tags": []
   },
   "outputs": [],
   "source": [
    "def gen():\n",
    "    N, sample_size, num_trials = 100, 10, 0\n",
    "#    yield locals()\n",
    "    for i in np.arange(0,30,2):\n",
    "        num_trials = i\n",
    "        yield locals()\n",
    "    \n",
    "cs104.animate(visualize_distributions, gen, interval=500)"
   ]
  },
  {
   "cell_type": "code",
   "execution_count": null,
   "id": "93445d8a-0bf8-4bfc-9628-9527f81efebb",
   "metadata": {
    "tags": []
   },
   "outputs": [],
   "source": [
    "def gen():\n",
    "    N, sample_size, num_trials = 100, 10, 500\n",
    "#     yield locals()\n",
    "    for i in np.arange(100,500,50):\n",
    "        N = i\n",
    "        yield locals()\n",
    "    \n",
    "cs104.video(visualize_distributions, gen, interval=500)"
   ]
  },
  {
   "cell_type": "code",
   "execution_count": null,
   "id": "367f0749-436b-4656-bb5f-f7518bcac333",
   "metadata": {},
   "outputs": [],
   "source": []
  }
 ],
 "metadata": {
  "kernelspec": {
   "display_name": "Python 3 (ipykernel)",
   "language": "python",
   "name": "python3"
  },
  "language_info": {
   "codemirror_mode": {
    "name": "ipython",
    "version": 3
   },
   "file_extension": ".py",
   "mimetype": "text/x-python",
   "name": "python",
   "nbconvert_exporter": "python",
   "pygments_lexer": "ipython3",
   "version": "3.9.13"
  }
 },
 "nbformat": 4,
 "nbformat_minor": 5
}
