{
 "cells": [
  {
   "cell_type": "code",
   "execution_count": null,
   "id": "1da78904-5769-4e20-a5dc-ba5069fd27fb",
   "metadata": {},
   "outputs": [],
   "source": [
    "from cs104 import *\n",
    "from datascience import *\n",
    "import numpy as np\n",
    "%matplotlib inline"
   ]
  },
  {
   "cell_type": "code",
   "execution_count": null,
   "id": "0dc4ff87-c437-43b8-9484-123f31f4ff6a",
   "metadata": {},
   "outputs": [],
   "source": [
    "# Our population.  Only Snoopy knows the population.  We don't.  All we can do\n",
    "# is call `sample_plane_fleet` to observe planes flying overhead.\n",
    "\n",
    "N = 300\n",
    "population = np.arange(1, N+1)\n",
    "\n",
    "def sample_plane_fleet(sample_size):\n",
    "    return np.random.choice(population, sample_size)\n",
    "\n",
    "def twice_mean(sample):\n",
    "    return 2 * np.mean(sample)\n",
    "\n",
    "sim_stats = simulated_statistics(sample_plane_fleet, 10, twice_mean, 1000)\n",
    "p = visualize_simulated_statistics(sim_stats, observed_statistic=340, model_parameter=N)\n",
    "visualize_difference_from_model(sim_stats, observed_statistic=340, model_parameter=N, p_cutoff = 5)"
   ]
  },
  {
   "cell_type": "code",
   "execution_count": null,
   "id": "ea1556e0-7b06-4d72-a7f9-c67d635a55bb",
   "metadata": {},
   "outputs": [],
   "source": []
  }
 ],
 "metadata": {
  "kernelspec": {
   "display_name": "Python 3 (ipykernel)",
   "language": "python",
   "name": "python3"
  },
  "language_info": {
   "codemirror_mode": {
    "name": "ipython",
    "version": 3
   },
   "file_extension": ".py",
   "mimetype": "text/x-python",
   "name": "python",
   "nbconvert_exporter": "python",
   "pygments_lexer": "ipython3",
   "version": "3.9.13"
  },
  "vscode": {
   "interpreter": {
    "hash": "aee8b7b246df8f9039afb4144a1f6fd8d2ca17a180786b69acc140d282b71a49"
   }
  }
 },
 "nbformat": 4,
 "nbformat_minor": 5
}
