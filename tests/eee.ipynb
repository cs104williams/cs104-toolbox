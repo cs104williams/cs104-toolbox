{
 "cells": [
  {
   "cell_type": "code",
   "execution_count": null,
   "id": "4a2ae286-bfa7-4dd0-a4db-31f0904626b4",
   "metadata": {
    "tags": []
   },
   "outputs": [],
   "source": [
    "import traceback\n",
    "import inspect\n",
    "from cs104 import *\n",
    "\n",
    "@doc_tag(\"Moo\")\n",
    "def f():\n",
    "    return 3 / 0\n",
    "\n",
    "    \n",
    "# Hide any stack frames in the middle of the traceback\n",
    "#  that correspond to library code, using the sneaky\n",
    "#  special var trick.\n",
    "try:\n",
    "    f()\n",
    "except BaseException as exc:\n",
    "    for ff in traceback.walk_tb(exc.__traceback__):\n",
    "        frame = ff[0]\n",
    "        print(frame)\n"
   ]
  },
  {
   "cell_type": "code",
   "execution_count": null,
   "id": "c3b7e5b2-24fd-4048-86b2-3ac8f569af51",
   "metadata": {
    "tags": []
   },
   "outputs": [],
   "source": [
    "from datascience import *"
   ]
  },
  {
   "cell_type": "code",
   "execution_count": null,
   "id": "5aaad245-0e9b-493c-bb32-486ffcbee259",
   "metadata": {
    "tags": []
   },
   "outputs": [],
   "source": [
    "print([ k for k,_ in inspect.getmembers(Table,predicate=inspect.isroutine) ])"
   ]
  },
  {
   "cell_type": "code",
   "execution_count": null,
   "id": "2d129312-3a92-4601-9451-450cd7b99b2d",
   "metadata": {
    "tags": []
   },
   "outputs": [],
   "source": [
    "try:\n",
    "    Slider(1,2,3,4)\n",
    "except BaseException as exc:\n",
    "    for ff in traceback.walk_tb(exc.__traceback__):\n",
    "        frame = ff[0]\n",
    "        locals = frame.f_locals\n",
    "        print(frame.f_code)\n",
    "        print(locals.get(\"__doc_tag__\", None))\n"
   ]
  },
  {
   "cell_type": "code",
   "execution_count": null,
   "id": "285b37d8-68b7-48ac-a8ef-e4206d5948ce",
   "metadata": {
    "tags": []
   },
   "outputs": [],
   "source": [
    "Slider(1,2,3,4)"
   ]
  },
  {
   "cell_type": "code",
   "execution_count": null,
   "id": "a9761015-4c62-4005-bf1c-c92e1b033c7d",
   "metadata": {},
   "outputs": [],
   "source": [
    "check_between(1,2,3,3)"
   ]
  },
  {
   "cell_type": "code",
   "execution_count": null,
   "id": "4fafe4b4-49f8-4314-9194-52c41cdc91d3",
   "metadata": {
    "tags": []
   },
   "outputs": [],
   "source": [
    "Table().with_columns(\"A\", [ 1,2], \"B\", [1,2,3])"
   ]
  },
  {
   "cell_type": "code",
   "execution_count": null,
   "id": "a4cd4469-c89c-419b-a064-912f964b9287",
   "metadata": {},
   "outputs": [],
   "source": []
  }
 ],
 "metadata": {
  "kernelspec": {
   "display_name": "Python 3 (ipykernel)",
   "language": "python",
   "name": "python3"
  },
  "language_info": {
   "codemirror_mode": {
    "name": "ipython",
    "version": 3
   },
   "file_extension": ".py",
   "mimetype": "text/x-python",
   "name": "python",
   "nbconvert_exporter": "python",
   "pygments_lexer": "ipython3",
   "version": "3.9.15"
  }
 },
 "nbformat": 4,
 "nbformat_minor": 5
}
