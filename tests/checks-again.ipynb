{
 "cells": [
  {
   "cell_type": "code",
   "execution_count": null,
   "id": "78584b63-684e-4c9c-a2ce-a4ae3a084141",
   "metadata": {
    "tags": []
   },
   "outputs": [],
   "source": [
    "from cs104 import *"
   ]
  },
  {
   "cell_type": "code",
   "execution_count": null,
   "id": "914deb82",
   "metadata": {},
   "outputs": [],
   "source": [
    "x = 2\n",
    "y = 1"
   ]
  },
  {
   "cell_type": "code",
   "execution_count": null,
   "id": "554928e3-fe9d-4a9b-a0b3-2031e3369601",
   "metadata": {
    "tags": []
   },
   "outputs": [],
   "source": [
    "%check 0 < x < 2\n",
    "%check x < y\n",
    "%check 2 == x > y\n",
    "%check 0 <= p <= 1\n",
    "%check True\n",
    "%check False\n",
    "%check moo(2)\n",
    "%check moo(1)"
   ]
  },
  {
   "cell_type": "code",
   "execution_count": null,
   "id": "e986681f-9d9d-4ce3-b27e-12ce9c0ec358",
   "metadata": {
    "tags": []
   },
   "outputs": [],
   "source": [
    "%check not False\n",
    "%check not True\n",
    "%check True and True\n",
    "%check True and False\n",
    "%check True or True\n",
    "%check True or False\n",
    "%check x < 2 or x < 2\n",
    "%check not(x < 2 or x < 2)\n",
    "%check not(x <= 2 or x <= 2)\n",
    "%check aaa == 2\n",
    "%assert_true True\n",
    "%assert_false False\n",
    "%check a ) a a"
   ]
  },
  {
   "cell_type": "code",
   "execution_count": null,
   "id": "30a8edb6-f256-4bce-b064-bf5474f427ce",
   "metadata": {
    "tags": []
   },
   "outputs": [],
   "source": [
    "%check 1.000001 == approx(1)\n",
    "%check 1.001 == approx(1)\n",
    "%check 1.001 == approx(1.1)\n",
    "%check 1.001 == approx(\"a\")\n",
    "%check 1.001 == approx(True)\n",
    "\n",
    "%check 1 in between(0,1)\n",
    "%check 1 in between_or_equal(0,1)"
   ]
  },
  {
   "cell_type": "code",
   "execution_count": null,
   "id": "a5b649fe",
   "metadata": {},
   "outputs": [],
   "source": [
    "%check 2 < 2"
   ]
  },
  {
   "cell_type": "code",
   "execution_count": null,
   "id": "65c3841e",
   "metadata": {},
   "outputs": [],
   "source": [
    "from datascience import *\n",
    "\n",
    "a = make_array(1,2,3,4)\n",
    "\n",
    "%check a < 3\n",
    "%check a < a\n",
    "%check a <= a\n",
    "%check 0 < a < 5\n",
    "%check 1 < a < 3\n",
    "%check a <= make_array(1,2,3,3)\n",
    "%check a <= make_array(1,2,3)\n",
    "%check a != (1,2,3,4)"
   ]
  },
  {
   "cell_type": "code",
   "execution_count": null,
   "id": "a8705b88",
   "metadata": {},
   "outputs": [],
   "source": [
    "x = ...\n",
    "%check x == 0\n",
    "%check aaa == 0\n",
    "y = 2\n",
    "%check y != 2"
   ]
  },
  {
   "cell_type": "code",
   "execution_count": null,
   "id": "4891ca0b",
   "metadata": {},
   "outputs": [],
   "source": [
    "a = 1\n",
    "b = 2\n",
    "c = 3\n",
    "%check a == 1 and b == 2\n",
    "%check a == 1 and b == 1\n",
    "%check a == 1 or b == 1\n",
    "%check a == 1 or b == 1 or c == 3\n",
    "%check a == 1 and b == 1 and c == 3\n",
    "%check a == 1 and b == 1 and c == 2\n",
    "%check not(a == 1)"
   ]
  },
  {
   "cell_type": "code",
   "execution_count": null,
   "id": "bb7dd74a-a63b-43ac-9f39-650d3fc3c7ea",
   "metadata": {
    "tags": []
   },
   "outputs": [],
   "source": [
    "# from cs104 import *\n",
    "\n",
    "# check_less_than(0,x,2)\n",
    "# check_less_than(x,y)\n",
    "# check_equal(2,x)\n",
    "# check_greater_than(x,y)\n",
    "# check_between_or_equal(p, 0, 1)\n",
    "# check(True)\n",
    "# check(False)\n",
    "# check(moo(2))\n",
    "# check(moo(1))"
   ]
  },
  {
   "cell_type": "code",
   "execution_count": null,
   "id": "08711c7f-ce12-4c2b-9592-a4dd3797af2e",
   "metadata": {},
   "outputs": [],
   "source": []
  }
 ],
 "metadata": {
  "kernelspec": {
   "display_name": "Python 3 (ipykernel)",
   "language": "python",
   "name": "python3"
  },
  "language_info": {
   "codemirror_mode": {
    "name": "ipython",
    "version": 3
   },
   "file_extension": ".py",
   "mimetype": "text/x-python",
   "name": "python",
   "nbconvert_exporter": "python",
   "pygments_lexer": "ipython3",
   "version": "3.9.13"
  }
 },
 "nbformat": 4,
 "nbformat_minor": 5
}
