{
 "cells": [
  {
   "cell_type": "code",
   "execution_count": 134,
   "id": "78584b63-684e-4c9c-a2ce-a4ae3a084141",
   "metadata": {
    "tags": []
   },
   "outputs": [],
   "source": [
    "from IPython.core.magic import (register_line_magic, register_cell_magic,\n",
    "                                register_line_cell_magic, needs_local_scope)\n",
    "from ast import *\n",
    "import numpy as np\n",
    "from textwrap import indent"
   ]
  },
  {
   "cell_type": "code",
   "execution_count": 135,
   "id": "0d9e3302-c116-4f01-a8e6-a4f790cfc3dc",
   "metadata": {
    "tags": []
   },
   "outputs": [],
   "source": [
    "def print_message(test, message):\n",
    "    if np.shape(message) != ():\n",
    "        message = \"\\n\".join(message)\n",
    "\n",
    "    print(\"\\u001b[35m\\u001b[1m🐝 \" + test)      \n",
    "    print(indent(message, \"      \"))\n",
    "    print(\"\\u001b[0m\")\n"
   ]
  },
  {
   "cell_type": "code",
   "execution_count": 204,
   "id": "67b440ea-77d6-43f8-b962-671371b061d3",
   "metadata": {
    "tags": []
   },
   "outputs": [],
   "source": [
    "@register_line_magic\n",
    "@needs_local_scope\n",
    "def check(line, local_ns=None):\n",
    "    \n",
    "    def test(op, left, right):\n",
    "        t = type(op)\n",
    "        if t == Lt:\n",
    "            return left < right\n",
    "        elif t == Eq:\n",
    "            return left == right\n",
    "        elif t == LtE:\n",
    "            return left <= right\n",
    "        else:\n",
    "            return left != right\n",
    "\n",
    "    def neg(op):\n",
    "        t = type(op)\n",
    "        if t == Lt:\n",
    "            return \">=\"\n",
    "        elif t == Eq:\n",
    "            return \"!=\"\n",
    "        elif t == LtE:\n",
    "            return \">\"\n",
    "        else:\n",
    "            return \"==\"\n",
    "        \n",
    "    def my_eval(expr):\n",
    "        body = expr.body\n",
    "        message = [ ]\n",
    "        if type(body) is Compare:\n",
    "            left = body.left\n",
    "            left_value = eval(compile(ast.unparse(left), '', 'eval'), None, local_ns)\n",
    "            for op,right in zip(body.ops, body.comparators):\n",
    "                right_value = eval(compile(ast.unparse(right), '', 'eval'), None, local_ns)\n",
    "                x =  test(op, left_value, right_value)\n",
    "                if not x:\n",
    "                    m = \"\"\n",
    "                    if type(left) != Constant:\n",
    "                        m = m + f\"{ast.unparse(left)} == {left_value} and \"\n",
    "                    if type(right) != Constant:\n",
    "                        m = m + f\"{ast.unparse(right)} == {right_value} and \"                        \n",
    "                    m = m + f'{left_value} {neg(op)} {right_value}'\n",
    "                    message += [ m ]\n",
    "                left, left_value = right, right_value\n",
    "            if message != [ ]:\n",
    "                print_message(f'check failed: {ast.unparse(expr)}', message)\n",
    "        else:\n",
    "            if not eval(ast.unparse(expr)):\n",
    "                print_message(f'check failed: {ast.unparse(expr)}', 'Expression is not true')\n",
    "    \n",
    "    a = parse(line, mode='eval')\n",
    "    my_eval(a)\n",
    "del check"
   ]
  },
  {
   "cell_type": "code",
   "execution_count": 205,
   "id": "296babab-0116-4b97-89f5-8673ccd06797",
   "metadata": {
    "tags": []
   },
   "outputs": [],
   "source": [
    "x = 2\n",
    "y = 1\n",
    "p = 0.5\n",
    "\n",
    "def moo(x):\n",
    "    return x % 2 == 0"
   ]
  },
  {
   "cell_type": "code",
   "execution_count": 211,
   "id": "bb7dd74a-a63b-43ac-9f39-650d3fc3c7ea",
   "metadata": {
    "tags": []
   },
   "outputs": [
    {
     "name": "stdout",
     "output_type": "stream",
     "text": [
      "\u001b[35m\u001b[1m🐝 check_less_than(0,x,2)\n",
      "      x == 2 and 2 >= 2\n",
      "\u001b[0m\n",
      "\u001b[35m\u001b[1m🐝 check_less_than(x,y)\n",
      "      x == 2 and y == 1 and 2 >= 1\n",
      "\u001b[0m\n"
     ]
    },
    {
     "ename": "NameError",
     "evalue": "name 'true' is not defined",
     "output_type": "error",
     "traceback": [
      "\u001b[0;31m---------------------------------------------------------------------------\u001b[0m",
      "\u001b[0;31mNameError\u001b[0m                                 Traceback (most recent call last)",
      "Cell \u001b[0;32mIn[211], line 8\u001b[0m\n\u001b[1;32m      6\u001b[0m check_greater_than(x,y)\n\u001b[1;32m      7\u001b[0m check_between_or_equal(p, \u001b[38;5;241m0\u001b[39m, \u001b[38;5;241m1\u001b[39m)\n\u001b[0;32m----> 8\u001b[0m check(\u001b[43mtrue\u001b[49m)\n\u001b[1;32m      9\u001b[0m check(\u001b[38;5;28;01mFalse\u001b[39;00m)\n\u001b[1;32m     10\u001b[0m check(moo(\u001b[38;5;241m2\u001b[39m))\n",
      "\u001b[0;31mNameError\u001b[0m: name 'true' is not defined"
     ]
    },
    {
     "data": {
      "text/html": [
       "\n",
       "        <div class=\"m-2\" style=\"padding-left: 5px; margin-right: -20px; padding-top:20px; padding-bottom:5px; background-color:#FFDDDD;\">\n",
       "\n",
       "        </div> \n",
       "          <div align=\"right\" style=\"margin-right: -20px;\">             <a style='inherit;font-size:12px;'                 onclick='var x = document.getElementById(\"accf2492f40c11edab51e450ebba2308\");                if (x.style.display === \"none\")                  x.style.display = \"block\";                  else x.style.display = \"none\";'>               Full Details\n",
       "            </a>\n",
       "          </div>\n",
       "        <pre style=\"margin-right: -20px;                     font-size:14px;display:none;                     color: #3e424d;                      background-color:#FFDDDD;\"              id=\"accf2492f40c11edab51e450ebba2308\"><style type=\"text/css\">\n",
       "    .ansi2html-content { display: inline; white-space: pre-wrap; word-wrap: break-word; }\n",
       "    .body_foreground { color: #3e424d; }\n",
       "    .body_background { background-color: #FFDDDD; }\n",
       "    .ansi1 { font-weight: bold; }\n",
       "    .ansi31 { color: #e75c58; }\n",
       "    .ansi32 { color: #00a250; }\n",
       "    .ansi34 { color: #208ffb; }\n",
       "    .ansi36 { color: #60c6c8; }\n",
       "    </style><span class=\"ansi31\">---------------------------------------------------------------------------</span>\n",
       "<span class=\"ansi31\">NameError</span>                                 Traceback (most recent call last)\n",
       "Cell <span class=\"ansi32\">In[211], line 8</span>\n",
       "<span class=\"ansi1 ansi32\">      6</span> check_greater_than(x,y)\n",
       "<span class=\"ansi1 ansi32\">      7</span> check_between_or_equal(p, <span class=\"ansi38-241\">0</span>, <span class=\"ansi38-241\">1</span>)\n",
       "<span class=\"ansi32\">----&gt; 8</span> check(<span class=\"ansi43\">true</span>)\n",
       "<span class=\"ansi1 ansi32\">      9</span> check(<span class=\"ansi1 ansi38-28\">False</span>)\n",
       "<span class=\"ansi1 ansi32\">     10</span> check(moo(<span class=\"ansi38-241\">2</span>))\n",
       "\n",
       "<span class=\"ansi31\">NameError</span>: name 'true' is not defined</pre>\n"
      ],
      "text/plain": [
       "<IPython.core.display.HTML object>"
      ]
     },
     "metadata": {},
     "output_type": "display_data"
    }
   ],
   "source": [
    "from cs104 import *\n",
    "\n",
    "check_less_than(0,x,2)\n",
    "check_less_than(x,y)\n",
    "check_equal(2,x)\n",
    "check_greater_than(x,y)\n",
    "check_between_or_equal(p, 0, 1)\n",
    "check(True)\n",
    "check(False)\n",
    "check(moo(2))\n",
    "check(moo(1))"
   ]
  },
  {
   "cell_type": "code",
   "execution_count": 209,
   "id": "554928e3-fe9d-4a9b-a0b3-2031e3369601",
   "metadata": {
    "tags": []
   },
   "outputs": [
    {
     "name": "stdout",
     "output_type": "stream",
     "text": [
      "\u001b[35m\u001b[1m🐝 check failed: 0 < x < 2\n",
      "      x == 2 and 2 >= 2\n",
      "\u001b[0m\n",
      "\u001b[35m\u001b[1m🐝 check failed: x < y\n",
      "      x == 2 and y == 1 and 2 >= 1\n",
      "\u001b[0m\n",
      "\u001b[35m\u001b[1m🐝 check failed: False\n",
      "      Expression is not true\n",
      "\u001b[0m\n",
      "\u001b[35m\u001b[1m🐝 check failed: moo(1)\n",
      "      Expression is not true\n",
      "\u001b[0m\n"
     ]
    }
   ],
   "source": [
    "%check 0 < x < 2\n",
    "%check x < y\n",
    "%check 2 == x > y\n",
    "%check 0 <= p <= 1\n",
    "%check True\n",
    "%check False\n",
    "%check moo(2)\n",
    "%check moo(1)"
   ]
  },
  {
   "cell_type": "code",
   "execution_count": null,
   "id": "e986681f-9d9d-4ce3-b27e-12ce9c0ec358",
   "metadata": {
    "tags": []
   },
   "outputs": [],
   "source": []
  },
  {
   "cell_type": "code",
   "execution_count": null,
   "id": "08711c7f-ce12-4c2b-9592-a4dd3797af2e",
   "metadata": {},
   "outputs": [],
   "source": []
  }
 ],
 "metadata": {
  "kernelspec": {
   "display_name": "Python 3 (ipykernel)",
   "language": "python",
   "name": "python3"
  },
  "language_info": {
   "codemirror_mode": {
    "name": "ipython",
    "version": 3
   },
   "file_extension": ".py",
   "mimetype": "text/x-python",
   "name": "python",
   "nbconvert_exporter": "python",
   "pygments_lexer": "ipython3",
   "version": "3.9.15"
  }
 },
 "nbformat": 4,
 "nbformat_minor": 5
}
